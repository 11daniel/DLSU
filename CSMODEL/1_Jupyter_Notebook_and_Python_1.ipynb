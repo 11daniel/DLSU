{
  "cells": [
    {
      "cell_type": "markdown",
      "metadata": {
        "id": "view-in-github",
        "colab_type": "text"
      },
      "source": [
        "<a href=\"https://colab.research.google.com/github/11daniel/CSINTSY/blob/main/1_Jupyter_Notebook_and_Python_1.ipynb\" target=\"_parent\"><img src=\"https://colab.research.google.com/assets/colab-badge.svg\" alt=\"Open In Colab\"/></a>"
      ]
    },
    {
      "cell_type": "markdown",
      "metadata": {
        "id": "Zt6cx4tONj_X"
      },
      "source": [
        "# Welcome to your first Jupyter Notebook in CSMODEL!\n",
        "Notebooks are a great way to organize computational operations on data. We will be heavily using Notebooks in our CSMODEL course. This first Notebook is split into two parts. First, it contains a quick introduction to Jupyter Notebooks. Second, it contains a concise Python 3 crash course. Python 3 is the programming language that we will be mainly using throughout CSMODEL.\n",
        "\n",
        "Our Notebooks in CSMODEL are designed to be guided learning activities. To use them, simply go through the cells from top to bottom, following the directions along the way. If you find any unclear parts or mistakes in the Notebooks, email your instructor."
      ]
    },
    {
      "cell_type": "markdown",
      "metadata": {
        "id": "2Y-ws5s-D0bD"
      },
      "source": [
        "## Cells\n",
        "There are two types of cells in our notebooks.\n",
        "\n",
        "The one you are looking at right now is a **markdown cell**. It contains text that you can format using a the Markdown language.\n",
        "\n",
        "The other type of cell is a **code cell**. It contains Python code that you can execute. An example of this is the cell below this one. Click on that cell and press CTRL + Enter to execute the code in that cell."
      ]
    },
    {
      "cell_type": "code",
      "execution_count": null,
      "metadata": {
        "id": "A5vlL2jfDNoE"
      },
      "outputs": [],
      "source": [
        "2 + 5"
      ]
    },
    {
      "cell_type": "markdown",
      "metadata": {
        "id": "NGRsEaRjHTka"
      },
      "source": [
        "As you can see above, if the code cell contains an expression, it will display the result of evaluating that expression when you run it. You can also use Ctrl + Enter to run the cell and automatically move to the next one."
      ]
    },
    {
      "cell_type": "markdown",
      "metadata": {
        "id": "J9k8lCPbHTkb"
      },
      "source": [
        "You can double click on a markup cell to see the code that generated it. Double click on this cell to see the Markdown code behind it. To return to the output, run the cell using CTRL + Enter or Shift + Enter.\n",
        "\n",
        "# This is a title\n",
        "## This is a heading\n",
        "### This is a subheading\n",
        "---\n",
        "This is a text where some part is **bold** and some part is *italic*.\n",
        "> This is a blockquote\n",
        "---\n",
        "This is a numbered list.\n",
        "1. Item 1\n",
        "2. Item 2\n",
        "3. Item 3\n",
        "---\n",
        "This is an unordered list.\n",
        "- Item 1\n",
        "- Item 2\n",
        "- Item 3\n",
        "---\n",
        "For more details and the rest of the Markdown syntax, refer to this __[link](https://www.markdownguide.org/getting-started/)__."
      ]
    },
    {
      "cell_type": "markdown",
      "metadata": {
        "id": "vf8VuAWJHTkc"
      },
      "source": [
        "## Cell Navigation\n",
        "\n",
        "Notebooks come with lots of keyboard shortcuts and you are highly encouraged to use them for easy navigation between cells. Here are some of them:\n",
        "\n",
        "- **Up / Down Arrow Keys**: Move to the previous / next cell.\n",
        "- **CTRL + Enter**: Run the selected cell/s.\n",
        "- **Shift + Enter**: Run the selected cell and move to the next one.\n",
        "- **A**: Insert cell above.\n",
        "- **B**: Insert cell below.\n",
        "- **M**: Change cell type to *Markdown*.\n",
        "- **Y**: Change cell type to *Code*.\n",
        "- **D (twice)**: Delete selected cell/s.\n",
        "- **X**: Cut selected cell/s.\n",
        "- **C**: Copy selected cell/s.\n",
        "- **V**: Paste selected cell/s."
      ]
    },
    {
      "cell_type": "markdown",
      "metadata": {
        "id": "Mr0AhkWjHTkd"
      },
      "source": [
        "## Python 3 Crash Course\n",
        "Since we will be using Python 3 in this course, the following section gives you a quick crash course on the language. Please take the time to familiarize yourself with the Python 3 syntax and its capabilities. **Make sure that you run each of the code examples below to see them in action.**"
      ]
    },
    {
      "cell_type": "markdown",
      "metadata": {
        "id": "f6SWCAVDHTke"
      },
      "source": [
        "### Variables\n",
        "In Python, variables don't need to be declared before use."
      ]
    },
    {
      "cell_type": "markdown",
      "metadata": {
        "id": "MO0T0egJHTke"
      },
      "source": [
        "These are **number** variables."
      ]
    },
    {
      "cell_type": "code",
      "execution_count": null,
      "metadata": {
        "id": "QAfVZV0mHTkf"
      },
      "outputs": [],
      "source": [
        "integerVar = 100\n",
        "floatVar = 3.14\n",
        "print(integerVar)\n",
        "print(floatVar)"
      ]
    },
    {
      "cell_type": "code",
      "execution_count": null,
      "metadata": {
        "id": "WkPdxstcHTki"
      },
      "outputs": [],
      "source": [
        "type(integerVar)"
      ]
    },
    {
      "cell_type": "code",
      "execution_count": null,
      "metadata": {
        "id": "C8GAOHuYHTkl"
      },
      "outputs": [],
      "source": [
        "type(floatVar)"
      ]
    },
    {
      "cell_type": "markdown",
      "metadata": {
        "id": "Xs5yt7-NHTko"
      },
      "source": [
        "These are **string** variables. Strings may also be enclosed with single quotes (')"
      ]
    },
    {
      "cell_type": "code",
      "execution_count": null,
      "metadata": {
        "id": "sp5qgU8KHTko"
      },
      "outputs": [],
      "source": [
        "stringVar = 'Hello World'\n",
        "print(stringVar)"
      ]
    },
    {
      "cell_type": "code",
      "execution_count": null,
      "metadata": {
        "id": "uyDiKQeLHTkr",
        "scrolled": true
      },
      "outputs": [],
      "source": [
        "type(stringVar)"
      ]
    },
    {
      "cell_type": "markdown",
      "metadata": {
        "id": "dOT4bhxmHTkt"
      },
      "source": [
        "**bool** (boolean) values in Python are either `True` or `False`. Note that the first letter should be **capitalized**."
      ]
    },
    {
      "cell_type": "code",
      "execution_count": null,
      "metadata": {
        "id": "oy_069ueHTku",
        "scrolled": true
      },
      "outputs": [],
      "source": [
        "trueVar = True\n",
        "falseVar = False\n",
        "print(trueVar)\n",
        "print(falseVar)"
      ]
    },
    {
      "cell_type": "code",
      "execution_count": null,
      "metadata": {
        "id": "O1qcsHE4HTkw"
      },
      "outputs": [],
      "source": [
        "type(trueVar)"
      ]
    },
    {
      "cell_type": "code",
      "execution_count": null,
      "metadata": {
        "id": "9o9mYKKGHTkz"
      },
      "outputs": [],
      "source": [
        "type(falseVar)"
      ]
    },
    {
      "cell_type": "markdown",
      "metadata": {
        "id": "k6fjOGzbHTk1"
      },
      "source": [
        "### Arithmetic Operations\n",
        "Arithmetic operations are similar with most other programming languages.\n",
        "One unique arithmetic operator in Python is the exponentiation operator (`**`)."
      ]
    },
    {
      "cell_type": "markdown",
      "metadata": {
        "id": "AL4CmG7GNj_h"
      },
      "source": [
        "The cell below has no output, but be sure to execute it because the next cells use the variables created here."
      ]
    },
    {
      "cell_type": "code",
      "execution_count": null,
      "metadata": {
        "id": "ljuA0X5eHTk2"
      },
      "outputs": [],
      "source": [
        "op1 = 10\n",
        "op2 = 4"
      ]
    },
    {
      "cell_type": "markdown",
      "metadata": {
        "id": "yCHW9pPbNj_h"
      },
      "source": [
        "Perform addition."
      ]
    },
    {
      "cell_type": "code",
      "execution_count": null,
      "metadata": {
        "id": "24IQ4dpTHTk5"
      },
      "outputs": [],
      "source": [
        "op1 + op2"
      ]
    },
    {
      "cell_type": "markdown",
      "metadata": {
        "id": "hVHee8m2Nj_i"
      },
      "source": [
        "Perform subtraction."
      ]
    },
    {
      "cell_type": "code",
      "execution_count": null,
      "metadata": {
        "id": "RdDGaT9GHTk7",
        "scrolled": true
      },
      "outputs": [],
      "source": [
        "op1 - op2"
      ]
    },
    {
      "cell_type": "markdown",
      "metadata": {
        "id": "HTgS2xlaNj_i"
      },
      "source": [
        "Perform multiplication."
      ]
    },
    {
      "cell_type": "code",
      "execution_count": null,
      "metadata": {
        "id": "ACk3tnChHTk-",
        "scrolled": true
      },
      "outputs": [],
      "source": [
        "op1 * op2"
      ]
    },
    {
      "cell_type": "markdown",
      "metadata": {
        "id": "JcZvSsreNj_i"
      },
      "source": [
        "Perform real number division."
      ]
    },
    {
      "cell_type": "code",
      "execution_count": null,
      "metadata": {
        "id": "ZVSncN_sHTlB"
      },
      "outputs": [],
      "source": [
        "op1 / op2"
      ]
    },
    {
      "cell_type": "markdown",
      "metadata": {
        "id": "eVLepwFxNj_j"
      },
      "source": [
        "Perform integer division."
      ]
    },
    {
      "cell_type": "code",
      "execution_count": null,
      "metadata": {
        "id": "lXe_FpJaHTlD"
      },
      "outputs": [],
      "source": [
        "op1 // op2"
      ]
    },
    {
      "cell_type": "markdown",
      "metadata": {
        "id": "WizQVRV_Nj_j"
      },
      "source": [
        "Perform modulo operation."
      ]
    },
    {
      "cell_type": "code",
      "execution_count": null,
      "metadata": {
        "id": "cTDSznccHTlG"
      },
      "outputs": [],
      "source": [
        "op1 % op2"
      ]
    },
    {
      "cell_type": "markdown",
      "metadata": {
        "id": "vacL-9X6Nj_j"
      },
      "source": [
        "Perform exponentiation."
      ]
    },
    {
      "cell_type": "code",
      "execution_count": null,
      "metadata": {
        "id": "ag3_9Vd4HTlI"
      },
      "outputs": [],
      "source": [
        "op1 ** op2"
      ]
    },
    {
      "cell_type": "markdown",
      "metadata": {
        "id": "jX5YMgzwHTlK"
      },
      "source": [
        "Complex expressions follow the usual operator precedence in most other languages."
      ]
    },
    {
      "cell_type": "code",
      "execution_count": null,
      "metadata": {
        "id": "bufhN8bjHTlK",
        "scrolled": false
      },
      "outputs": [],
      "source": [
        "10 * (3 + 4 / 2) - 25"
      ]
    },
    {
      "cell_type": "markdown",
      "metadata": {
        "id": "py-HKDgUHTlM"
      },
      "source": [
        "**Practice!** Determine the result of the following expression before running it."
      ]
    },
    {
      "cell_type": "code",
      "execution_count": null,
      "metadata": {
        "id": "7HIoA_yXHTlP"
      },
      "outputs": [],
      "source": [
        "20 + 5 / 2 - (2 ** 3)"
      ]
    },
    {
      "cell_type": "markdown",
      "metadata": {
        "id": "mhHDx3WCHTlR"
      },
      "source": [
        "### String Operations\n",
        "Here are some basic operations you can perform on strings. You can play around some of these code to gain a better understanding of how they work."
      ]
    },
    {
      "cell_type": "markdown",
      "metadata": {
        "id": "VvYpNyTiNj_q"
      },
      "source": [
        "Concatenation - Connect two strings together."
      ]
    },
    {
      "cell_type": "code",
      "execution_count": null,
      "metadata": {
        "id": "3MvPwZIlHTlR"
      },
      "outputs": [],
      "source": [
        "'left' + 'right'"
      ]
    },
    {
      "cell_type": "markdown",
      "metadata": {
        "id": "YNWxjK_FNj_r"
      },
      "source": [
        "Get the number of characters in a string."
      ]
    },
    {
      "cell_type": "code",
      "execution_count": null,
      "metadata": {
        "id": "kmVnGHA1HTlU",
        "scrolled": true
      },
      "outputs": [],
      "source": [
        "text = 'sometext'\n",
        "len(text)"
      ]
    },
    {
      "cell_type": "markdown",
      "metadata": {
        "id": "Lf3kFAXnNj_r"
      },
      "source": [
        "Get a part or substring of a string. You can change the indices to explore how slicing works."
      ]
    },
    {
      "cell_type": "code",
      "execution_count": null,
      "metadata": {
        "id": "EGJuFgBOHTlW",
        "scrolled": false
      },
      "outputs": [],
      "source": [
        "text = 'somemoretext'\n",
        "text[4:8]"
      ]
    },
    {
      "cell_type": "markdown",
      "metadata": {
        "id": "fCD2Nzx5HTlY"
      },
      "source": [
        "**Practice!** Write a single expression at the end of the following code cell to produce the string `'monarch'` using concatenation and substring operations on `text1` and `text2` only."
      ]
    },
    {
      "cell_type": "code",
      "execution_count": null,
      "metadata": {
        "colab": {
          "base_uri": "https://localhost:8080/"
        },
        "id": "W_r2NaUMHTlY",
        "outputId": "7489d804-3a70-4d07-e639-9ac586f65d07"
      },
      "outputs": [
        {
          "output_type": "stream",
          "name": "stdout",
          "text": [
            "monarch\n"
          ]
        }
      ],
      "source": [
        "text1 = 'greenarchers'\n",
        "text2 = 'animolasalle'\n",
        "\n",
        "# Write your code here\n",
        "text3 = text2[3:5] + text1[4:9]\n",
        "print(text3)"
      ]
    },
    {
      "cell_type": "markdown",
      "metadata": {
        "id": "QO1RxXOtHTla"
      },
      "source": [
        "### Lists\n",
        "Lists are Python's version of arrays. Unlike languages like Java, elements of a list do not need to be the same datatype. Python lists are zero-indexed, meaning the first element is at index 0."
      ]
    },
    {
      "cell_type": "markdown",
      "metadata": {
        "id": "tuBcIoqLNj_s"
      },
      "source": [
        "Create a list."
      ]
    },
    {
      "cell_type": "code",
      "execution_count": null,
      "metadata": {
        "id": "UWo03cpJHTlb",
        "scrolled": true
      },
      "outputs": [],
      "source": [
        "items = [4, 7, 3.14, 'text']\n",
        "items"
      ]
    },
    {
      "cell_type": "markdown",
      "metadata": {
        "id": "5weJ3OT_Nj_t"
      },
      "source": [
        "Get the number of elements in the list `items`."
      ]
    },
    {
      "cell_type": "code",
      "execution_count": null,
      "metadata": {
        "id": "EvfRxvOPHTld"
      },
      "outputs": [],
      "source": [
        "len(items)"
      ]
    },
    {
      "cell_type": "markdown",
      "metadata": {
        "id": "o4ApWeuYNj_t"
      },
      "source": [
        "Get the value in index 1 of list `items`."
      ]
    },
    {
      "cell_type": "code",
      "execution_count": null,
      "metadata": {
        "id": "C6KY_K9dHTlg"
      },
      "outputs": [],
      "source": [
        "items[1]"
      ]
    },
    {
      "cell_type": "markdown",
      "metadata": {
        "id": "M9URUtM4Nj_u"
      },
      "source": [
        "Check if the value `3.14` is a member of list `items`."
      ]
    },
    {
      "cell_type": "code",
      "execution_count": null,
      "metadata": {
        "id": "t299UdHqHTlj"
      },
      "outputs": [],
      "source": [
        "3.14 in items"
      ]
    },
    {
      "cell_type": "markdown",
      "metadata": {
        "id": "ggoD-CdVNj_v"
      },
      "source": [
        "Concatenate a list to another list."
      ]
    },
    {
      "cell_type": "code",
      "execution_count": null,
      "metadata": {
        "id": "9jML_GDBHTll"
      },
      "outputs": [],
      "source": [
        "items + ['a', 'b' + 'c']"
      ]
    },
    {
      "cell_type": "markdown",
      "metadata": {
        "id": "GofXe2rENj_w"
      },
      "source": [
        "Append values to the end of the list."
      ]
    },
    {
      "cell_type": "code",
      "execution_count": null,
      "metadata": {
        "id": "WC3JD0ijHTlq"
      },
      "outputs": [],
      "source": [
        "numbers = [1, 2, 3, 4, 5]\n",
        "numbers.append(100)\n",
        "numbers"
      ]
    },
    {
      "cell_type": "markdown",
      "metadata": {
        "id": "uqareW45Nj_x"
      },
      "source": [
        "Remove the element at a given index."
      ]
    },
    {
      "cell_type": "code",
      "execution_count": null,
      "metadata": {
        "id": "t2iKK2K1HTls"
      },
      "outputs": [],
      "source": [
        "numbers = [1, 2, 3, 4, 5]\n",
        "numbers.pop(2)\n",
        "numbers"
      ]
    },
    {
      "cell_type": "markdown",
      "metadata": {
        "id": "d9Rio7H1Nj_x"
      },
      "source": [
        "Clear all elements of the list."
      ]
    },
    {
      "cell_type": "code",
      "execution_count": null,
      "metadata": {
        "id": "pTG1HX3MHTlu"
      },
      "outputs": [],
      "source": [
        "numbers = [1, 2, 3, 4, 5]\n",
        "numbers.clear()\n",
        "numbers"
      ]
    },
    {
      "cell_type": "markdown",
      "metadata": {
        "id": "sQ7p9rPxHTlx"
      },
      "source": [
        "**Practice!**: Determine the output of the code cell below before running it."
      ]
    },
    {
      "cell_type": "code",
      "execution_count": null,
      "metadata": {
        "id": "OpjPK2jqHTlx"
      },
      "outputs": [],
      "source": [
        "numbers = [1, 2, 3, 4, 5]\n",
        "numbers.append(6)\n",
        "numbers.pop(3)\n",
        "numbers[4]"
      ]
    },
    {
      "cell_type": "markdown",
      "metadata": {
        "id": "Ool_hI05Nj_y"
      },
      "source": [
        "### Dictionaries\n",
        "Dictionaries are a collection of key-value pairs. Unlike lists, they are **unordered**. Instead of indexing them, you can access the values by specifiying the key."
      ]
    },
    {
      "cell_type": "code",
      "execution_count": null,
      "metadata": {
        "id": "p1uQTogkHTl2"
      },
      "outputs": [],
      "source": [
        "student = {\n",
        "    'name': 'Jon',\n",
        "    'age': 10,\n",
        "    'sex': 'M'\n",
        "}\n",
        "student"
      ]
    },
    {
      "cell_type": "markdown",
      "metadata": {
        "id": "RJKGVKeSNj_z"
      },
      "source": [
        "Access the value of key `name`."
      ]
    },
    {
      "cell_type": "code",
      "execution_count": null,
      "metadata": {
        "id": "hGWafa3CHTl4",
        "scrolled": true
      },
      "outputs": [],
      "source": [
        "student['name']"
      ]
    },
    {
      "cell_type": "markdown",
      "metadata": {
        "id": "NLKmUkhIHTl6"
      },
      "source": [
        "Note that the values of dictionaries could be lists, or even dictionaries."
      ]
    },
    {
      "cell_type": "code",
      "execution_count": null,
      "metadata": {
        "colab": {
          "base_uri": "https://localhost:8080/"
        },
        "id": "N7gOKw3yHTl7",
        "outputId": "b7d0d886-fe4b-4dd0-bd9c-6e983a697fe8"
      },
      "outputs": [
        {
          "output_type": "execute_result",
          "data": {
            "text/plain": [
              "{'name': 'Robb',\n",
              " 'age': 12,\n",
              " 'interests': ['math', 'science', 'cooking'],\n",
              " 'favorites': {'food': 'adobo', 'color': 'blue'}}"
            ]
          },
          "metadata": {},
          "execution_count": 5
        }
      ],
      "source": [
        "student = {\n",
        "    'name': 'Robb',\n",
        "    'age': 12,\n",
        "    'interests': ['math', 'science', 'cooking'],\n",
        "    'favorites': {\n",
        "        'food': 'adobo',\n",
        "        'color': 'blue'\n",
        "    }\n",
        "}\n",
        "student"
      ]
    },
    {
      "cell_type": "markdown",
      "metadata": {
        "id": "_reruNfcNj_z"
      },
      "source": [
        "Access the first value in the list with key `interest`."
      ]
    },
    {
      "cell_type": "code",
      "execution_count": null,
      "metadata": {
        "id": "K2XF0ur8HTl9"
      },
      "outputs": [],
      "source": [
        "student['interests'][1]"
      ]
    },
    {
      "cell_type": "markdown",
      "metadata": {
        "id": "UW0uSuXvHTmA"
      },
      "source": [
        "**Practice!** Write an expression to access Robb's favorite color."
      ]
    },
    {
      "cell_type": "code",
      "execution_count": null,
      "metadata": {
        "colab": {
          "base_uri": "https://localhost:8080/",
          "height": 35
        },
        "id": "vR3wizD9HTmB",
        "outputId": "2c1e4354-fd26-4a39-da1d-01e0830e38cd"
      },
      "outputs": [
        {
          "output_type": "execute_result",
          "data": {
            "text/plain": [
              "'blue'"
            ],
            "application/vnd.google.colaboratory.intrinsic+json": {
              "type": "string"
            }
          },
          "metadata": {},
          "execution_count": 7
        }
      ],
      "source": [
        "# Write your code here\n",
        "student['favorites']['color']"
      ]
    },
    {
      "cell_type": "markdown",
      "metadata": {
        "id": "4bsLmO_rHTmF"
      },
      "source": [
        "### `if`, `elif`, and `else`\n",
        "Like in other languages, you can create branching programs with if-else control structures. Here, we introduce the syntax of those strutures in Python through some examples.\n",
        "\n",
        "Note that in Python, blocks are not grouped using curly braces { } but are instead grouped by the level of indention."
      ]
    },
    {
      "cell_type": "markdown",
      "metadata": {
        "id": "mKzAgqLDNj_0"
      },
      "source": [
        "Below is an example using `if` and `else`. You may change the value of `x` to get a different result."
      ]
    },
    {
      "cell_type": "code",
      "execution_count": null,
      "metadata": {
        "id": "DoYPI-j4HTmF"
      },
      "outputs": [],
      "source": [
        "x = 7\n",
        "if x in [3, 5, 7, 11, 13, 17, 19]:\n",
        "    print('x is a prime number less than 20')\n",
        "else:\n",
        "    print('x is not a prime number less than 20')"
      ]
    },
    {
      "cell_type": "markdown",
      "metadata": {
        "id": "Y1jrcAUzNj_1"
      },
      "source": [
        "Below is an example using `if`, `elif`, and `else`. The keyword `elif` is equivalent to `else if` in other programming languages. You may change the value of `grade` to get a different result."
      ]
    },
    {
      "cell_type": "code",
      "execution_count": null,
      "metadata": {
        "id": "GPn5djKKHTmH"
      },
      "outputs": [],
      "source": [
        "grade = 5\n",
        "if grade > 50:\n",
        "    print('grade is greater than 50')\n",
        "elif grade > 10:\n",
        "    print('grade is greater than 10 but not greater than 50')\n",
        "else:\n",
        "    print('grade is less than or equal to 10')"
      ]
    },
    {
      "cell_type": "markdown",
      "metadata": {
        "id": "yClENn95Nj_1"
      },
      "source": [
        "Below is an example with nested if-else blocks. You may change the value of `x` to get a different result."
      ]
    },
    {
      "cell_type": "code",
      "execution_count": null,
      "metadata": {
        "id": "p7JFj7VjHTmK"
      },
      "outputs": [],
      "source": [
        "x = 50\n",
        "if x >= 20:\n",
        "    if x <= 60:\n",
        "        print('x is between 20 and 60, inclusive')\n",
        "    else:\n",
        "        print('x is greater than 60')\n",
        "else:\n",
        "    print('x is less than 20')"
      ]
    },
    {
      "cell_type": "markdown",
      "metadata": {
        "id": "6FFAZDthNj_2"
      },
      "source": [
        "Below is an example with the logical operator `and`. You may change the value of `x` to get a different result."
      ]
    },
    {
      "cell_type": "code",
      "execution_count": null,
      "metadata": {
        "id": "JOyT0yqjHTmM",
        "scrolled": true
      },
      "outputs": [],
      "source": [
        "x = 50\n",
        "if x >= 20 and x <= 60:\n",
        "    print('x is between 20 and 60, inclusive')\n",
        "elif x < 20 or x > 60:\n",
        "    print('x is less than 20 or greater than 60')"
      ]
    },
    {
      "cell_type": "markdown",
      "metadata": {
        "id": "fDxw2USWHTmN"
      },
      "source": [
        "### `while` Loop\n",
        "You can also use loops in Python. For now, we will look at the `while` loop only as the `for` loop works slightly differently in Python than in most other languages. The `for` loop will be covered later on in this Notebook."
      ]
    },
    {
      "cell_type": "code",
      "execution_count": null,
      "metadata": {
        "id": "T_rG0OArHTmO"
      },
      "outputs": [],
      "source": [
        "n = 2048\n",
        "while n > 0:\n",
        "    print(n)\n",
        "    n = n // 2"
      ]
    },
    {
      "cell_type": "code",
      "execution_count": null,
      "metadata": {
        "id": "W9m4JeWaHTmP",
        "scrolled": true
      },
      "outputs": [],
      "source": [
        "list = ['i', 'am', 'a', 'good', 'boy']\n",
        "while len(list) > 0:\n",
        "    print(list[0])\n",
        "    list.pop(0)"
      ]
    },
    {
      "cell_type": "markdown",
      "metadata": {
        "id": "Crf2YmfkHTmR"
      },
      "source": [
        "### Functions\n",
        "Functions in Python use the following notation:\n",
        "```\n",
        "def <function name>(<arguments>):\n",
        "    <statements>\n",
        "```"
      ]
    },
    {
      "cell_type": "markdown",
      "metadata": {
        "id": "bfSDFxUiNj_3"
      },
      "source": [
        "Below is an example function and its function call."
      ]
    },
    {
      "cell_type": "code",
      "execution_count": null,
      "metadata": {
        "id": "TYxbLsjTHTmS"
      },
      "outputs": [],
      "source": [
        "def remainder(n, m):\n",
        "    while n - m > 0:\n",
        "        n = n - m\n",
        "    return n"
      ]
    },
    {
      "cell_type": "code",
      "execution_count": null,
      "metadata": {
        "id": "2Y2HqobbHTmU"
      },
      "outputs": [],
      "source": [
        "remainder(10, 4)"
      ]
    },
    {
      "cell_type": "markdown",
      "metadata": {
        "id": "w75esIpZHTmW"
      },
      "source": [
        "**Practice**: Use conditional and iterative statements to define a function `is_prime` that returns `True` if a number `n` is prime and `False` otherwise. Assume we will handle only numbers less than 100 so there is no need to use an efficient algorithm (just check if each number below `n` is a factor).\n",
        "\n",
        "In Python, empty functions will have an error if you don't put the `pass` statement in them. When you write your function, remember to remove that line."
      ]
    },
    {
      "cell_type": "code",
      "execution_count": null,
      "metadata": {
        "id": "dePqFjDvHTmX"
      },
      "outputs": [],
      "source": [
        "def is_prime(n):\n",
        "    # Write your code here\n",
        "    # Check if n is less than 2\n",
        "    if n < 2:\n",
        "        return False\n",
        "\n",
        "    # Check if n is divisible by any number from 2 to n-1\n",
        "    for i in range(2, n):\n",
        "        if n % i == 0:\n",
        "            return False\n",
        "\n",
        "    # If no divisor is found, n is prime\n",
        "    return True\n"
      ]
    },
    {
      "cell_type": "code",
      "execution_count": null,
      "metadata": {
        "colab": {
          "base_uri": "https://localhost:8080/"
        },
        "id": "KpEMutgHHTmZ",
        "outputId": "a204d22e-640c-4ea6-b721-08ba369e26d4"
      },
      "outputs": [
        {
          "output_type": "stream",
          "name": "stdout",
          "text": [
            "True\n",
            "False\n",
            "False\n",
            "True\n",
            "False\n",
            "False\n"
          ]
        }
      ],
      "source": [
        "print(is_prime(7))\n",
        "print(is_prime(9))\n",
        "print(is_prime(33))\n",
        "print(is_prime(47))\n",
        "print(is_prime(80))\n",
        "print(is_prime(1))"
      ]
    },
    {
      "cell_type": "markdown",
      "metadata": {
        "id": "cIinldxpHTmd"
      },
      "source": [
        "## The New Stuff\n",
        "So far, we have covered Python features that are more or less probably familiar to you already from your experiences in your previous programming classes. Now, we will look at a few capabilities of Python that may be new to you. You are **required** to be familiar with these features as we move forward in CSMODEL to please take the time to get yourself comfortable with these."
      ]
    },
    {
      "cell_type": "markdown",
      "metadata": {
        "id": "6lmIg5zxHTmd"
      },
      "source": [
        "### Tuples\n",
        "You can think of tuples as lists but have fixed values that cannot be changed. You also cannot add or remove elements from it."
      ]
    },
    {
      "cell_type": "markdown",
      "metadata": {
        "id": "CN4-5Z7VNj__"
      },
      "source": [
        "Create tuples."
      ]
    },
    {
      "cell_type": "code",
      "execution_count": null,
      "metadata": {
        "id": "wY6CqmW9HTme"
      },
      "outputs": [],
      "source": [
        "t1 = (1, 3)\n",
        "t2 = (6, 4, 7)\n",
        "print(t1)\n",
        "print(t2)"
      ]
    },
    {
      "cell_type": "markdown",
      "metadata": {
        "id": "Jrs3He6CNkAA"
      },
      "source": [
        "Get the number of elements in the tuple."
      ]
    },
    {
      "cell_type": "code",
      "execution_count": null,
      "metadata": {
        "id": "Laz1JcvbHTmi",
        "scrolled": true
      },
      "outputs": [],
      "source": [
        "print(len(t1))\n",
        "print(len(t2))"
      ]
    },
    {
      "cell_type": "markdown",
      "metadata": {
        "id": "3TUvVBi3NkAB"
      },
      "source": [
        "Get the value in index 0 of tuple `t1` and in index 1 of tuple `t2`."
      ]
    },
    {
      "cell_type": "code",
      "execution_count": null,
      "metadata": {
        "id": "MqPeAdzoHTml",
        "scrolled": false
      },
      "outputs": [],
      "source": [
        "print(t1[0])\n",
        "print(t2[1])"
      ]
    },
    {
      "cell_type": "markdown",
      "metadata": {
        "id": "-pr_tO1eNkAC"
      },
      "source": [
        "The code below will cause an error since tuples are immutable."
      ]
    },
    {
      "cell_type": "code",
      "execution_count": null,
      "metadata": {
        "id": "yaCooxsvHTmn",
        "scrolled": false
      },
      "outputs": [],
      "source": [
        "t1[0] = 1"
      ]
    },
    {
      "cell_type": "markdown",
      "metadata": {
        "id": "kwaX599XHTmp"
      },
      "source": [
        "### List Slicing\n",
        "In Python, it is easy to select parts of an list using slice notations."
      ]
    },
    {
      "cell_type": "markdown",
      "metadata": {
        "id": "UcmKurMJNkAC"
      },
      "source": [
        "The cell below has no output, but be sure to execute it because the next cells use the variables created here."
      ]
    },
    {
      "cell_type": "code",
      "execution_count": null,
      "metadata": {
        "id": "mpbQOQkLHTmp"
      },
      "outputs": [],
      "source": [
        "multiples = [5, 10, 15, 20, 25, 30, 35, 40, 45, 50]"
      ]
    },
    {
      "cell_type": "markdown",
      "metadata": {
        "id": "XeH53_TDNkAD"
      },
      "source": [
        "Get every element in index range `[3, 8)`."
      ]
    },
    {
      "cell_type": "code",
      "execution_count": null,
      "metadata": {
        "id": "8whCu9egHTms"
      },
      "outputs": [],
      "source": [
        "multiples[3:8]"
      ]
    },
    {
      "cell_type": "markdown",
      "metadata": {
        "id": "sSdQA-VDNkAD"
      },
      "source": [
        "Since no end index is specified, get everything from index 4 to the end."
      ]
    },
    {
      "cell_type": "code",
      "execution_count": null,
      "metadata": {
        "id": "obW5-BErHTmv"
      },
      "outputs": [],
      "source": [
        "multiples[4:]"
      ]
    },
    {
      "cell_type": "markdown",
      "metadata": {
        "id": "4XM9BhCmNkAE"
      },
      "source": [
        "Since no start index is specified, get everything from the beginning up to index 4, exclusive."
      ]
    },
    {
      "cell_type": "code",
      "execution_count": null,
      "metadata": {
        "id": "rY60LzNMHTmx",
        "scrolled": true
      },
      "outputs": [],
      "source": [
        "multiples[:4]"
      ]
    },
    {
      "cell_type": "markdown",
      "metadata": {
        "id": "dqUtafMeHTmz"
      },
      "source": [
        "If you use negative integers for the start or end indices, it means that you are counting **from the end of the list**. In the example below, start at index 8 (2nd element from the end of the list) and include all elements until the end of the list."
      ]
    },
    {
      "cell_type": "code",
      "execution_count": null,
      "metadata": {
        "id": "PyPBk8YXHTmz"
      },
      "outputs": [],
      "source": [
        "multiples[-2:]"
      ]
    },
    {
      "cell_type": "markdown",
      "metadata": {
        "id": "DiHkfZLUNkAG"
      },
      "source": [
        "Include all elements from the beginning until index 8 (2nd element from the end of the list), exclusive."
      ]
    },
    {
      "cell_type": "code",
      "execution_count": null,
      "metadata": {
        "id": "lPv_z0RdHTm1"
      },
      "outputs": [],
      "source": [
        "multiples[:-2]"
      ]
    },
    {
      "cell_type": "markdown",
      "metadata": {
        "id": "wP1jtvR4HTm3"
      },
      "source": [
        "**Practice!**: Write a single expression that creates a new list containing the first 3 and last 3 elements of the original list.\n",
        "\n",
        "`arr`: `[1, 2, 3, 4, 5, 6, 7, 8, 9, 10]`\n",
        "\n",
        "Expected: `[1, 2, 3, 8, 9, 10]`\n",
        "\n",
        "**Note:** It should work even if you change the number of elements of `arr`. You may assume `arr` always has at least 6 elements.\n"
      ]
    },
    {
      "cell_type": "code",
      "execution_count": null,
      "metadata": {
        "colab": {
          "base_uri": "https://localhost:8080/"
        },
        "id": "q-7e0HQcHTm3",
        "outputId": "82117b59-f5df-4694-f4a8-de1f93b95d4f"
      },
      "outputs": [
        {
          "output_type": "stream",
          "name": "stdout",
          "text": [
            "[1, 2, 3, 8, 9, 10]\n"
          ]
        }
      ],
      "source": [
        "arr = [1, 2, 3, 4, 5, 6, 7, 8, 9, 10]\n",
        "# Write your code here\n",
        "new_arr = arr[:3] + arr[7:]\n",
        "print(new_arr)"
      ]
    },
    {
      "cell_type": "markdown",
      "metadata": {
        "id": "IuxBrm4sHTm4"
      },
      "source": [
        "### Generator Functions\n",
        "A generator function is a function that produces a sequence of values. The values are produced using the `yield` keyword. Every time `yield` is called, a value is produced. For example, this is a function that produces the numbers from 1 to `n` using a `while` loop."
      ]
    },
    {
      "cell_type": "code",
      "execution_count": null,
      "metadata": {
        "id": "0nDD5M8bHTm5"
      },
      "outputs": [],
      "source": [
        "def gen_num_up_to(n):\n",
        "    num = 1\n",
        "    while num <= n:\n",
        "        yield num\n",
        "        num += 1"
      ]
    },
    {
      "cell_type": "markdown",
      "metadata": {
        "id": "uVzc_25pHTm6"
      },
      "source": [
        "Here is a generator function that produces the first 15 terms of the __[fibonacci sequence](https://www.mathsisfun.com/numbers/fibonacci-sequence.html)__."
      ]
    },
    {
      "cell_type": "code",
      "execution_count": null,
      "metadata": {
        "id": "VCZDNSaxHTm7"
      },
      "outputs": [],
      "source": [
        "def gen_fib():\n",
        "    a = 0\n",
        "    b = 1\n",
        "    yield a\n",
        "    yield b\n",
        "    ctr = 2\n",
        "    while ctr < 15:\n",
        "        c = a + b\n",
        "        yield c\n",
        "        a = b\n",
        "        b = c\n",
        "        ctr += 1"
      ]
    },
    {
      "cell_type": "markdown",
      "metadata": {
        "id": "tpV1Vn6XHTm8"
      },
      "source": [
        "You can use generator functions to initialize the elements of a list like the following examples."
      ]
    },
    {
      "cell_type": "code",
      "execution_count": null,
      "metadata": {
        "colab": {
          "base_uri": "https://localhost:8080/"
        },
        "id": "fRLTRoheHTm8",
        "outputId": "558f0573-f941-491a-eb50-619d8dd51a80"
      },
      "outputs": [
        {
          "output_type": "execute_result",
          "data": {
            "text/plain": [
              "[1, 2, 3, 4, 5, 6, 7, 8, 9, 10]"
            ]
          },
          "metadata": {},
          "execution_count": 23
        }
      ],
      "source": [
        "[v for v in gen_num_up_to(10)]"
      ]
    },
    {
      "cell_type": "code",
      "execution_count": null,
      "metadata": {
        "id": "mEOf1mgdHTm9"
      },
      "outputs": [],
      "source": [
        "[v for v in gen_num_up_to(20)]"
      ]
    },
    {
      "cell_type": "code",
      "execution_count": null,
      "metadata": {
        "id": "akfj12q5HTnB"
      },
      "outputs": [],
      "source": [
        "[v for v in gen_fib()]"
      ]
    },
    {
      "cell_type": "markdown",
      "metadata": {
        "id": "IlmlMSgoHTnD"
      },
      "source": [
        "**Practice!**: Write a generator function called `gen_five()` that generates multiples of 5 between 1 and 100 inclusive."
      ]
    },
    {
      "cell_type": "code",
      "execution_count": null,
      "metadata": {
        "id": "RlWog5Y3HTnD"
      },
      "outputs": [],
      "source": [
        "# Write your code here\n",
        "def gen_five():\n",
        "  for num in range(1,101):\n",
        "    if num % 5 ==0:\n",
        "      yield num\n",
        "\n"
      ]
    },
    {
      "cell_type": "code",
      "execution_count": null,
      "metadata": {
        "colab": {
          "base_uri": "https://localhost:8080/"
        },
        "id": "m5peIkG5HTnF",
        "outputId": "40cc9803-e943-4ffc-d3d2-a7e39b3fd713",
        "scrolled": true
      },
      "outputs": [
        {
          "output_type": "execute_result",
          "data": {
            "text/plain": [
              "[5,\n",
              " 10,\n",
              " 15,\n",
              " 20,\n",
              " 25,\n",
              " 30,\n",
              " 35,\n",
              " 40,\n",
              " 45,\n",
              " 50,\n",
              " 55,\n",
              " 60,\n",
              " 65,\n",
              " 70,\n",
              " 75,\n",
              " 80,\n",
              " 85,\n",
              " 90,\n",
              " 95,\n",
              " 100]"
            ]
          },
          "metadata": {},
          "execution_count": 32
        }
      ],
      "source": [
        "[v for v in gen_five()]"
      ]
    },
    {
      "cell_type": "markdown",
      "metadata": {
        "id": "Y_n1OQrUHTnG"
      },
      "source": [
        "### `range` Function\n",
        "The `range` function is a built-in function that can also be used to initialize arrays. The `range` function is **not** a generator function (it is a function that returns an immutable sequence type), but for now you can think of it as having a similar purpose."
      ]
    },
    {
      "cell_type": "markdown",
      "metadata": {
        "id": "2kuXl64FNkAP"
      },
      "source": [
        "Generate integers from 0 to the given number (exclusive) with a step of 1. In the example below, the given number is 10."
      ]
    },
    {
      "cell_type": "code",
      "execution_count": null,
      "metadata": {
        "id": "DYbJ2mXpHTnH"
      },
      "outputs": [],
      "source": [
        "[v for v in range(10)]"
      ]
    },
    {
      "cell_type": "markdown",
      "metadata": {
        "id": "JhwhJkwzNkAQ"
      },
      "source": [
        "Generate integers from a given range with a step of 1. In the example below, the lower bound is 10, while the upper bound is 20. The code below will include all integers in the range `[10, 20)`."
      ]
    },
    {
      "cell_type": "code",
      "execution_count": null,
      "metadata": {
        "id": "g-pCVkGRHTnI"
      },
      "outputs": [],
      "source": [
        "[v for v in range(10, 20)]"
      ]
    },
    {
      "cell_type": "markdown",
      "metadata": {
        "id": "ZRAsuma9NkAR"
      },
      "source": [
        "Generate integers from a given range with a given step. In the example below, the lower bound is 1, the upper bound is 50, and the step size is 3."
      ]
    },
    {
      "cell_type": "code",
      "execution_count": null,
      "metadata": {
        "id": "-zoNhybEHTnK"
      },
      "outputs": [],
      "source": [
        "[v for v in range(1, 50, 3)]"
      ]
    },
    {
      "cell_type": "markdown",
      "metadata": {
        "id": "AndqVxK0HTnL"
      },
      "source": [
        "### `for` Loops\n",
        "In Python, a `for` loop is a versatile way to write loops that iterate over sequences or elements of a list. Here are some examples on how you can use a `for` loop in Python."
      ]
    },
    {
      "cell_type": "markdown",
      "metadata": {
        "id": "ryR_9Ge4NkAS"
      },
      "source": [
        "Iterate over a list."
      ]
    },
    {
      "cell_type": "code",
      "execution_count": null,
      "metadata": {
        "id": "E4NZr1flHTnM",
        "scrolled": true
      },
      "outputs": [],
      "source": [
        "fruits = ['apple', 'banana', 'orange', 'grapes', 'pineapple']\n",
        "for x in fruits:\n",
        "    print(x)"
      ]
    },
    {
      "cell_type": "markdown",
      "metadata": {
        "id": "ojT7WxT_NkAT"
      },
      "source": [
        "Iterate over a sequence of elements from a generator function."
      ]
    },
    {
      "cell_type": "code",
      "execution_count": null,
      "metadata": {
        "id": "d-t4INVZHTnO",
        "scrolled": true
      },
      "outputs": [],
      "source": [
        "def gen_numbers():\n",
        "    n = 1\n",
        "    while n < 100:\n",
        "        yield n\n",
        "        n = 2 * n + 1\n",
        "\n",
        "for x in gen_numbers():\n",
        "    print(x)"
      ]
    },
    {
      "cell_type": "markdown",
      "metadata": {
        "id": "RZGPFKlkNkAT"
      },
      "source": [
        "Iterate over a sequence of numbers from a range function call."
      ]
    },
    {
      "cell_type": "code",
      "execution_count": null,
      "metadata": {
        "id": "s4U5MCdMHTnP",
        "scrolled": true
      },
      "outputs": [],
      "source": [
        "for x in range(10):\n",
        "    print(x)"
      ]
    },
    {
      "cell_type": "markdown",
      "metadata": {
        "id": "NRt9tG9oNkAT"
      },
      "source": [
        "Iterate over the characters of a given string."
      ]
    },
    {
      "cell_type": "code",
      "execution_count": null,
      "metadata": {
        "id": "fk3_VwFoHTnR"
      },
      "outputs": [],
      "source": [
        "for x in 'Hello':\n",
        "    print(x)"
      ]
    },
    {
      "cell_type": "markdown",
      "metadata": {
        "id": "kZ8aj7H_NkAV"
      },
      "source": [
        "The example below shows a nested `for` loop."
      ]
    },
    {
      "cell_type": "code",
      "execution_count": null,
      "metadata": {
        "id": "pvYszFjcHTnT",
        "scrolled": true
      },
      "outputs": [],
      "source": [
        "# nested for loop\n",
        "for x in range(6):\n",
        "    line = ''\n",
        "    for y in range(x):\n",
        "        line += '*'\n",
        "    print(line)"
      ]
    },
    {
      "cell_type": "markdown",
      "metadata": {
        "id": "rd3u2CXoHTnV"
      },
      "source": [
        "**Practice**: Write a `for` loop that prints all multiples of 7 from 1 to 100.\n",
        "\n",
        "> Add blockquote\n",
        "\n"
      ]
    },
    {
      "cell_type": "code",
      "execution_count": null,
      "metadata": {
        "colab": {
          "base_uri": "https://localhost:8080/"
        },
        "id": "ebrzI1PjHTnX",
        "outputId": "3b604e04-9ef3-4ed3-b983-a6ff069e6290"
      },
      "outputs": [
        {
          "output_type": "stream",
          "name": "stdout",
          "text": [
            "7\n",
            "14\n",
            "21\n",
            "28\n",
            "35\n",
            "42\n",
            "49\n",
            "56\n",
            "63\n",
            "70\n",
            "77\n",
            "84\n",
            "91\n",
            "98\n"
          ]
        }
      ],
      "source": [
        "# Write your code here\n",
        "for i in range(1, 101):\n",
        "  if i % 7 == 0:\n",
        "    print(i)\n",
        "\n",
        "\n"
      ]
    },
    {
      "cell_type": "markdown",
      "metadata": {
        "id": "viKp024INkAW"
      },
      "source": [
        "### Lambda Functions\n",
        "You can think of lambda functions as short, anonymous (no name) functions. Lambda functions return a value, but can only have a **single** expression inside."
      ]
    },
    {
      "cell_type": "markdown",
      "metadata": {
        "id": "-cNIoeIuNkAW"
      },
      "source": [
        "The code below is an lambda function for doubling a given number."
      ]
    },
    {
      "cell_type": "code",
      "execution_count": null,
      "metadata": {
        "id": "v3g8XGdzNkAW"
      },
      "outputs": [],
      "source": [
        "doubler = lambda x : x * 2"
      ]
    },
    {
      "cell_type": "markdown",
      "metadata": {
        "id": "bZK8L9-gNkAX"
      },
      "source": [
        "In this case, `x` is the parameter of the function, and the function returns `x * 2`. The lambda function is then assigned to a variable called `doubler`. We can call this function like a normal function."
      ]
    },
    {
      "cell_type": "code",
      "execution_count": null,
      "metadata": {
        "id": "2XOlPiDFNkAY"
      },
      "outputs": [],
      "source": [
        "doubler(10)"
      ]
    },
    {
      "cell_type": "code",
      "execution_count": null,
      "metadata": {
        "id": "BI5lPJLVNkAZ"
      },
      "outputs": [],
      "source": [
        "doubler(100)"
      ]
    },
    {
      "cell_type": "markdown",
      "metadata": {
        "id": "gi5UKQrHNkAa"
      },
      "source": [
        "Here is a normal function that accepts a lambda function as a parameter for `operation`. The function performs the operation on the value and displays the result."
      ]
    },
    {
      "cell_type": "code",
      "execution_count": null,
      "metadata": {
        "id": "WMbKXXLnNkAa"
      },
      "outputs": [],
      "source": [
        "def operate_and_print(value, operation):\n",
        "    result = operation(value)\n",
        "    print('Result: ' + str(result))"
      ]
    },
    {
      "cell_type": "markdown",
      "metadata": {
        "id": "EntzALyONkAb"
      },
      "source": [
        "Now, we can call the function like so:"
      ]
    },
    {
      "cell_type": "markdown",
      "metadata": {
        "id": "f6oZznTINkAc"
      },
      "source": [
        "Pass a lambda function that returns the value after adding 100."
      ]
    },
    {
      "cell_type": "code",
      "execution_count": null,
      "metadata": {
        "scrolled": true,
        "id": "hXcGlqM1NkAe"
      },
      "outputs": [],
      "source": [
        "operate_and_print(100, lambda x : x + 100)"
      ]
    },
    {
      "cell_type": "markdown",
      "metadata": {
        "id": "p-Ky6PWMNkAf"
      },
      "source": [
        "Pass a lambda function that returns the square root of the value"
      ]
    },
    {
      "cell_type": "code",
      "execution_count": null,
      "metadata": {
        "id": "eCIGdjY2NkAg"
      },
      "outputs": [],
      "source": [
        "import math\n",
        "operate_and_print(100, lambda x : math.sqrt(x))"
      ]
    },
    {
      "cell_type": "markdown",
      "metadata": {
        "id": "ldnFzsgzNkAg"
      },
      "source": [
        "Pass a lambda function that returns 0 regardless of the value."
      ]
    },
    {
      "cell_type": "code",
      "execution_count": null,
      "metadata": {
        "id": "RuV8SVCZNkAi"
      },
      "outputs": [],
      "source": [
        "operate_and_print(100, lambda x : 0)"
      ]
    },
    {
      "cell_type": "markdown",
      "metadata": {
        "id": "vmCJ2e2mNkAj"
      },
      "source": [
        "Although lambda functions look like a more limited form of a function, it will come particularly useful later on, so it's a good idea to familiarize yourself with it."
      ]
    },
    {
      "cell_type": "markdown",
      "metadata": {
        "id": "y026vo6_NkAj"
      },
      "source": [
        "**Practice!** Call `operate_and_print`, passing in 100 as the `value`, and a lambda function that returns the given the value squared."
      ]
    },
    {
      "cell_type": "code",
      "execution_count": null,
      "metadata": {
        "colab": {
          "base_uri": "https://localhost:8080/"
        },
        "id": "W03V0ll0NkAk",
        "outputId": "635acd20-1ff3-4edb-fa0f-fc933c33499f"
      },
      "outputs": [
        {
          "output_type": "stream",
          "name": "stdout",
          "text": [
            "Result: 10000\n"
          ]
        }
      ],
      "source": [
        "# Write your code here\n",
        "operate_and_print(100, lambda x : x**2)"
      ]
    }
  ],
  "metadata": {
    "colab": {
      "provenance": [],
      "include_colab_link": true
    },
    "kernelspec": {
      "display_name": "Python 3 (ipykernel)",
      "language": "python",
      "name": "python3"
    },
    "language_info": {
      "codemirror_mode": {
        "name": "ipython",
        "version": 3
      },
      "file_extension": ".py",
      "mimetype": "text/x-python",
      "name": "python",
      "nbconvert_exporter": "python",
      "pygments_lexer": "ipython3",
      "version": "3.9.13"
    }
  },
  "nbformat": 4,
  "nbformat_minor": 0
}
{
  "cells": [
    {
      "cell_type": "markdown",
      "metadata": {
        "id": "view-in-github",
        "colab_type": "text"
      },
      "source": [
        "<a href=\"https://colab.research.google.com/github/11daniel/CSINTSY/blob/main/N6_clemente_danielgavrie.ipynb\" target=\"_parent\"><img src=\"https://colab.research.google.com/assets/colab-badge.svg\" alt=\"Open In Colab\"/></a>"
      ]
    },
    {
      "cell_type": "markdown",
      "metadata": {
        "id": "282cmGW26TTi"
      },
      "source": [
        "# Statistical Inference on Categorical Data\n",
        "In this Notebook, we will work on more statisical inference, focusing primarily on categorical data. The first two parts of this Notebook is mostly adopted from the [Inferential Statistics](https://www.coursera.org/learn/inferential-statistics-intro/home/welcome) course of Duke University, converted from R to Python and tweaked to match the needs of our CSMODEL course.\n",
        "\n",
        "Our Notebooks in CSMODEL are designed to be guided learning activities. To use them, simply through the cells from top to bottom, following the directions along the way. If you find any unclear parts or mistakes in the Notebooks, email your instructor."
      ]
    },
    {
      "cell_type": "code",
      "source": [
        "from google.colab import drive\n",
        "drive.mount('/content/drive')"
      ],
      "metadata": {
        "colab": {
          "base_uri": "https://localhost:8080/"
        },
        "id": "QmRcjJog6U5Q",
        "outputId": "9cef3853-6dd4-4710-a62a-fc05024033f8"
      },
      "execution_count": null,
      "outputs": [
        {
          "output_type": "stream",
          "name": "stdout",
          "text": [
            "Drive already mounted at /content/drive; to attempt to forcibly remount, call drive.mount(\"/content/drive\", force_remount=True).\n"
          ]
        }
      ]
    },
    {
      "cell_type": "markdown",
      "metadata": {
        "id": "EH3U_ilj6TTl"
      },
      "source": [
        "## Instructions\n",
        "* Read each cell and implement the TODOs sequentially. The markdown/text cells also contain instructions which you need to follow to get the whole notebook working.\n",
        "* Do not change the variable names unless the instructor allows you to.\n",
        "* Answer all the markdown/text cells with 'Question #' on them. The answer must strictly consume one line only.\n",
        "* You are expected to search how to some functions work on the Internet or via the docs.\n",
        "* The notebooks will undergo a 'Restart and Run All' command, so make sure that your code is working properly.\n",
        "* You are expected to understand the dataset loading and processing separately from this class.\n",
        "* You may not reproduce this notebook or share them to anyone."
      ]
    },
    {
      "cell_type": "markdown",
      "metadata": {
        "id": "vt-JAMyP6TTm"
      },
      "source": [
        "## Import Libraries"
      ]
    },
    {
      "cell_type": "code",
      "execution_count": null,
      "metadata": {
        "id": "UXABMItn6TTn"
      },
      "outputs": [],
      "source": [
        "import numpy as np\n",
        "import pandas as pd\n",
        "import matplotlib.pyplot as plt\n",
        "from scipy.stats import chi2_contingency"
      ]
    },
    {
      "cell_type": "markdown",
      "metadata": {
        "id": "5n4ALmMz6TTo"
      },
      "source": [
        "## Atheism Survey"
      ]
    },
    {
      "cell_type": "markdown",
      "metadata": {
        "id": "tUwiP3Yo6TTp"
      },
      "source": [
        "In August of 2012, news outlets ranging from the [Washington Post](http://www.washingtonpost.com/national/on-faith/poll-shows-atheism-on-the-rise-in-the-us/2012/08/13/90020fd6-e57d-11e1-9739-eef99c5fb285_story.html) to the [Huffington Post](http://www.huffingtonpost.com/2012/08/14/atheism-rise-religiosity-decline-in-america_n_1777031.html) presented a story about the rise of atheism in America. They based their story on a poll that asked people, \"Irrespective of whether you attend a place of worship or not, would you say you are a religious person, not a religious person, or a convinced atheist?\" This type of question, which asks people to classify themselves in one way or another, is common in polling and generates categorical data. Let's take a look at the atheism survey and explore what's at play when making inference about population proportions using categorical data.\n",
        "\n",
        "The press release for the poll, conducted by WIN-Gallup International, can be accessed [here](https://www.scribd.com/document/136318147/Win-gallup-International-Global-Index-of-Religiosity-and-Atheism-2012). They interviewed more than 50,000 (51,927 to be exact) people for this survey."
      ]
    },
    {
      "cell_type": "markdown",
      "metadata": {
        "id": "PqdfayY36TTp"
      },
      "source": [
        "**Question #1:** How did the interviewers talk to the selected sample of people?\n",
        "\n",
        "Answer: The interviewers talked to the selected sample of people by asking 3 questions asking whether they are religious or non-religous or an atheist."
      ]
    },
    {
      "cell_type": "markdown",
      "metadata": {
        "id": "CEQSyCBh6TTq"
      },
      "source": [
        "Look at [Table 6 in the press release (pages 15 and 16)](https://www.scribd.com/document/136318147/Win-gallup-International-Global-Index-of-Religiosity-and-Atheism-2012), which reports the sample size and response percentages for all 57 countries. While this is a useful format to summarize the data, we will base our analysis on the original dataset of individual responses to the survey.\n",
        "\n",
        "Let's load the dataset:"
      ]
    },
    {
      "cell_type": "code",
      "execution_count": null,
      "metadata": {
        "colab": {
          "base_uri": "https://localhost:8080/",
          "height": 206
        },
        "id": "lAoMpRWI6TTr",
        "outputId": "38a769ef-4491-4a9b-b8ee-9872958d183c"
      },
      "outputs": [
        {
          "output_type": "execute_result",
          "data": {
            "text/plain": [
              "   nationality     response  year\n",
              "0  Afghanistan  non-atheist  2012\n",
              "1  Afghanistan  non-atheist  2012\n",
              "2  Afghanistan  non-atheist  2012\n",
              "3  Afghanistan  non-atheist  2012\n",
              "4  Afghanistan  non-atheist  2012"
            ],
            "text/html": [
              "\n",
              "  <div id=\"df-b59b9275-cc69-49fb-8a5d-b656b61ac58b\" class=\"colab-df-container\">\n",
              "    <div>\n",
              "<style scoped>\n",
              "    .dataframe tbody tr th:only-of-type {\n",
              "        vertical-align: middle;\n",
              "    }\n",
              "\n",
              "    .dataframe tbody tr th {\n",
              "        vertical-align: top;\n",
              "    }\n",
              "\n",
              "    .dataframe thead th {\n",
              "        text-align: right;\n",
              "    }\n",
              "</style>\n",
              "<table border=\"1\" class=\"dataframe\">\n",
              "  <thead>\n",
              "    <tr style=\"text-align: right;\">\n",
              "      <th></th>\n",
              "      <th>nationality</th>\n",
              "      <th>response</th>\n",
              "      <th>year</th>\n",
              "    </tr>\n",
              "  </thead>\n",
              "  <tbody>\n",
              "    <tr>\n",
              "      <th>0</th>\n",
              "      <td>Afghanistan</td>\n",
              "      <td>non-atheist</td>\n",
              "      <td>2012</td>\n",
              "    </tr>\n",
              "    <tr>\n",
              "      <th>1</th>\n",
              "      <td>Afghanistan</td>\n",
              "      <td>non-atheist</td>\n",
              "      <td>2012</td>\n",
              "    </tr>\n",
              "    <tr>\n",
              "      <th>2</th>\n",
              "      <td>Afghanistan</td>\n",
              "      <td>non-atheist</td>\n",
              "      <td>2012</td>\n",
              "    </tr>\n",
              "    <tr>\n",
              "      <th>3</th>\n",
              "      <td>Afghanistan</td>\n",
              "      <td>non-atheist</td>\n",
              "      <td>2012</td>\n",
              "    </tr>\n",
              "    <tr>\n",
              "      <th>4</th>\n",
              "      <td>Afghanistan</td>\n",
              "      <td>non-atheist</td>\n",
              "      <td>2012</td>\n",
              "    </tr>\n",
              "  </tbody>\n",
              "</table>\n",
              "</div>\n",
              "    <div class=\"colab-df-buttons\">\n",
              "\n",
              "  <div class=\"colab-df-container\">\n",
              "    <button class=\"colab-df-convert\" onclick=\"convertToInteractive('df-b59b9275-cc69-49fb-8a5d-b656b61ac58b')\"\n",
              "            title=\"Convert this dataframe to an interactive table.\"\n",
              "            style=\"display:none;\">\n",
              "\n",
              "  <svg xmlns=\"http://www.w3.org/2000/svg\" height=\"24px\" viewBox=\"0 -960 960 960\">\n",
              "    <path d=\"M120-120v-720h720v720H120Zm60-500h600v-160H180v160Zm220 220h160v-160H400v160Zm0 220h160v-160H400v160ZM180-400h160v-160H180v160Zm440 0h160v-160H620v160ZM180-180h160v-160H180v160Zm440 0h160v-160H620v160Z\"/>\n",
              "  </svg>\n",
              "    </button>\n",
              "\n",
              "  <style>\n",
              "    .colab-df-container {\n",
              "      display:flex;\n",
              "      gap: 12px;\n",
              "    }\n",
              "\n",
              "    .colab-df-convert {\n",
              "      background-color: #E8F0FE;\n",
              "      border: none;\n",
              "      border-radius: 50%;\n",
              "      cursor: pointer;\n",
              "      display: none;\n",
              "      fill: #1967D2;\n",
              "      height: 32px;\n",
              "      padding: 0 0 0 0;\n",
              "      width: 32px;\n",
              "    }\n",
              "\n",
              "    .colab-df-convert:hover {\n",
              "      background-color: #E2EBFA;\n",
              "      box-shadow: 0px 1px 2px rgba(60, 64, 67, 0.3), 0px 1px 3px 1px rgba(60, 64, 67, 0.15);\n",
              "      fill: #174EA6;\n",
              "    }\n",
              "\n",
              "    .colab-df-buttons div {\n",
              "      margin-bottom: 4px;\n",
              "    }\n",
              "\n",
              "    [theme=dark] .colab-df-convert {\n",
              "      background-color: #3B4455;\n",
              "      fill: #D2E3FC;\n",
              "    }\n",
              "\n",
              "    [theme=dark] .colab-df-convert:hover {\n",
              "      background-color: #434B5C;\n",
              "      box-shadow: 0px 1px 3px 1px rgba(0, 0, 0, 0.15);\n",
              "      filter: drop-shadow(0px 1px 2px rgba(0, 0, 0, 0.3));\n",
              "      fill: #FFFFFF;\n",
              "    }\n",
              "  </style>\n",
              "\n",
              "    <script>\n",
              "      const buttonEl =\n",
              "        document.querySelector('#df-b59b9275-cc69-49fb-8a5d-b656b61ac58b button.colab-df-convert');\n",
              "      buttonEl.style.display =\n",
              "        google.colab.kernel.accessAllowed ? 'block' : 'none';\n",
              "\n",
              "      async function convertToInteractive(key) {\n",
              "        const element = document.querySelector('#df-b59b9275-cc69-49fb-8a5d-b656b61ac58b');\n",
              "        const dataTable =\n",
              "          await google.colab.kernel.invokeFunction('convertToInteractive',\n",
              "                                                    [key], {});\n",
              "        if (!dataTable) return;\n",
              "\n",
              "        const docLinkHtml = 'Like what you see? Visit the ' +\n",
              "          '<a target=\"_blank\" href=https://colab.research.google.com/notebooks/data_table.ipynb>data table notebook</a>'\n",
              "          + ' to learn more about interactive tables.';\n",
              "        element.innerHTML = '';\n",
              "        dataTable['output_type'] = 'display_data';\n",
              "        await google.colab.output.renderOutput(dataTable, element);\n",
              "        const docLink = document.createElement('div');\n",
              "        docLink.innerHTML = docLinkHtml;\n",
              "        element.appendChild(docLink);\n",
              "      }\n",
              "    </script>\n",
              "  </div>\n",
              "\n",
              "\n",
              "<div id=\"df-a7da817f-4c70-445e-8f47-41b4a885c20e\">\n",
              "  <button class=\"colab-df-quickchart\" onclick=\"quickchart('df-a7da817f-4c70-445e-8f47-41b4a885c20e')\"\n",
              "            title=\"Suggest charts\"\n",
              "            style=\"display:none;\">\n",
              "\n",
              "<svg xmlns=\"http://www.w3.org/2000/svg\" height=\"24px\"viewBox=\"0 0 24 24\"\n",
              "     width=\"24px\">\n",
              "    <g>\n",
              "        <path d=\"M19 3H5c-1.1 0-2 .9-2 2v14c0 1.1.9 2 2 2h14c1.1 0 2-.9 2-2V5c0-1.1-.9-2-2-2zM9 17H7v-7h2v7zm4 0h-2V7h2v10zm4 0h-2v-4h2v4z\"/>\n",
              "    </g>\n",
              "</svg>\n",
              "  </button>\n",
              "\n",
              "<style>\n",
              "  .colab-df-quickchart {\n",
              "      --bg-color: #E8F0FE;\n",
              "      --fill-color: #1967D2;\n",
              "      --hover-bg-color: #E2EBFA;\n",
              "      --hover-fill-color: #174EA6;\n",
              "      --disabled-fill-color: #AAA;\n",
              "      --disabled-bg-color: #DDD;\n",
              "  }\n",
              "\n",
              "  [theme=dark] .colab-df-quickchart {\n",
              "      --bg-color: #3B4455;\n",
              "      --fill-color: #D2E3FC;\n",
              "      --hover-bg-color: #434B5C;\n",
              "      --hover-fill-color: #FFFFFF;\n",
              "      --disabled-bg-color: #3B4455;\n",
              "      --disabled-fill-color: #666;\n",
              "  }\n",
              "\n",
              "  .colab-df-quickchart {\n",
              "    background-color: var(--bg-color);\n",
              "    border: none;\n",
              "    border-radius: 50%;\n",
              "    cursor: pointer;\n",
              "    display: none;\n",
              "    fill: var(--fill-color);\n",
              "    height: 32px;\n",
              "    padding: 0;\n",
              "    width: 32px;\n",
              "  }\n",
              "\n",
              "  .colab-df-quickchart:hover {\n",
              "    background-color: var(--hover-bg-color);\n",
              "    box-shadow: 0 1px 2px rgba(60, 64, 67, 0.3), 0 1px 3px 1px rgba(60, 64, 67, 0.15);\n",
              "    fill: var(--button-hover-fill-color);\n",
              "  }\n",
              "\n",
              "  .colab-df-quickchart-complete:disabled,\n",
              "  .colab-df-quickchart-complete:disabled:hover {\n",
              "    background-color: var(--disabled-bg-color);\n",
              "    fill: var(--disabled-fill-color);\n",
              "    box-shadow: none;\n",
              "  }\n",
              "\n",
              "  .colab-df-spinner {\n",
              "    border: 2px solid var(--fill-color);\n",
              "    border-color: transparent;\n",
              "    border-bottom-color: var(--fill-color);\n",
              "    animation:\n",
              "      spin 1s steps(1) infinite;\n",
              "  }\n",
              "\n",
              "  @keyframes spin {\n",
              "    0% {\n",
              "      border-color: transparent;\n",
              "      border-bottom-color: var(--fill-color);\n",
              "      border-left-color: var(--fill-color);\n",
              "    }\n",
              "    20% {\n",
              "      border-color: transparent;\n",
              "      border-left-color: var(--fill-color);\n",
              "      border-top-color: var(--fill-color);\n",
              "    }\n",
              "    30% {\n",
              "      border-color: transparent;\n",
              "      border-left-color: var(--fill-color);\n",
              "      border-top-color: var(--fill-color);\n",
              "      border-right-color: var(--fill-color);\n",
              "    }\n",
              "    40% {\n",
              "      border-color: transparent;\n",
              "      border-right-color: var(--fill-color);\n",
              "      border-top-color: var(--fill-color);\n",
              "    }\n",
              "    60% {\n",
              "      border-color: transparent;\n",
              "      border-right-color: var(--fill-color);\n",
              "    }\n",
              "    80% {\n",
              "      border-color: transparent;\n",
              "      border-right-color: var(--fill-color);\n",
              "      border-bottom-color: var(--fill-color);\n",
              "    }\n",
              "    90% {\n",
              "      border-color: transparent;\n",
              "      border-bottom-color: var(--fill-color);\n",
              "    }\n",
              "  }\n",
              "</style>\n",
              "\n",
              "  <script>\n",
              "    async function quickchart(key) {\n",
              "      const quickchartButtonEl =\n",
              "        document.querySelector('#' + key + ' button');\n",
              "      quickchartButtonEl.disabled = true;  // To prevent multiple clicks.\n",
              "      quickchartButtonEl.classList.add('colab-df-spinner');\n",
              "      try {\n",
              "        const charts = await google.colab.kernel.invokeFunction(\n",
              "            'suggestCharts', [key], {});\n",
              "      } catch (error) {\n",
              "        console.error('Error during call to suggestCharts:', error);\n",
              "      }\n",
              "      quickchartButtonEl.classList.remove('colab-df-spinner');\n",
              "      quickchartButtonEl.classList.add('colab-df-quickchart-complete');\n",
              "    }\n",
              "    (() => {\n",
              "      let quickchartButtonEl =\n",
              "        document.querySelector('#df-a7da817f-4c70-445e-8f47-41b4a885c20e button');\n",
              "      quickchartButtonEl.style.display =\n",
              "        google.colab.kernel.accessAllowed ? 'block' : 'none';\n",
              "    })();\n",
              "  </script>\n",
              "</div>\n",
              "    </div>\n",
              "  </div>\n"
            ],
            "application/vnd.google.colaboratory.intrinsic+json": {
              "type": "dataframe",
              "variable_name": "atheism_df",
              "summary": "{\n  \"name\": \"atheism_df\",\n  \"rows\": 88032,\n  \"fields\": [\n    {\n      \"column\": \"nationality\",\n      \"properties\": {\n        \"dtype\": \"category\",\n        \"num_unique_values\": 57,\n        \"samples\": [\n          \"Afghanistan\",\n          \"Azerbaijan\",\n          \"Korea, Rep (South)\"\n        ],\n        \"semantic_type\": \"\",\n        \"description\": \"\"\n      }\n    },\n    {\n      \"column\": \"response\",\n      \"properties\": {\n        \"dtype\": \"category\",\n        \"num_unique_values\": 2,\n        \"samples\": [\n          \"atheist\",\n          \"non-atheist\"\n        ],\n        \"semantic_type\": \"\",\n        \"description\": \"\"\n      }\n    },\n    {\n      \"column\": \"year\",\n      \"properties\": {\n        \"dtype\": \"number\",\n        \"std\": 3,\n        \"min\": 2005,\n        \"max\": 2012,\n        \"num_unique_values\": 2,\n        \"samples\": [\n          2005,\n          2012\n        ],\n        \"semantic_type\": \"\",\n        \"description\": \"\"\n      }\n    }\n  ]\n}"
            }
          },
          "metadata": {},
          "execution_count": 3
        }
      ],
      "source": [
        "atheism_df = pd.read_csv('/content/drive/MyDrive/Colab Datasets/atheism.csv')\n",
        "atheism_df.head()"
      ]
    },
    {
      "cell_type": "markdown",
      "metadata": {
        "id": "EbhLnCse6TTr"
      },
      "source": [
        "Call the [`info()`](https://pandas.pydata.org/pandas-docs/stable/reference/api/pandas.DataFrame.info.html) function."
      ]
    },
    {
      "cell_type": "code",
      "execution_count": null,
      "metadata": {
        "colab": {
          "base_uri": "https://localhost:8080/"
        },
        "id": "gz5l8_Ah6TTr",
        "outputId": "89f5d47e-f26d-4c97-d07d-a3857e1c8201"
      },
      "outputs": [
        {
          "output_type": "stream",
          "name": "stdout",
          "text": [
            "<class 'pandas.core.frame.DataFrame'>\n",
            "RangeIndex: 88032 entries, 0 to 88031\n",
            "Data columns (total 3 columns):\n",
            " #   Column       Non-Null Count  Dtype \n",
            "---  ------       --------------  ----- \n",
            " 0   nationality  88032 non-null  object\n",
            " 1   response     88032 non-null  object\n",
            " 2   year         88032 non-null  int64 \n",
            "dtypes: int64(1), object(2)\n",
            "memory usage: 2.0+ MB\n"
          ]
        }
      ],
      "source": [
        "atheism_df.info()"
      ]
    },
    {
      "cell_type": "markdown",
      "metadata": {
        "id": "aKHb0EU56TTs"
      },
      "source": [
        "To investigate the link between these two ways of organizing this data, take a look at the estimated proportion of atheists in the United States. Towards the bottom of Table 6, we see that this is 5%. We should be able to come to the same number using the `atheism_df` data."
      ]
    },
    {
      "cell_type": "markdown",
      "metadata": {
        "id": "SqmYBW0x6TTs"
      },
      "source": [
        "Let us create a new `DataFrame` containing only the rows from `atheism_df` associated with respondents to the 2012 survey from the United States."
      ]
    },
    {
      "cell_type": "code",
      "execution_count": null,
      "metadata": {
        "id": "5GaCAkg86TTs"
      },
      "outputs": [],
      "source": [
        "us12 = atheism_df[(atheism_df['year'] == 2012) &\n",
        "                  (atheism_df['nationality'] == 'United States')]"
      ]
    },
    {
      "cell_type": "markdown",
      "metadata": {
        "id": "FZ1MeoTr6TTt"
      },
      "source": [
        "Next, calculate the proportion of atheist responses for people interviewed from the United States in 2012. Express your answer in a percentage from 0 to 100. Limit to 4 decimal places.\n",
        "\n",
        "\n",
        "\n"
      ]
    },
    {
      "cell_type": "code",
      "execution_count": null,
      "metadata": {
        "id": "lkYf30CW6TTt",
        "colab": {
          "base_uri": "https://localhost:8080/"
        },
        "outputId": "9c385530-35d3-4860-8918-654c6644e380"
      },
      "outputs": [
        {
          "output_type": "stream",
          "name": "stdout",
          "text": [
            "4.9900\n"
          ]
        }
      ],
      "source": [
        "# Write your code here\n",
        "atheist_responses = len(us12[us12['response'] == 'atheist'])\n",
        "total_responses = len(us12)\n",
        "proportion = (atheist_responses / total_responses)\n",
        "print('{:.4f}'.format(proportion * 100))"
      ]
    },
    {
      "cell_type": "markdown",
      "metadata": {
        "id": "GVWeuNiW6TTt"
      },
      "source": [
        "**Question #2:** How does the proportion compare with the proportion presented in [Table 6](https://www.scribd.com/document/136318147/Win-gallup-International-Global-Index-of-Religiosity-and-Atheism-2012)? Is it very different or is it almost the same?\n",
        "\n",
        "Answer: The proportion compare with the proportion presented in `Table 6` is almost the same since the proportion in `Table 6` is rounded up to a whole number."
      ]
    },
    {
      "cell_type": "markdown",
      "metadata": {
        "id": "ccpB5pLy6TTt"
      },
      "source": [
        "### Inference on Survey Data\n",
        "\n",
        "The statistics we compute from our dataset are **sample statistics**. What we'd like, though, is insight into the **population parameters**. The question, \"What proportion of people in your sample reported being atheists?\" is answered with a *statistic*; while the question \"What proportion of people on earth would report being atheists\" is answered with *an estimate of the parameter*."
      ]
    },
    {
      "cell_type": "markdown",
      "metadata": {
        "id": "KErUNv8j6TTu"
      },
      "source": [
        "**Question #3:** Are you confident that all conditions for constructing a 95% confidence interval for the proportion of atheists in the United States in 2012 are met? Explain.\n",
        "\n",
        "Answer: I am confident that all conditions for constructing a 95% confidence interval for the proportion of atheists in the United States in 2012 are met since"
      ]
    },
    {
      "cell_type": "markdown",
      "metadata": {
        "id": "4D4fwA4a6TTu"
      },
      "source": [
        "Construct a 95% confidence interval for the proportion of atheists in United States in 2012. We will report the result as:\n",
        "\n",
        "$$p \\pm ME$$\n",
        "\n",
        "where $p$ is the proportion and $ME$ is the margin of error."
      ]
    },
    {
      "cell_type": "markdown",
      "metadata": {
        "id": "zGsr8dcw6TTu"
      },
      "source": [
        "As we are dealing with categorical data, we cannot use the previous notebook's margin of error formula since it requires the standard deviation. As such, we are going to obtain the margin of error through the standard error of a **sample proportion**, as presented in the formula below:\n",
        "\n",
        "$$ME =  z^* \\times \\sqrt{\\frac{p(1-p)}{n}}$$\n",
        "\n",
        "where $z^*$ still representing the critical value."
      ]
    },
    {
      "cell_type": "markdown",
      "metadata": {
        "id": "p7PEwyzY6TTu"
      },
      "source": [
        "Compute the margin of error."
      ]
    },
    {
      "cell_type": "code",
      "execution_count": null,
      "metadata": {
        "id": "uGtWGrF56TTv"
      },
      "outputs": [],
      "source": [
        "# Write your code here\n",
        "z_star_95 = 1.96\n",
        "std_error = np.sqrt((proportion * (1 - proportion)) / total_responses)\n",
        "margin_of_error = z_star_95 * std_error"
      ]
    },
    {
      "cell_type": "markdown",
      "metadata": {
        "id": "s269WtZU6TTv"
      },
      "source": [
        "Display the margin of error."
      ]
    },
    {
      "cell_type": "code",
      "execution_count": null,
      "metadata": {
        "id": "wD9uEHUz6TTv",
        "colab": {
          "base_uri": "https://localhost:8080/"
        },
        "outputId": "f0a50baf-641e-4ad4-96d0-02a7e0945323"
      },
      "outputs": [
        {
          "output_type": "stream",
          "name": "stdout",
          "text": [
            "1.3482\n"
          ]
        }
      ],
      "source": [
        "print('{:.4f}'.format(margin_of_error * 100))"
      ]
    },
    {
      "cell_type": "markdown",
      "metadata": {
        "id": "B6Pyuqpl6TTv"
      },
      "source": [
        "**Question #4:** Given a 95% confidence level, what is the margin of error? Express your answer in a percentage from 0 to 100. Limit to 4 decimal places.\n",
        "\n",
        "Answer: Given a 95% confidence level, the margin of error is `1.3482%`."
      ]
    },
    {
      "cell_type": "markdown",
      "metadata": {
        "id": "Tj11BcuS6TTw"
      },
      "source": [
        "Compute the confidence interval (minimum value, maximum value)."
      ]
    },
    {
      "cell_type": "code",
      "execution_count": null,
      "metadata": {
        "scrolled": true,
        "id": "KnxyYXmC6TTw"
      },
      "outputs": [],
      "source": [
        "# Write your code here\n",
        "minimum_value = proportion - margin_of_error\n",
        "maximum_value = proportion + margin_of_error"
      ]
    },
    {
      "cell_type": "markdown",
      "metadata": {
        "id": "vOTgH3ed6TTw"
      },
      "source": [
        "Display the minimum and maximum values."
      ]
    },
    {
      "cell_type": "code",
      "execution_count": null,
      "metadata": {
        "id": "cqnnPgCf6TTw",
        "colab": {
          "base_uri": "https://localhost:8080/"
        },
        "outputId": "1105e047-c724-4687-8356-70b2008397c1"
      },
      "outputs": [
        {
          "output_type": "stream",
          "name": "stdout",
          "text": [
            "Minimum value: 3.6418 \n",
            "Maximum value: 6.3382\n"
          ]
        }
      ],
      "source": [
        "print('Minimum value: {:.4f}'.format(minimum_value * 100), '\\nMaximum value: {:.4f}'.format(maximum_value * 100))"
      ]
    },
    {
      "cell_type": "markdown",
      "metadata": {
        "id": "OasyVE9K6TTx"
      },
      "source": [
        "**Question #5:** Specify the confidence interval as a range of values (minimum value, maximum value). Express your answer in a percentage from 0 to 100. Limit to 4 decimal places.\n",
        "\n",
        "Answer: The Minimum value is `3.6418%` and the Maximum value is `6.3382%`"
      ]
    },
    {
      "cell_type": "markdown",
      "metadata": {
        "id": "QBEJOlig6TTx"
      },
      "source": [
        "Although formal confidence intervals and hypothesis tests don't show up in the report, suggestions of inference appear at the bottom of page 7: \"In general, the error margin for surveys of this kind is $\\pm$ 3-5% at 95% confidence.\""
      ]
    },
    {
      "cell_type": "markdown",
      "metadata": {
        "id": "DpmSbfYm6TTx"
      },
      "source": [
        "## Proportion and Margin of Error\n",
        "\n",
        "Imagine you interviewed 1000 people on two questions: are you religious? and are you from Luzon? Even though both of these sample proportions are calculated from the same sample size, they might not have the same margin of error. Aside from being affected by the sample size, the margin of error is also affected by the proportion.\n",
        "\n",
        "Since the population proportion $p$ is in this $ME$ formula, it should make sense that the margin of error is in some way dependent on the population proportion. We can visualize this relationship by creating a plot of $ME$ vs. $p$."
      ]
    },
    {
      "cell_type": "markdown",
      "metadata": {
        "id": "G4XKUwPg6TTx"
      },
      "source": [
        "Generate values from 0 to 1 with interval of 0.01. Store the values in variable `p`."
      ]
    },
    {
      "cell_type": "code",
      "execution_count": null,
      "metadata": {
        "id": "qV1B4Ki-6TTy"
      },
      "outputs": [],
      "source": [
        "# Write your code here\n",
        "p = np.arange(0, 1.01, 0.01)"
      ]
    },
    {
      "cell_type": "markdown",
      "metadata": {
        "id": "pu_RmxKq6TTy"
      },
      "source": [
        "Let's set the sample size `n` to 1000."
      ]
    },
    {
      "cell_type": "code",
      "execution_count": null,
      "metadata": {
        "id": "1Wwekdo66TTy"
      },
      "outputs": [],
      "source": [
        "n = 1000"
      ]
    },
    {
      "cell_type": "markdown",
      "metadata": {
        "id": "3DQHIhaS6TTy"
      },
      "source": [
        "Compute the margin of error for each value in `p` given a 99% confidence level. Store the values in variable `me`."
      ]
    },
    {
      "cell_type": "code",
      "execution_count": null,
      "metadata": {
        "id": "Ec9bYGRz6TTz"
      },
      "outputs": [],
      "source": [
        "# Write your code here\n",
        "confidence_level = 2.576\n",
        "prop = np.sqrt((p * (1 - p)) / n)\n",
        "me = confidence_level * prop"
      ]
    },
    {
      "cell_type": "markdown",
      "metadata": {
        "id": "scvLd4Vt6TTz"
      },
      "source": [
        "Let's plot the relationship between `p` and `me`."
      ]
    },
    {
      "cell_type": "code",
      "execution_count": null,
      "metadata": {
        "id": "l_pdnQHG6TTz",
        "colab": {
          "base_uri": "https://localhost:8080/",
          "height": 466
        },
        "outputId": "796ded42-1731-423d-b865-c7875647eb9b"
      },
      "outputs": [
        {
          "output_type": "execute_result",
          "data": {
            "text/plain": [
              "Text(0, 0.5, 'Margin of Error')"
            ]
          },
          "metadata": {},
          "execution_count": 14
        },
        {
          "output_type": "display_data",
          "data": {
            "text/plain": [
              "<Figure size 640x480 with 1 Axes>"
            ],
            "image/png": "[encoded data removed]"
          },
          "metadata": {}
        }
      ],
      "source": [
        "plt.plot(p, me, 'k')\n",
        "plt.xlabel('Proportion')\n",
        "plt.ylabel('Margin of Error')"
      ]
    },
    {
      "cell_type": "markdown",
      "metadata": {
        "id": "V1a3kCBN6TT0"
      },
      "source": [
        "**Question #6:** When do we get a low margin of error?\n",
        "\n",
        "Answer: We get a low margin of error when the proportion is either `0.0` or `1.0`."
      ]
    },
    {
      "cell_type": "markdown",
      "metadata": {
        "id": "ivoxagWa6TT0"
      },
      "source": [
        "**Question #7:** What is the margin of error when the proportion is 50%?\n",
        "\n",
        "Answer: The margin of error when the proportion is `0.040`."
      ]
    },
    {
      "cell_type": "markdown",
      "metadata": {
        "id": "6GUQmkOG6TT0"
      },
      "source": [
        "## Behavioral Survey Data\n",
        "\n",
        "Next, we will look at behaviorial survey data. The Behavioral Risk Factor Surveillance System (BRFSS) is an annual telephone survey of 350,000 people in the United States collected by the Centers for Disease Control and Prevention (CDC). The BRFSS identifies risk factors in the adult population and report emerging health trends. For example, respondents are asked about their diet and weekly physical activity, their HIV/AIDS status, possible tobacco use, and even their level of healthcare coverage. The [BRFSS website](https://www.openintro.org/redirect.php?go=cdc_data_brfss&referrer=data_set_page) contains a complete description of the survey, the questions that were asked, and even research results that have been derived from the data.\n",
        "\n",
        "This dataset is a random sample of 20,000 people from the BRFSS survey conducted in 2000. While there are over 200 questions or variables in this dataset, the one will we will use in this Notebok only includes 3 variables."
      ]
    },
    {
      "cell_type": "code",
      "execution_count": null,
      "metadata": {
        "scrolled": true,
        "id": "LXDKXTkO6TT0",
        "colab": {
          "base_uri": "https://localhost:8080/",
          "height": 206
        },
        "outputId": "146e7347-d7ac-46d0-e621-5dfd9569c8e7"
      },
      "outputs": [
        {
          "output_type": "execute_result",
          "data": {
            "text/plain": [
              "     genhlth  smoke100  exerany\n",
              "0       good         0        0\n",
              "1       good         1        0\n",
              "2       good         1        1\n",
              "3       good         0        1\n",
              "4  very good         0        0"
            ],
            "text/html": [
              "\n",
              "  <div id=\"df-4423e033-e148-4e28-a37c-fae06f6595e7\" class=\"colab-df-container\">\n",
              "    <div>\n",
              "<style scoped>\n",
              "    .dataframe tbody tr th:only-of-type {\n",
              "        vertical-align: middle;\n",
              "    }\n",
              "\n",
              "    .dataframe tbody tr th {\n",
              "        vertical-align: top;\n",
              "    }\n",
              "\n",
              "    .dataframe thead th {\n",
              "        text-align: right;\n",
              "    }\n",
              "</style>\n",
              "<table border=\"1\" class=\"dataframe\">\n",
              "  <thead>\n",
              "    <tr style=\"text-align: right;\">\n",
              "      <th></th>\n",
              "      <th>genhlth</th>\n",
              "      <th>smoke100</th>\n",
              "      <th>exerany</th>\n",
              "    </tr>\n",
              "  </thead>\n",
              "  <tbody>\n",
              "    <tr>\n",
              "      <th>0</th>\n",
              "      <td>good</td>\n",
              "      <td>0</td>\n",
              "      <td>0</td>\n",
              "    </tr>\n",
              "    <tr>\n",
              "      <th>1</th>\n",
              "      <td>good</td>\n",
              "      <td>1</td>\n",
              "      <td>0</td>\n",
              "    </tr>\n",
              "    <tr>\n",
              "      <th>2</th>\n",
              "      <td>good</td>\n",
              "      <td>1</td>\n",
              "      <td>1</td>\n",
              "    </tr>\n",
              "    <tr>\n",
              "      <th>3</th>\n",
              "      <td>good</td>\n",
              "      <td>0</td>\n",
              "      <td>1</td>\n",
              "    </tr>\n",
              "    <tr>\n",
              "      <th>4</th>\n",
              "      <td>very good</td>\n",
              "      <td>0</td>\n",
              "      <td>0</td>\n",
              "    </tr>\n",
              "  </tbody>\n",
              "</table>\n",
              "</div>\n",
              "    <div class=\"colab-df-buttons\">\n",
              "\n",
              "  <div class=\"colab-df-container\">\n",
              "    <button class=\"colab-df-convert\" onclick=\"convertToInteractive('df-4423e033-e148-4e28-a37c-fae06f6595e7')\"\n",
              "            title=\"Convert this dataframe to an interactive table.\"\n",
              "            style=\"display:none;\">\n",
              "\n",
              "  <svg xmlns=\"http://www.w3.org/2000/svg\" height=\"24px\" viewBox=\"0 -960 960 960\">\n",
              "    <path d=\"M120-120v-720h720v720H120Zm60-500h600v-160H180v160Zm220 220h160v-160H400v160Zm0 220h160v-160H400v160ZM180-400h160v-160H180v160Zm440 0h160v-160H620v160ZM180-180h160v-160H180v160Zm440 0h160v-160H620v160Z\"/>\n",
              "  </svg>\n",
              "    </button>\n",
              "\n",
              "  <style>\n",
              "    .colab-df-container {\n",
              "      display:flex;\n",
              "      gap: 12px;\n",
              "    }\n",
              "\n",
              "    .colab-df-convert {\n",
              "      background-color: #E8F0FE;\n",
              "      border: none;\n",
              "      border-radius: 50%;\n",
              "      cursor: pointer;\n",
              "      display: none;\n",
              "      fill: #1967D2;\n",
              "      height: 32px;\n",
              "      padding: 0 0 0 0;\n",
              "      width: 32px;\n",
              "    }\n",
              "\n",
              "    .colab-df-convert:hover {\n",
              "      background-color: #E2EBFA;\n",
              "      box-shadow: 0px 1px 2px rgba(60, 64, 67, 0.3), 0px 1px 3px 1px rgba(60, 64, 67, 0.15);\n",
              "      fill: #174EA6;\n",
              "    }\n",
              "\n",
              "    .colab-df-buttons div {\n",
              "      margin-bottom: 4px;\n",
              "    }\n",
              "\n",
              "    [theme=dark] .colab-df-convert {\n",
              "      background-color: #3B4455;\n",
              "      fill: #D2E3FC;\n",
              "    }\n",
              "\n",
              "    [theme=dark] .colab-df-convert:hover {\n",
              "      background-color: #434B5C;\n",
              "      box-shadow: 0px 1px 3px 1px rgba(0, 0, 0, 0.15);\n",
              "      filter: drop-shadow(0px 1px 2px rgba(0, 0, 0, 0.3));\n",
              "      fill: #FFFFFF;\n",
              "    }\n",
              "  </style>\n",
              "\n",
              "    <script>\n",
              "      const buttonEl =\n",
              "        document.querySelector('#df-4423e033-e148-4e28-a37c-fae06f6595e7 button.colab-df-convert');\n",
              "      buttonEl.style.display =\n",
              "        google.colab.kernel.accessAllowed ? 'block' : 'none';\n",
              "\n",
              "      async function convertToInteractive(key) {\n",
              "        const element = document.querySelector('#df-4423e033-e148-4e28-a37c-fae06f6595e7');\n",
              "        const dataTable =\n",
              "          await google.colab.kernel.invokeFunction('convertToInteractive',\n",
              "                                                    [key], {});\n",
              "        if (!dataTable) return;\n",
              "\n",
              "        const docLinkHtml = 'Like what you see? Visit the ' +\n",
              "          '<a target=\"_blank\" href=https://colab.research.google.com/notebooks/data_table.ipynb>data table notebook</a>'\n",
              "          + ' to learn more about interactive tables.';\n",
              "        element.innerHTML = '';\n",
              "        dataTable['output_type'] = 'display_data';\n",
              "        await google.colab.output.renderOutput(dataTable, element);\n",
              "        const docLink = document.createElement('div');\n",
              "        docLink.innerHTML = docLinkHtml;\n",
              "        element.appendChild(docLink);\n",
              "      }\n",
              "    </script>\n",
              "  </div>\n",
              "\n",
              "\n",
              "<div id=\"df-2087dafe-f26a-4ffe-acd4-f8c1b699ca3f\">\n",
              "  <button class=\"colab-df-quickchart\" onclick=\"quickchart('df-2087dafe-f26a-4ffe-acd4-f8c1b699ca3f')\"\n",
              "            title=\"Suggest charts\"\n",
              "            style=\"display:none;\">\n",
              "\n",
              "<svg xmlns=\"http://www.w3.org/2000/svg\" height=\"24px\"viewBox=\"0 0 24 24\"\n",
              "     width=\"24px\">\n",
              "    <g>\n",
              "        <path d=\"M19 3H5c-1.1 0-2 .9-2 2v14c0 1.1.9 2 2 2h14c1.1 0 2-.9 2-2V5c0-1.1-.9-2-2-2zM9 17H7v-7h2v7zm4 0h-2V7h2v10zm4 0h-2v-4h2v4z\"/>\n",
              "    </g>\n",
              "</svg>\n",
              "  </button>\n",
              "\n",
              "<style>\n",
              "  .colab-df-quickchart {\n",
              "      --bg-color: #E8F0FE;\n",
              "      --fill-color: #1967D2;\n",
              "      --hover-bg-color: #E2EBFA;\n",
              "      --hover-fill-color: #174EA6;\n",
              "      --disabled-fill-color: #AAA;\n",
              "      --disabled-bg-color: #DDD;\n",
              "  }\n",
              "\n",
              "  [theme=dark] .colab-df-quickchart {\n",
              "      --bg-color: #3B4455;\n",
              "      --fill-color: #D2E3FC;\n",
              "      --hover-bg-color: #434B5C;\n",
              "      --hover-fill-color: #FFFFFF;\n",
              "      --disabled-bg-color: #3B4455;\n",
              "      --disabled-fill-color: #666;\n",
              "  }\n",
              "\n",
              "  .colab-df-quickchart {\n",
              "    background-color: var(--bg-color);\n",
              "    border: none;\n",
              "    border-radius: 50%;\n",
              "    cursor: pointer;\n",
              "    display: none;\n",
              "    fill: var(--fill-color);\n",
              "    height: 32px;\n",
              "    padding: 0;\n",
              "    width: 32px;\n",
              "  }\n",
              "\n",
              "  .colab-df-quickchart:hover {\n",
              "    background-color: var(--hover-bg-color);\n",
              "    box-shadow: 0 1px 2px rgba(60, 64, 67, 0.3), 0 1px 3px 1px rgba(60, 64, 67, 0.15);\n",
              "    fill: var(--button-hover-fill-color);\n",
              "  }\n",
              "\n",
              "  .colab-df-quickchart-complete:disabled,\n",
              "  .colab-df-quickchart-complete:disabled:hover {\n",
              "    background-color: var(--disabled-bg-color);\n",
              "    fill: var(--disabled-fill-color);\n",
              "    box-shadow: none;\n",
              "  }\n",
              "\n",
              "  .colab-df-spinner {\n",
              "    border: 2px solid var(--fill-color);\n",
              "    border-color: transparent;\n",
              "    border-bottom-color: var(--fill-color);\n",
              "    animation:\n",
              "      spin 1s steps(1) infinite;\n",
              "  }\n",
              "\n",
              "  @keyframes spin {\n",
              "    0% {\n",
              "      border-color: transparent;\n",
              "      border-bottom-color: var(--fill-color);\n",
              "      border-left-color: var(--fill-color);\n",
              "    }\n",
              "    20% {\n",
              "      border-color: transparent;\n",
              "      border-left-color: var(--fill-color);\n",
              "      border-top-color: var(--fill-color);\n",
              "    }\n",
              "    30% {\n",
              "      border-color: transparent;\n",
              "      border-left-color: var(--fill-color);\n",
              "      border-top-color: var(--fill-color);\n",
              "      border-right-color: var(--fill-color);\n",
              "    }\n",
              "    40% {\n",
              "      border-color: transparent;\n",
              "      border-right-color: var(--fill-color);\n",
              "      border-top-color: var(--fill-color);\n",
              "    }\n",
              "    60% {\n",
              "      border-color: transparent;\n",
              "      border-right-color: var(--fill-color);\n",
              "    }\n",
              "    80% {\n",
              "      border-color: transparent;\n",
              "      border-right-color: var(--fill-color);\n",
              "      border-bottom-color: var(--fill-color);\n",
              "    }\n",
              "    90% {\n",
              "      border-color: transparent;\n",
              "      border-bottom-color: var(--fill-color);\n",
              "    }\n",
              "  }\n",
              "</style>\n",
              "\n",
              "  <script>\n",
              "    async function quickchart(key) {\n",
              "      const quickchartButtonEl =\n",
              "        document.querySelector('#' + key + ' button');\n",
              "      quickchartButtonEl.disabled = true;  // To prevent multiple clicks.\n",
              "      quickchartButtonEl.classList.add('colab-df-spinner');\n",
              "      try {\n",
              "        const charts = await google.colab.kernel.invokeFunction(\n",
              "            'suggestCharts', [key], {});\n",
              "      } catch (error) {\n",
              "        console.error('Error during call to suggestCharts:', error);\n",
              "      }\n",
              "      quickchartButtonEl.classList.remove('colab-df-spinner');\n",
              "      quickchartButtonEl.classList.add('colab-df-quickchart-complete');\n",
              "    }\n",
              "    (() => {\n",
              "      let quickchartButtonEl =\n",
              "        document.querySelector('#df-2087dafe-f26a-4ffe-acd4-f8c1b699ca3f button');\n",
              "      quickchartButtonEl.style.display =\n",
              "        google.colab.kernel.accessAllowed ? 'block' : 'none';\n",
              "    })();\n",
              "  </script>\n",
              "</div>\n",
              "    </div>\n",
              "  </div>\n"
            ],
            "application/vnd.google.colaboratory.intrinsic+json": {
              "type": "dataframe",
              "variable_name": "cdc_df",
              "summary": "{\n  \"name\": \"cdc_df\",\n  \"rows\": 20000,\n  \"fields\": [\n    {\n      \"column\": \"genhlth\",\n      \"properties\": {\n        \"dtype\": \"category\",\n        \"num_unique_values\": 5,\n        \"samples\": [\n          \"very good\",\n          \"poor\",\n          \"excellent\"\n        ],\n        \"semantic_type\": \"\",\n        \"description\": \"\"\n      }\n    },\n    {\n      \"column\": \"smoke100\",\n      \"properties\": {\n        \"dtype\": \"number\",\n        \"std\": 0,\n        \"min\": 0,\n        \"max\": 1,\n        \"num_unique_values\": 2,\n        \"samples\": [\n          1,\n          0\n        ],\n        \"semantic_type\": \"\",\n        \"description\": \"\"\n      }\n    },\n    {\n      \"column\": \"exerany\",\n      \"properties\": {\n        \"dtype\": \"number\",\n        \"std\": 0,\n        \"min\": 0,\n        \"max\": 1,\n        \"num_unique_values\": 2,\n        \"samples\": [\n          1,\n          0\n        ],\n        \"semantic_type\": \"\",\n        \"description\": \"\"\n      }\n    }\n  ]\n}"
            }
          },
          "metadata": {},
          "execution_count": 15
        }
      ],
      "source": [
        "cdc_df = pd.read_csv('/content/drive/MyDrive/Colab Datasets/cdcpartial.csv')\n",
        "cdc_df.head()"
      ]
    },
    {
      "cell_type": "markdown",
      "metadata": {
        "id": "WqHS9zl06TT1"
      },
      "source": [
        "Call the [`info()`](https://pandas.pydata.org/pandas-docs/stable/reference/api/pandas.DataFrame.info.html) function."
      ]
    },
    {
      "cell_type": "code",
      "execution_count": null,
      "metadata": {
        "id": "Pam9GPBw6TT1",
        "colab": {
          "base_uri": "https://localhost:8080/"
        },
        "outputId": "494d0c22-e098-40b6-e128-21cc1ffa2a14"
      },
      "outputs": [
        {
          "output_type": "stream",
          "name": "stdout",
          "text": [
            "<class 'pandas.core.frame.DataFrame'>\n",
            "RangeIndex: 20000 entries, 0 to 19999\n",
            "Data columns (total 3 columns):\n",
            " #   Column    Non-Null Count  Dtype \n",
            "---  ------    --------------  ----- \n",
            " 0   genhlth   20000 non-null  object\n",
            " 1   smoke100  20000 non-null  int64 \n",
            " 2   exerany   20000 non-null  int64 \n",
            "dtypes: int64(2), object(1)\n",
            "memory usage: 468.9+ KB\n"
          ]
        }
      ],
      "source": [
        "cdc_df.info()"
      ]
    },
    {
      "cell_type": "markdown",
      "metadata": {
        "id": "AGTtPaoU6TT1"
      },
      "source": [
        "The variables in this Notebook are as follows:\n",
        "\n",
        "- `genhlth` - A categorical vector indicating general health, with categories `excellent`, `very good`, `good`, `fair`, and `poor`.\n",
        "- `smoke100` - A categorical vector, 1 if the respondent has smoked at least 100 cigarettes in their entire life and 0 otherwise.\n",
        "- `exerany` - A categorical vector, 1 if the respondent exercised in the past month and 0 otherwise."
      ]
    },
    {
      "cell_type": "markdown",
      "metadata": {
        "id": "OnYNY01G6TT1"
      },
      "source": [
        "### Test of Independence Using Pearson's Chi-Squared Test\n",
        "Let's check if the general health of people is independent of whether they exercised in the past month or not."
      ]
    },
    {
      "cell_type": "markdown",
      "metadata": {
        "id": "Doy69XG06TT2"
      },
      "source": [
        "First, group the sample depending on whether they exercised or not in the past month. This should produce two groups. Afterwards, count the number of people in each group for each general health level.\n",
        "\n",
        "Store the values in variable `counts`."
      ]
    },
    {
      "cell_type": "code",
      "execution_count": null,
      "metadata": {
        "id": "wEvqPLp26TT2"
      },
      "outputs": [],
      "source": [
        "# Write your code here\n",
        "counts = cdc_df.groupby(['exerany', 'genhlth']).size()"
      ]
    },
    {
      "cell_type": "markdown",
      "metadata": {
        "id": "eY6z1EuW6TT2"
      },
      "source": [
        "Let's display the count per subgroup."
      ]
    },
    {
      "cell_type": "code",
      "execution_count": null,
      "metadata": {
        "id": "Rgobs94A6TT3",
        "colab": {
          "base_uri": "https://localhost:8080/"
        },
        "outputId": "4f5208bf-146e-4e6d-9cae-b682c9e1f99c"
      },
      "outputs": [
        {
          "output_type": "execute_result",
          "data": {
            "text/plain": [
              "exerany  genhlth  \n",
              "0        excellent     762\n",
              "         fair          857\n",
              "         good         1731\n",
              "         poor          384\n",
              "         very good    1352\n",
              "1        excellent    3895\n",
              "         fair         1162\n",
              "         good         3944\n",
              "         poor          293\n",
              "         very good    5620\n",
              "dtype: int64"
            ]
          },
          "metadata": {},
          "execution_count": 18
        }
      ],
      "source": [
        "counts"
      ]
    },
    {
      "cell_type": "markdown",
      "metadata": {
        "id": "m46ABEgd6TT3"
      },
      "source": [
        "**Question #8:** How many of the respondents exercised last month and reported 'excellent' general health?\n",
        "\n",
        "Answer: `3895` respondents exercised last month and reported 'excellent' general health."
      ]
    },
    {
      "cell_type": "markdown",
      "metadata": {
        "id": "jeDyVrNu6TT3"
      },
      "source": [
        "At first glance, it appears that people who have exercised in the past month has better general health, but we do not know if this difference is statistically significant.\n",
        "\n",
        "Let's use the chi-square test to determine whether the general health of people is independent of whether they exercised in the past month or not."
      ]
    },
    {
      "cell_type": "markdown",
      "metadata": {
        "id": "KmziXk7A6TT3"
      },
      "source": [
        "First, we need to convert our counts into a table format. We will create a new DataFrame for this."
      ]
    },
    {
      "cell_type": "code",
      "execution_count": null,
      "metadata": {
        "id": "yAajP00s6TT4",
        "colab": {
          "base_uri": "https://localhost:8080/",
          "height": 112
        },
        "outputId": "f8d11fd2-3dc5-4c70-b2b3-471463c93093"
      },
      "outputs": [
        {
          "output_type": "execute_result",
          "data": {
            "text/plain": [
              "genhlth      excellent  fair  good  poor  very good\n",
              "no exercise        762   857  1731   384       1352\n",
              "exercise          3895  1162  3944   293       5620"
            ],
            "text/html": [
              "\n",
              "  <div id=\"df-b46652e2-b273-4239-b4c3-418d35229e0d\" class=\"colab-df-container\">\n",
              "    <div>\n",
              "<style scoped>\n",
              "    .dataframe tbody tr th:only-of-type {\n",
              "        vertical-align: middle;\n",
              "    }\n",
              "\n",
              "    .dataframe tbody tr th {\n",
              "        vertical-align: top;\n",
              "    }\n",
              "\n",
              "    .dataframe thead th {\n",
              "        text-align: right;\n",
              "    }\n",
              "</style>\n",
              "<table border=\"1\" class=\"dataframe\">\n",
              "  <thead>\n",
              "    <tr style=\"text-align: right;\">\n",
              "      <th>genhlth</th>\n",
              "      <th>excellent</th>\n",
              "      <th>fair</th>\n",
              "      <th>good</th>\n",
              "      <th>poor</th>\n",
              "      <th>very good</th>\n",
              "    </tr>\n",
              "  </thead>\n",
              "  <tbody>\n",
              "    <tr>\n",
              "      <th>no exercise</th>\n",
              "      <td>762</td>\n",
              "      <td>857</td>\n",
              "      <td>1731</td>\n",
              "      <td>384</td>\n",
              "      <td>1352</td>\n",
              "    </tr>\n",
              "    <tr>\n",
              "      <th>exercise</th>\n",
              "      <td>3895</td>\n",
              "      <td>1162</td>\n",
              "      <td>3944</td>\n",
              "      <td>293</td>\n",
              "      <td>5620</td>\n",
              "    </tr>\n",
              "  </tbody>\n",
              "</table>\n",
              "</div>\n",
              "    <div class=\"colab-df-buttons\">\n",
              "\n",
              "  <div class=\"colab-df-container\">\n",
              "    <button class=\"colab-df-convert\" onclick=\"convertToInteractive('df-b46652e2-b273-4239-b4c3-418d35229e0d')\"\n",
              "            title=\"Convert this dataframe to an interactive table.\"\n",
              "            style=\"display:none;\">\n",
              "\n",
              "  <svg xmlns=\"http://www.w3.org/2000/svg\" height=\"24px\" viewBox=\"0 -960 960 960\">\n",
              "    <path d=\"M120-120v-720h720v720H120Zm60-500h600v-160H180v160Zm220 220h160v-160H400v160Zm0 220h160v-160H400v160ZM180-400h160v-160H180v160Zm440 0h160v-160H620v160ZM180-180h160v-160H180v160Zm440 0h160v-160H620v160Z\"/>\n",
              "  </svg>\n",
              "    </button>\n",
              "\n",
              "  <style>\n",
              "    .colab-df-container {\n",
              "      display:flex;\n",
              "      gap: 12px;\n",
              "    }\n",
              "\n",
              "    .colab-df-convert {\n",
              "      background-color: #E8F0FE;\n",
              "      border: none;\n",
              "      border-radius: 50%;\n",
              "      cursor: pointer;\n",
              "      display: none;\n",
              "      fill: #1967D2;\n",
              "      height: 32px;\n",
              "      padding: 0 0 0 0;\n",
              "      width: 32px;\n",
              "    }\n",
              "\n",
              "    .colab-df-convert:hover {\n",
              "      background-color: #E2EBFA;\n",
              "      box-shadow: 0px 1px 2px rgba(60, 64, 67, 0.3), 0px 1px 3px 1px rgba(60, 64, 67, 0.15);\n",
              "      fill: #174EA6;\n",
              "    }\n",
              "\n",
              "    .colab-df-buttons div {\n",
              "      margin-bottom: 4px;\n",
              "    }\n",
              "\n",
              "    [theme=dark] .colab-df-convert {\n",
              "      background-color: #3B4455;\n",
              "      fill: #D2E3FC;\n",
              "    }\n",
              "\n",
              "    [theme=dark] .colab-df-convert:hover {\n",
              "      background-color: #434B5C;\n",
              "      box-shadow: 0px 1px 3px 1px rgba(0, 0, 0, 0.15);\n",
              "      filter: drop-shadow(0px 1px 2px rgba(0, 0, 0, 0.3));\n",
              "      fill: #FFFFFF;\n",
              "    }\n",
              "  </style>\n",
              "\n",
              "    <script>\n",
              "      const buttonEl =\n",
              "        document.querySelector('#df-b46652e2-b273-4239-b4c3-418d35229e0d button.colab-df-convert');\n",
              "      buttonEl.style.display =\n",
              "        google.colab.kernel.accessAllowed ? 'block' : 'none';\n",
              "\n",
              "      async function convertToInteractive(key) {\n",
              "        const element = document.querySelector('#df-b46652e2-b273-4239-b4c3-418d35229e0d');\n",
              "        const dataTable =\n",
              "          await google.colab.kernel.invokeFunction('convertToInteractive',\n",
              "                                                    [key], {});\n",
              "        if (!dataTable) return;\n",
              "\n",
              "        const docLinkHtml = 'Like what you see? Visit the ' +\n",
              "          '<a target=\"_blank\" href=https://colab.research.google.com/notebooks/data_table.ipynb>data table notebook</a>'\n",
              "          + ' to learn more about interactive tables.';\n",
              "        element.innerHTML = '';\n",
              "        dataTable['output_type'] = 'display_data';\n",
              "        await google.colab.output.renderOutput(dataTable, element);\n",
              "        const docLink = document.createElement('div');\n",
              "        docLink.innerHTML = docLinkHtml;\n",
              "        element.appendChild(docLink);\n",
              "      }\n",
              "    </script>\n",
              "  </div>\n",
              "\n",
              "\n",
              "<div id=\"df-8a85cd9c-d3b7-4be0-85ca-06ab7c880554\">\n",
              "  <button class=\"colab-df-quickchart\" onclick=\"quickchart('df-8a85cd9c-d3b7-4be0-85ca-06ab7c880554')\"\n",
              "            title=\"Suggest charts\"\n",
              "            style=\"display:none;\">\n",
              "\n",
              "<svg xmlns=\"http://www.w3.org/2000/svg\" height=\"24px\"viewBox=\"0 0 24 24\"\n",
              "     width=\"24px\">\n",
              "    <g>\n",
              "        <path d=\"M19 3H5c-1.1 0-2 .9-2 2v14c0 1.1.9 2 2 2h14c1.1 0 2-.9 2-2V5c0-1.1-.9-2-2-2zM9 17H7v-7h2v7zm4 0h-2V7h2v10zm4 0h-2v-4h2v4z\"/>\n",
              "    </g>\n",
              "</svg>\n",
              "  </button>\n",
              "\n",
              "<style>\n",
              "  .colab-df-quickchart {\n",
              "      --bg-color: #E8F0FE;\n",
              "      --fill-color: #1967D2;\n",
              "      --hover-bg-color: #E2EBFA;\n",
              "      --hover-fill-color: #174EA6;\n",
              "      --disabled-fill-color: #AAA;\n",
              "      --disabled-bg-color: #DDD;\n",
              "  }\n",
              "\n",
              "  [theme=dark] .colab-df-quickchart {\n",
              "      --bg-color: #3B4455;\n",
              "      --fill-color: #D2E3FC;\n",
              "      --hover-bg-color: #434B5C;\n",
              "      --hover-fill-color: #FFFFFF;\n",
              "      --disabled-bg-color: #3B4455;\n",
              "      --disabled-fill-color: #666;\n",
              "  }\n",
              "\n",
              "  .colab-df-quickchart {\n",
              "    background-color: var(--bg-color);\n",
              "    border: none;\n",
              "    border-radius: 50%;\n",
              "    cursor: pointer;\n",
              "    display: none;\n",
              "    fill: var(--fill-color);\n",
              "    height: 32px;\n",
              "    padding: 0;\n",
              "    width: 32px;\n",
              "  }\n",
              "\n",
              "  .colab-df-quickchart:hover {\n",
              "    background-color: var(--hover-bg-color);\n",
              "    box-shadow: 0 1px 2px rgba(60, 64, 67, 0.3), 0 1px 3px 1px rgba(60, 64, 67, 0.15);\n",
              "    fill: var(--button-hover-fill-color);\n",
              "  }\n",
              "\n",
              "  .colab-df-quickchart-complete:disabled,\n",
              "  .colab-df-quickchart-complete:disabled:hover {\n",
              "    background-color: var(--disabled-bg-color);\n",
              "    fill: var(--disabled-fill-color);\n",
              "    box-shadow: none;\n",
              "  }\n",
              "\n",
              "  .colab-df-spinner {\n",
              "    border: 2px solid var(--fill-color);\n",
              "    border-color: transparent;\n",
              "    border-bottom-color: var(--fill-color);\n",
              "    animation:\n",
              "      spin 1s steps(1) infinite;\n",
              "  }\n",
              "\n",
              "  @keyframes spin {\n",
              "    0% {\n",
              "      border-color: transparent;\n",
              "      border-bottom-color: var(--fill-color);\n",
              "      border-left-color: var(--fill-color);\n",
              "    }\n",
              "    20% {\n",
              "      border-color: transparent;\n",
              "      border-left-color: var(--fill-color);\n",
              "      border-top-color: var(--fill-color);\n",
              "    }\n",
              "    30% {\n",
              "      border-color: transparent;\n",
              "      border-left-color: var(--fill-color);\n",
              "      border-top-color: var(--fill-color);\n",
              "      border-right-color: var(--fill-color);\n",
              "    }\n",
              "    40% {\n",
              "      border-color: transparent;\n",
              "      border-right-color: var(--fill-color);\n",
              "      border-top-color: var(--fill-color);\n",
              "    }\n",
              "    60% {\n",
              "      border-color: transparent;\n",
              "      border-right-color: var(--fill-color);\n",
              "    }\n",
              "    80% {\n",
              "      border-color: transparent;\n",
              "      border-right-color: var(--fill-color);\n",
              "      border-bottom-color: var(--fill-color);\n",
              "    }\n",
              "    90% {\n",
              "      border-color: transparent;\n",
              "      border-bottom-color: var(--fill-color);\n",
              "    }\n",
              "  }\n",
              "</style>\n",
              "\n",
              "  <script>\n",
              "    async function quickchart(key) {\n",
              "      const quickchartButtonEl =\n",
              "        document.querySelector('#' + key + ' button');\n",
              "      quickchartButtonEl.disabled = true;  // To prevent multiple clicks.\n",
              "      quickchartButtonEl.classList.add('colab-df-spinner');\n",
              "      try {\n",
              "        const charts = await google.colab.kernel.invokeFunction(\n",
              "            'suggestCharts', [key], {});\n",
              "      } catch (error) {\n",
              "        console.error('Error during call to suggestCharts:', error);\n",
              "      }\n",
              "      quickchartButtonEl.classList.remove('colab-df-spinner');\n",
              "      quickchartButtonEl.classList.add('colab-df-quickchart-complete');\n",
              "    }\n",
              "    (() => {\n",
              "      let quickchartButtonEl =\n",
              "        document.querySelector('#df-8a85cd9c-d3b7-4be0-85ca-06ab7c880554 button');\n",
              "      quickchartButtonEl.style.display =\n",
              "        google.colab.kernel.accessAllowed ? 'block' : 'none';\n",
              "    })();\n",
              "  </script>\n",
              "</div>\n",
              "    </div>\n",
              "  </div>\n"
            ],
            "application/vnd.google.colaboratory.intrinsic+json": {
              "type": "dataframe",
              "variable_name": "table",
              "summary": "{\n  \"name\": \"table\",\n  \"rows\": 2,\n  \"fields\": [\n    {\n      \"column\": \"excellent\",\n      \"properties\": {\n        \"dtype\": \"number\",\n        \"std\": 2215,\n        \"min\": 762,\n        \"max\": 3895,\n        \"num_unique_values\": 2,\n        \"samples\": [\n          3895,\n          762\n        ],\n        \"semantic_type\": \"\",\n        \"description\": \"\"\n      }\n    },\n    {\n      \"column\": \"fair\",\n      \"properties\": {\n        \"dtype\": \"number\",\n        \"std\": 215,\n        \"min\": 857,\n        \"max\": 1162,\n        \"num_unique_values\": 2,\n        \"samples\": [\n          1162,\n          857\n        ],\n        \"semantic_type\": \"\",\n        \"description\": \"\"\n      }\n    },\n    {\n      \"column\": \"good\",\n      \"properties\": {\n        \"dtype\": \"number\",\n        \"std\": 1564,\n        \"min\": 1731,\n        \"max\": 3944,\n        \"num_unique_values\": 2,\n        \"samples\": [\n          3944,\n          1731\n        ],\n        \"semantic_type\": \"\",\n        \"description\": \"\"\n      }\n    },\n    {\n      \"column\": \"poor\",\n      \"properties\": {\n        \"dtype\": \"number\",\n        \"std\": 64,\n        \"min\": 293,\n        \"max\": 384,\n        \"num_unique_values\": 2,\n        \"samples\": [\n          293,\n          384\n        ],\n        \"semantic_type\": \"\",\n        \"description\": \"\"\n      }\n    },\n    {\n      \"column\": \"very good\",\n      \"properties\": {\n        \"dtype\": \"number\",\n        \"std\": 3017,\n        \"min\": 1352,\n        \"max\": 5620,\n        \"num_unique_values\": 2,\n        \"samples\": [\n          5620,\n          1352\n        ],\n        \"semantic_type\": \"\",\n        \"description\": \"\"\n      }\n    }\n  ]\n}"
            }
          },
          "metadata": {},
          "execution_count": 19
        }
      ],
      "source": [
        "table = pd.DataFrame([counts[0], counts[1]], index=['no exercise', 'exercise'])\n",
        "table"
      ]
    },
    {
      "cell_type": "markdown",
      "metadata": {
        "id": "H4OJX9mc6TT4"
      },
      "source": [
        "We then use the [`chi2_contingency()`](https://docs.scipy.org/doc/scipy/reference/generated/scipy.stats.chi2_contingency.html) function from SciPy to perform a Chi-Square test on this table. This function will automatically perform the necessary steps for a Chi-Square test:\n",
        "\n",
        "- Compute the expected values for each cell under the null hypothesis\n",
        "- Compute the Chi-Square statistic\n",
        "- Compute the $p$-value of the statistic based on the Chi-Square distribution with the appropriate degrees of freedom"
      ]
    },
    {
      "cell_type": "code",
      "execution_count": null,
      "metadata": {
        "id": "cmbxWkCO6TT4",
        "colab": {
          "base_uri": "https://localhost:8080/"
        },
        "outputId": "a797ea3f-623c-452b-ab37-6df8efdc7c6c"
      },
      "outputs": [
        {
          "output_type": "stream",
          "name": "stdout",
          "text": [
            "Chi2ContingencyResult(statistic=1070.8127561645524, pvalue=1.6049383557705677e-230, dof=4, expected_freq=array([[1184.2751,  513.4317, 1443.1525,  172.1611, 1772.9796],\n",
            "       [3472.7249, 1505.5683, 4231.8475,  504.8389, 5199.0204]]))\n",
            "1070.8128\n",
            "1.6049383557705677e-230\n"
          ]
        }
      ],
      "source": [
        "# Write your code here\n",
        "# Computing the chi-square statistic and p-value\n",
        "chi2_table = chi2_contingency(table)\n",
        "\n",
        "print(chi2_table)\n",
        "print(\"{:.4f}\".format(chi2_table.statistic))\n",
        "print(chi2_table.pvalue)"
      ]
    },
    {
      "cell_type": "markdown",
      "metadata": {
        "id": "dgitZ8Ha6TT5"
      },
      "source": [
        "To further understand the parameters and the return values of the `chi2_contingency()` function, you may refer to the documentation [here](https://docs.scipy.org/doc/scipy/reference/generated/scipy.stats.chi2_contingency.html)."
      ]
    },
    {
      "cell_type": "markdown",
      "metadata": {
        "id": "KJOE3LcP6TT5"
      },
      "source": [
        "**Question #9:** Briefly state the null hypothesis.\n",
        "\n",
        "Answer: The null hypothesis is that people whose general health is independent of whether they exercised in the past month or not."
      ]
    },
    {
      "cell_type": "markdown",
      "metadata": {
        "id": "_ThQnTlD6TT5"
      },
      "source": [
        "**Question #10:** What is the $p$-value? Use the exponential notation and limit to 4 decimal places.\n",
        "\n",
        "Answer: The $p$-value is $1.6049\\times10^{-230}$."
      ]
    },
    {
      "cell_type": "markdown",
      "metadata": {
        "id": "Xs0n1mhs6TT5"
      },
      "source": [
        "**Question #11:** What is the expected count for those who did not exercise in the last month but reported 'good' general health? Limit to 4 decimal places.\n",
        "\n",
        "Answer: The expected count for those who did not exercise in the last month but reported 'good' general health is `1443.1525`."
      ]
    },
    {
      "cell_type": "markdown",
      "metadata": {
        "id": "nVyGhb_16TT5"
      },
      "source": [
        "**Question #12:** At a significance level of 0.05, what can we conclude from the $p$-value? State your conclusion.\n",
        "\n",
        "Answer: At a significance level of 0.05, what we can conclude from the $p$-value is that it is less than the level of significance. Therefore we can reject the null hypothesis."
      ]
    },
    {
      "cell_type": "markdown",
      "metadata": {
        "id": "qNVnIfcn6TT6"
      },
      "source": [
        "### Another Test of Independence Using Pearson's Chi-Squared Test\n",
        "\n",
        "\n",
        "Let's check if the general health of people is independent of whether they have smoked at least 100 cigarettes in their entire life or not."
      ]
    },
    {
      "cell_type": "markdown",
      "metadata": {
        "id": "6LcSb1uM6TT6"
      },
      "source": [
        "First, group the sample depending on whether they have smoked at least 100 cigarettes in their entire life or not. This should produce two groups. Afterwards, count the number of people in each group for each general health level.\n",
        "\n",
        "Store the values in variable `counts`."
      ]
    },
    {
      "cell_type": "code",
      "execution_count": null,
      "metadata": {
        "id": "iEY63MhS6TT6"
      },
      "outputs": [],
      "source": [
        "# Write your code here\n",
        "counts = cdc_df.groupby(['smoke100', 'genhlth']).size()"
      ]
    },
    {
      "cell_type": "markdown",
      "metadata": {
        "id": "Pw7J3Y4x6TT7"
      },
      "source": [
        "Let's display the count per subgroup."
      ]
    },
    {
      "cell_type": "code",
      "execution_count": null,
      "metadata": {
        "id": "32wviUSw6TT7",
        "colab": {
          "base_uri": "https://localhost:8080/"
        },
        "outputId": "4a9c68c1-3c90-48a9-c5b1-f75302b2dcee"
      },
      "outputs": [
        {
          "output_type": "execute_result",
          "data": {
            "text/plain": [
              "smoke100  genhlth  \n",
              "0         excellent    2879\n",
              "          fair          911\n",
              "          good         2782\n",
              "          poor          229\n",
              "          very good    3758\n",
              "1         excellent    1778\n",
              "          fair         1108\n",
              "          good         2893\n",
              "          poor          448\n",
              "          very good    3214\n",
              "dtype: int64"
            ]
          },
          "metadata": {},
          "execution_count": 22
        }
      ],
      "source": [
        "counts"
      ]
    },
    {
      "cell_type": "markdown",
      "metadata": {
        "id": "vGzJsg426TT7"
      },
      "source": [
        "Convert our counts into a table format. The `DataFrame` should have 2 columns and 5 rows."
      ]
    },
    {
      "cell_type": "code",
      "execution_count": null,
      "metadata": {
        "id": "RSGJ_7cS6TT7",
        "colab": {
          "base_uri": "https://localhost:8080/",
          "height": 112
        },
        "outputId": "8c420280-e5f1-4918-c02e-bb29e03e4663"
      },
      "outputs": [
        {
          "output_type": "execute_result",
          "data": {
            "text/plain": [
              "genhlth   excellent  fair  good  poor  very good\n",
              "no smoke       2879   911  2782   229       3758\n",
              "smoke          1778  1108  2893   448       3214"
            ],
            "text/html": [
              "\n",
              "  <div id=\"df-a01bcc1d-ac7e-4965-87d4-ffe7be824af5\" class=\"colab-df-container\">\n",
              "    <div>\n",
              "<style scoped>\n",
              "    .dataframe tbody tr th:only-of-type {\n",
              "        vertical-align: middle;\n",
              "    }\n",
              "\n",
              "    .dataframe tbody tr th {\n",
              "        vertical-align: top;\n",
              "    }\n",
              "\n",
              "    .dataframe thead th {\n",
              "        text-align: right;\n",
              "    }\n",
              "</style>\n",
              "<table border=\"1\" class=\"dataframe\">\n",
              "  <thead>\n",
              "    <tr style=\"text-align: right;\">\n",
              "      <th>genhlth</th>\n",
              "      <th>excellent</th>\n",
              "      <th>fair</th>\n",
              "      <th>good</th>\n",
              "      <th>poor</th>\n",
              "      <th>very good</th>\n",
              "    </tr>\n",
              "  </thead>\n",
              "  <tbody>\n",
              "    <tr>\n",
              "      <th>no smoke</th>\n",
              "      <td>2879</td>\n",
              "      <td>911</td>\n",
              "      <td>2782</td>\n",
              "      <td>229</td>\n",
              "      <td>3758</td>\n",
              "    </tr>\n",
              "    <tr>\n",
              "      <th>smoke</th>\n",
              "      <td>1778</td>\n",
              "      <td>1108</td>\n",
              "      <td>2893</td>\n",
              "      <td>448</td>\n",
              "      <td>3214</td>\n",
              "    </tr>\n",
              "  </tbody>\n",
              "</table>\n",
              "</div>\n",
              "    <div class=\"colab-df-buttons\">\n",
              "\n",
              "  <div class=\"colab-df-container\">\n",
              "    <button class=\"colab-df-convert\" onclick=\"convertToInteractive('df-a01bcc1d-ac7e-4965-87d4-ffe7be824af5')\"\n",
              "            title=\"Convert this dataframe to an interactive table.\"\n",
              "            style=\"display:none;\">\n",
              "\n",
              "  <svg xmlns=\"http://www.w3.org/2000/svg\" height=\"24px\" viewBox=\"0 -960 960 960\">\n",
              "    <path d=\"M120-120v-720h720v720H120Zm60-500h600v-160H180v160Zm220 220h160v-160H400v160Zm0 220h160v-160H400v160ZM180-400h160v-160H180v160Zm440 0h160v-160H620v160ZM180-180h160v-160H180v160Zm440 0h160v-160H620v160Z\"/>\n",
              "  </svg>\n",
              "    </button>\n",
              "\n",
              "  <style>\n",
              "    .colab-df-container {\n",
              "      display:flex;\n",
              "      gap: 12px;\n",
              "    }\n",
              "\n",
              "    .colab-df-convert {\n",
              "      background-color: #E8F0FE;\n",
              "      border: none;\n",
              "      border-radius: 50%;\n",
              "      cursor: pointer;\n",
              "      display: none;\n",
              "      fill: #1967D2;\n",
              "      height: 32px;\n",
              "      padding: 0 0 0 0;\n",
              "      width: 32px;\n",
              "    }\n",
              "\n",
              "    .colab-df-convert:hover {\n",
              "      background-color: #E2EBFA;\n",
              "      box-shadow: 0px 1px 2px rgba(60, 64, 67, 0.3), 0px 1px 3px 1px rgba(60, 64, 67, 0.15);\n",
              "      fill: #174EA6;\n",
              "    }\n",
              "\n",
              "    .colab-df-buttons div {\n",
              "      margin-bottom: 4px;\n",
              "    }\n",
              "\n",
              "    [theme=dark] .colab-df-convert {\n",
              "      background-color: #3B4455;\n",
              "      fill: #D2E3FC;\n",
              "    }\n",
              "\n",
              "    [theme=dark] .colab-df-convert:hover {\n",
              "      background-color: #434B5C;\n",
              "      box-shadow: 0px 1px 3px 1px rgba(0, 0, 0, 0.15);\n",
              "      filter: drop-shadow(0px 1px 2px rgba(0, 0, 0, 0.3));\n",
              "      fill: #FFFFFF;\n",
              "    }\n",
              "  </style>\n",
              "\n",
              "    <script>\n",
              "      const buttonEl =\n",
              "        document.querySelector('#df-a01bcc1d-ac7e-4965-87d4-ffe7be824af5 button.colab-df-convert');\n",
              "      buttonEl.style.display =\n",
              "        google.colab.kernel.accessAllowed ? 'block' : 'none';\n",
              "\n",
              "      async function convertToInteractive(key) {\n",
              "        const element = document.querySelector('#df-a01bcc1d-ac7e-4965-87d4-ffe7be824af5');\n",
              "        const dataTable =\n",
              "          await google.colab.kernel.invokeFunction('convertToInteractive',\n",
              "                                                    [key], {});\n",
              "        if (!dataTable) return;\n",
              "\n",
              "        const docLinkHtml = 'Like what you see? Visit the ' +\n",
              "          '<a target=\"_blank\" href=https://colab.research.google.com/notebooks/data_table.ipynb>data table notebook</a>'\n",
              "          + ' to learn more about interactive tables.';\n",
              "        element.innerHTML = '';\n",
              "        dataTable['output_type'] = 'display_data';\n",
              "        await google.colab.output.renderOutput(dataTable, element);\n",
              "        const docLink = document.createElement('div');\n",
              "        docLink.innerHTML = docLinkHtml;\n",
              "        element.appendChild(docLink);\n",
              "      }\n",
              "    </script>\n",
              "  </div>\n",
              "\n",
              "\n",
              "<div id=\"df-8fc48ab3-7e67-42c9-9222-0a73d24d70e2\">\n",
              "  <button class=\"colab-df-quickchart\" onclick=\"quickchart('df-8fc48ab3-7e67-42c9-9222-0a73d24d70e2')\"\n",
              "            title=\"Suggest charts\"\n",
              "            style=\"display:none;\">\n",
              "\n",
              "<svg xmlns=\"http://www.w3.org/2000/svg\" height=\"24px\"viewBox=\"0 0 24 24\"\n",
              "     width=\"24px\">\n",
              "    <g>\n",
              "        <path d=\"M19 3H5c-1.1 0-2 .9-2 2v14c0 1.1.9 2 2 2h14c1.1 0 2-.9 2-2V5c0-1.1-.9-2-2-2zM9 17H7v-7h2v7zm4 0h-2V7h2v10zm4 0h-2v-4h2v4z\"/>\n",
              "    </g>\n",
              "</svg>\n",
              "  </button>\n",
              "\n",
              "<style>\n",
              "  .colab-df-quickchart {\n",
              "      --bg-color: #E8F0FE;\n",
              "      --fill-color: #1967D2;\n",
              "      --hover-bg-color: #E2EBFA;\n",
              "      --hover-fill-color: #174EA6;\n",
              "      --disabled-fill-color: #AAA;\n",
              "      --disabled-bg-color: #DDD;\n",
              "  }\n",
              "\n",
              "  [theme=dark] .colab-df-quickchart {\n",
              "      --bg-color: #3B4455;\n",
              "      --fill-color: #D2E3FC;\n",
              "      --hover-bg-color: #434B5C;\n",
              "      --hover-fill-color: #FFFFFF;\n",
              "      --disabled-bg-color: #3B4455;\n",
              "      --disabled-fill-color: #666;\n",
              "  }\n",
              "\n",
              "  .colab-df-quickchart {\n",
              "    background-color: var(--bg-color);\n",
              "    border: none;\n",
              "    border-radius: 50%;\n",
              "    cursor: pointer;\n",
              "    display: none;\n",
              "    fill: var(--fill-color);\n",
              "    height: 32px;\n",
              "    padding: 0;\n",
              "    width: 32px;\n",
              "  }\n",
              "\n",
              "  .colab-df-quickchart:hover {\n",
              "    background-color: var(--hover-bg-color);\n",
              "    box-shadow: 0 1px 2px rgba(60, 64, 67, 0.3), 0 1px 3px 1px rgba(60, 64, 67, 0.15);\n",
              "    fill: var(--button-hover-fill-color);\n",
              "  }\n",
              "\n",
              "  .colab-df-quickchart-complete:disabled,\n",
              "  .colab-df-quickchart-complete:disabled:hover {\n",
              "    background-color: var(--disabled-bg-color);\n",
              "    fill: var(--disabled-fill-color);\n",
              "    box-shadow: none;\n",
              "  }\n",
              "\n",
              "  .colab-df-spinner {\n",
              "    border: 2px solid var(--fill-color);\n",
              "    border-color: transparent;\n",
              "    border-bottom-color: var(--fill-color);\n",
              "    animation:\n",
              "      spin 1s steps(1) infinite;\n",
              "  }\n",
              "\n",
              "  @keyframes spin {\n",
              "    0% {\n",
              "      border-color: transparent;\n",
              "      border-bottom-color: var(--fill-color);\n",
              "      border-left-color: var(--fill-color);\n",
              "    }\n",
              "    20% {\n",
              "      border-color: transparent;\n",
              "      border-left-color: var(--fill-color);\n",
              "      border-top-color: var(--fill-color);\n",
              "    }\n",
              "    30% {\n",
              "      border-color: transparent;\n",
              "      border-left-color: var(--fill-color);\n",
              "      border-top-color: var(--fill-color);\n",
              "      border-right-color: var(--fill-color);\n",
              "    }\n",
              "    40% {\n",
              "      border-color: transparent;\n",
              "      border-right-color: var(--fill-color);\n",
              "      border-top-color: var(--fill-color);\n",
              "    }\n",
              "    60% {\n",
              "      border-color: transparent;\n",
              "      border-right-color: var(--fill-color);\n",
              "    }\n",
              "    80% {\n",
              "      border-color: transparent;\n",
              "      border-right-color: var(--fill-color);\n",
              "      border-bottom-color: var(--fill-color);\n",
              "    }\n",
              "    90% {\n",
              "      border-color: transparent;\n",
              "      border-bottom-color: var(--fill-color);\n",
              "    }\n",
              "  }\n",
              "</style>\n",
              "\n",
              "  <script>\n",
              "    async function quickchart(key) {\n",
              "      const quickchartButtonEl =\n",
              "        document.querySelector('#' + key + ' button');\n",
              "      quickchartButtonEl.disabled = true;  // To prevent multiple clicks.\n",
              "      quickchartButtonEl.classList.add('colab-df-spinner');\n",
              "      try {\n",
              "        const charts = await google.colab.kernel.invokeFunction(\n",
              "            'suggestCharts', [key], {});\n",
              "      } catch (error) {\n",
              "        console.error('Error during call to suggestCharts:', error);\n",
              "      }\n",
              "      quickchartButtonEl.classList.remove('colab-df-spinner');\n",
              "      quickchartButtonEl.classList.add('colab-df-quickchart-complete');\n",
              "    }\n",
              "    (() => {\n",
              "      let quickchartButtonEl =\n",
              "        document.querySelector('#df-8fc48ab3-7e67-42c9-9222-0a73d24d70e2 button');\n",
              "      quickchartButtonEl.style.display =\n",
              "        google.colab.kernel.accessAllowed ? 'block' : 'none';\n",
              "    })();\n",
              "  </script>\n",
              "</div>\n",
              "    </div>\n",
              "  </div>\n"
            ],
            "application/vnd.google.colaboratory.intrinsic+json": {
              "type": "dataframe",
              "variable_name": "smoke_table",
              "summary": "{\n  \"name\": \"smoke_table\",\n  \"rows\": 2,\n  \"fields\": [\n    {\n      \"column\": \"excellent\",\n      \"properties\": {\n        \"dtype\": \"number\",\n        \"std\": 778,\n        \"min\": 1778,\n        \"max\": 2879,\n        \"num_unique_values\": 2,\n        \"samples\": [\n          1778,\n          2879\n        ],\n        \"semantic_type\": \"\",\n        \"description\": \"\"\n      }\n    },\n    {\n      \"column\": \"fair\",\n      \"properties\": {\n        \"dtype\": \"number\",\n        \"std\": 139,\n        \"min\": 911,\n        \"max\": 1108,\n        \"num_unique_values\": 2,\n        \"samples\": [\n          1108,\n          911\n        ],\n        \"semantic_type\": \"\",\n        \"description\": \"\"\n      }\n    },\n    {\n      \"column\": \"good\",\n      \"properties\": {\n        \"dtype\": \"number\",\n        \"std\": 78,\n        \"min\": 2782,\n        \"max\": 2893,\n        \"num_unique_values\": 2,\n        \"samples\": [\n          2893,\n          2782\n        ],\n        \"semantic_type\": \"\",\n        \"description\": \"\"\n      }\n    },\n    {\n      \"column\": \"poor\",\n      \"properties\": {\n        \"dtype\": \"number\",\n        \"std\": 154,\n        \"min\": 229,\n        \"max\": 448,\n        \"num_unique_values\": 2,\n        \"samples\": [\n          448,\n          229\n        ],\n        \"semantic_type\": \"\",\n        \"description\": \"\"\n      }\n    },\n    {\n      \"column\": \"very good\",\n      \"properties\": {\n        \"dtype\": \"number\",\n        \"std\": 384,\n        \"min\": 3214,\n        \"max\": 3758,\n        \"num_unique_values\": 2,\n        \"samples\": [\n          3214,\n          3758\n        ],\n        \"semantic_type\": \"\",\n        \"description\": \"\"\n      }\n    }\n  ]\n}"
            }
          },
          "metadata": {},
          "execution_count": 23
        }
      ],
      "source": [
        "# Write your code here\n",
        "smoke_table = pd.DataFrame([counts[0], counts[1]], index=['no smoke', 'smoke'])\n",
        "smoke_table"
      ]
    },
    {
      "cell_type": "markdown",
      "metadata": {
        "id": "YGwOWCCK6TT8"
      },
      "source": [
        "**Question #13:** How many smoked less than 100 cigarettes in their entire life but have a 'poor' general health level?\n",
        "\n",
        "Answer: 229"
      ]
    },
    {
      "cell_type": "markdown",
      "metadata": {
        "id": "FQPUovZO6TT8"
      },
      "source": [
        "Compute the $p$-value."
      ]
    },
    {
      "cell_type": "code",
      "execution_count": null,
      "metadata": {
        "id": "k0kv-mcq6TT8",
        "colab": {
          "base_uri": "https://localhost:8080/"
        },
        "outputId": "1febe0b1-f41b-4609-f96d-818af969e613"
      },
      "outputs": [
        {
          "output_type": "stream",
          "name": "stdout",
          "text": [
            "[[2458.66315 1065.93105 2996.11625  357.42215 3680.8674 ]\n",
            " [2198.33685  953.06895 2678.88375  319.57785 3291.1326 ]]\n",
            "333.5253231905418\n",
            "6.318174106818791e-71\n"
          ]
        }
      ],
      "source": [
        "# Write your code here\n",
        "chi2_stat, p_value, dof, expected = chi2_contingency(smoke_table)\n",
        "print(expected)\n",
        "print(chi2_stat)\n",
        "print(p_value)"
      ]
    },
    {
      "cell_type": "markdown",
      "metadata": {
        "id": "gBm0JMOn6TT8"
      },
      "source": [
        "**Question #14:** Briefly state the null hypothesis.\n",
        "\n",
        "Answer: The null hypothesis is the general health of people is independent of whether they have smoked at least 100 cigarettes in their entire life or not."
      ]
    },
    {
      "cell_type": "markdown",
      "metadata": {
        "id": "VY1cJDsS6TT8"
      },
      "source": [
        "**Question #15:** What is the value of the chi-square statistic? Limit to 4 decimal places.\n",
        "\n",
        "Answer: The value of the chi-square statistic is `333.5253`."
      ]
    },
    {
      "cell_type": "markdown",
      "metadata": {
        "id": "IivUyypC6TT9"
      },
      "source": [
        "**Question #16:** At a significance level of 0.05, what can we conclude from the $p$-value? State your conclusion.\n",
        "\n",
        "Answer: At a significance level of 0.05, what we can conclude from the $p$-value is that it is less than the level of significance. Therefore we can reject the null hypothesis."
      ]
    }
  ],
  "metadata": {
    "kernelspec": {
      "display_name": "Python 3 (ipykernel)",
      "language": "python",
      "name": "python3"
    },
    "language_info": {
      "codemirror_mode": {
        "name": "ipython",
        "version": 3
      },
      "file_extension": ".py",
      "mimetype": "text/x-python",
      "name": "python",
      "nbconvert_exporter": "python",
      "pygments_lexer": "ipython3",
      "version": "3.9.13"
    },
    "colab": {
      "provenance": [],
      "include_colab_link": true
    }
  },
  "nbformat": 4,
  "nbformat_minor": 0
}
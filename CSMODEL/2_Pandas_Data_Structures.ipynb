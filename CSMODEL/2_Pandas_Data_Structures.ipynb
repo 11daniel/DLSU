{
  "cells": [
    {
      "cell_type": "markdown",
      "metadata": {
        "id": "view-in-github",
        "colab_type": "text"
      },
      "source": [
        "<a href=\"https://colab.research.google.com/github/11daniel/CSINTSY/blob/main/2_Pandas_Data_Structures.ipynb\" target=\"_parent\"><img src=\"https://colab.research.google.com/assets/colab-badge.svg\" alt=\"Open In Colab\"/></a>"
      ]
    },
    {
      "cell_type": "markdown",
      "metadata": {
        "id": "a0bJ38KQ7XfG"
      },
      "source": [
        "# Pandas Data Structures and Operations\n",
        "\n",
        "Pandas is a well-documented library. You may look into pandas' official documentation here: https://pandas.pydata.org/pandas-docs/stable/"
      ],
      "id": "a0bJ38KQ7XfG"
    },
    {
      "cell_type": "code",
      "execution_count": null,
      "metadata": {
        "id": "xNhs8yVN7XfJ"
      },
      "outputs": [],
      "source": [
        "import pandas as pd"
      ],
      "id": "xNhs8yVN7XfJ"
    },
    {
      "cell_type": "markdown",
      "metadata": {
        "id": "iO6-VdxI7XfL"
      },
      "source": [
        "## Loading data into a Pandas DataFrame"
      ],
      "id": "iO6-VdxI7XfL"
    },
    {
      "cell_type": "code",
      "execution_count": null,
      "metadata": {
        "id": "1qcYTDf27XfL"
      },
      "outputs": [],
      "source": [
        "?pd.read_csv"
      ],
      "id": "1qcYTDf27XfL"
    },
    {
      "cell_type": "code",
      "execution_count": null,
      "metadata": {
        "id": "nB75lJjO7XfM"
      },
      "outputs": [],
      "source": [
        "grades_df = pd.read_csv(\"sample_gradebook.csv\")"
      ],
      "id": "nB75lJjO7XfM"
    },
    {
      "cell_type": "markdown",
      "metadata": {
        "id": "ViyMgwUS7XfM"
      },
      "source": [
        "### For Google Colab:\n",
        "1. Mount the google drive\n",
        "2. Use read_csv to the google drive path"
      ],
      "id": "ViyMgwUS7XfM"
    },
    {
      "cell_type": "code",
      "execution_count": null,
      "metadata": {
        "id": "uEeNyWgr7XfN"
      },
      "outputs": [],
      "source": [
        "from google.colab import drive\n",
        "drive.mount('/content/gdrive')"
      ],
      "id": "uEeNyWgr7XfN"
    },
    {
      "cell_type": "code",
      "execution_count": null,
      "metadata": {
        "id": "jpo3-CNI7XfO"
      },
      "outputs": [],
      "source": [
        "# Change path with relative path to your csv file from your drive\n",
        "grades_df=pd.read_csv('gdrive/My Drive/sample_gradebook.csv')"
      ],
      "id": "jpo3-CNI7XfO"
    },
    {
      "cell_type": "markdown",
      "metadata": {
        "id": "nCPro_vY7XfO"
      },
      "source": [
        "## View dataset info"
      ],
      "id": "nCPro_vY7XfO"
    },
    {
      "cell_type": "code",
      "execution_count": null,
      "metadata": {
        "id": "yNRXm-x-7XfP"
      },
      "outputs": [],
      "source": [
        "grades_df.info()"
      ],
      "id": "yNRXm-x-7XfP"
    },
    {
      "cell_type": "markdown",
      "metadata": {
        "id": "gbNUvy8a7XfP"
      },
      "source": [
        "DataFrame dimensions can be retrieved via the [`shape`](https://pandas.pydata.org/pandas-docs/stable/reference/api/pandas.DataFrame.shape.html) property"
      ],
      "id": "gbNUvy8a7XfP"
    },
    {
      "cell_type": "code",
      "execution_count": null,
      "metadata": {
        "id": "LkuiDl-q7XfQ"
      },
      "outputs": [],
      "source": [
        "grades_df.shape"
      ],
      "id": "LkuiDl-q7XfQ"
    },
    {
      "cell_type": "code",
      "execution_count": null,
      "metadata": {
        "id": "_9_fY6k07XfQ"
      },
      "outputs": [],
      "source": [
        "grades_df"
      ],
      "id": "_9_fY6k07XfQ"
    },
    {
      "cell_type": "markdown",
      "metadata": {
        "id": "bNIjTdX97XfR"
      },
      "source": [
        "## Selecting a Column"
      ],
      "id": "bNIjTdX97XfR"
    },
    {
      "cell_type": "code",
      "execution_count": null,
      "metadata": {
        "id": "TSw-UN5E7XfR"
      },
      "outputs": [],
      "source": [
        "grades_df[\"Name\"]"
      ],
      "id": "TSw-UN5E7XfR"
    },
    {
      "cell_type": "code",
      "execution_count": null,
      "metadata": {
        "id": "WWYP1QdP7XfR"
      },
      "outputs": [],
      "source": [
        "# Another way of accessing single columns\n",
        "grades_df.Name"
      ],
      "id": "WWYP1QdP7XfR"
    },
    {
      "cell_type": "code",
      "execution_count": null,
      "metadata": {
        "id": "x3MJ5QKu7XfR"
      },
      "outputs": [],
      "source": [
        "type(grades_df[\"Name\"])"
      ],
      "id": "x3MJ5QKu7XfR"
    },
    {
      "cell_type": "markdown",
      "metadata": {
        "id": "A-tER5ba7XfS"
      },
      "source": [
        "## Selecting Multiple Columns"
      ],
      "id": "A-tER5ba7XfS"
    },
    {
      "cell_type": "code",
      "execution_count": null,
      "metadata": {
        "id": "tNyWdSmR7XfS"
      },
      "outputs": [],
      "source": [
        "grades_df[[\"Name\",\"Section\"]]"
      ],
      "id": "tNyWdSmR7XfS"
    },
    {
      "cell_type": "markdown",
      "metadata": {
        "id": "aDmf-oxq7XfS"
      },
      "source": [
        "## Selecting a Row\n",
        "For selecting rows, we use `.loc` or `.iloc`\n",
        "\n",
        "`.loc` selects a row based on the given index label, whereas `.iloc` selects a rows based on integer location (i.e., where the row is from the current state of the dataframe)."
      ],
      "id": "aDmf-oxq7XfS"
    },
    {
      "cell_type": "code",
      "execution_count": null,
      "metadata": {
        "id": "bPn-Ep3I7XfS"
      },
      "outputs": [],
      "source": [
        "grades_df.iloc[2]"
      ],
      "id": "bPn-Ep3I7XfS"
    },
    {
      "cell_type": "code",
      "execution_count": null,
      "metadata": {
        "id": "7_mAm92d7XfS"
      },
      "outputs": [],
      "source": [
        "type(grades_df.loc[2])"
      ],
      "id": "7_mAm92d7XfS"
    },
    {
      "cell_type": "markdown",
      "metadata": {
        "id": "9cIUQxvo7XfT"
      },
      "source": [
        "Or a range of rows:\n",
        "\n",
        "*Take note that `loc` uses an inclusive, whereas `iloc` excludes the given end bound of the range*"
      ],
      "id": "9cIUQxvo7XfT"
    },
    {
      "cell_type": "code",
      "execution_count": null,
      "metadata": {
        "id": "ohPgqSve7XfT"
      },
      "outputs": [],
      "source": [
        "grades_df.loc[0:4]"
      ],
      "id": "ohPgqSve7XfT"
    },
    {
      "cell_type": "code",
      "execution_count": null,
      "metadata": {
        "id": "mqQGm-3k7XfT"
      },
      "outputs": [],
      "source": [
        "grades_df.iloc[0:4]"
      ],
      "id": "mqQGm-3k7XfT"
    },
    {
      "cell_type": "markdown",
      "metadata": {
        "id": "uO41pDeo7XfU"
      },
      "source": [
        "You may also specify column(s) with `.loc` and `.iloc`:"
      ],
      "id": "uO41pDeo7XfU"
    },
    {
      "cell_type": "code",
      "execution_count": null,
      "metadata": {
        "id": "ZTMvSvYK7XfU"
      },
      "outputs": [],
      "source": [
        "grades_df.iloc[0:2, 0:4]"
      ],
      "id": "ZTMvSvYK7XfU"
    },
    {
      "cell_type": "markdown",
      "metadata": {
        "id": "tWlTdPoK7XfU"
      },
      "source": [
        "## Filter Rows"
      ],
      "id": "tWlTdPoK7XfU"
    },
    {
      "cell_type": "code",
      "execution_count": null,
      "metadata": {
        "id": "b0PzvaBt7XfV"
      },
      "outputs": [],
      "source": [
        "grades_df[grades_df.CSMODEL >= 3.5]"
      ],
      "id": "b0PzvaBt7XfV"
    },
    {
      "cell_type": "markdown",
      "metadata": {
        "id": "NMhMsSPE7XfV"
      },
      "source": [
        "## Sort Rows"
      ],
      "id": "NMhMsSPE7XfV"
    },
    {
      "cell_type": "code",
      "execution_count": null,
      "metadata": {
        "id": "jJrIG-M67XfV"
      },
      "outputs": [],
      "source": [
        "grades_df.sort_values(by='CSMODEL')"
      ],
      "id": "jJrIG-M67XfV"
    },
    {
      "cell_type": "code",
      "execution_count": null,
      "metadata": {
        "id": "RdfCiIcj7XfV"
      },
      "outputs": [],
      "source": [
        "# example of iloc\n",
        "grades_df.sort_values(by='CSMODEL').iloc[0]"
      ],
      "id": "RdfCiIcj7XfV"
    },
    {
      "cell_type": "markdown",
      "metadata": {
        "id": "Jk8MuOr-7XfW"
      },
      "source": [
        "## Adding New Columns\n",
        "\n",
        "For this, we are going to need the numpy [`where`](https://numpy.org/doc/stable/reference/generated/numpy.where.html) function"
      ],
      "id": "Jk8MuOr-7XfW"
    },
    {
      "cell_type": "code",
      "execution_count": null,
      "metadata": {
        "id": "lufpohYk7XfW"
      },
      "outputs": [],
      "source": [
        "import numpy as np"
      ],
      "id": "lufpohYk7XfW"
    },
    {
      "cell_type": "code",
      "execution_count": null,
      "metadata": {
        "id": "GwUwdi4t7XfX"
      },
      "outputs": [],
      "source": [
        "grades_df[\"Type\"] = np.where(grades_df[\"CSMODEL\"] >= 3.5, \"Excellent\", \"Good\")"
      ],
      "id": "GwUwdi4t7XfX"
    },
    {
      "cell_type": "code",
      "execution_count": null,
      "metadata": {
        "id": "26qQrRCL7XfX"
      },
      "outputs": [],
      "source": [
        "grades_df"
      ],
      "id": "26qQrRCL7XfX"
    },
    {
      "cell_type": "markdown",
      "metadata": {
        "id": "BUm8vYrv7XfX"
      },
      "source": [
        "## Aggregate Data"
      ],
      "id": "BUm8vYrv7XfX"
    },
    {
      "cell_type": "code",
      "execution_count": null,
      "metadata": {
        "id": "0Jl_woEu7XfX"
      },
      "outputs": [],
      "source": [
        "# Getting the Mean of the CSMODEL column\n",
        "grades_df[\"CSMODEL\"].mean()"
      ],
      "id": "0Jl_woEu7XfX"
    },
    {
      "cell_type": "code",
      "execution_count": null,
      "metadata": {
        "id": "ZQ9R0daF7XfX"
      },
      "outputs": [],
      "source": [
        "# Getting the Mean of all of the applicable columns in the DataFrame\n",
        "grades_df.mean()"
      ],
      "id": "ZQ9R0daF7XfX"
    },
    {
      "cell_type": "markdown",
      "metadata": {
        "id": "3wLcZe_B7XfY"
      },
      "source": [
        "You can also aggregate data using the [`agg`](https://pandas.pydata.org/pandas-docs/stable/reference/api/pandas.DataFrame.agg.html) function."
      ],
      "id": "3wLcZe_B7XfY"
    },
    {
      "cell_type": "code",
      "execution_count": null,
      "metadata": {
        "id": "mFD-l8RD7XfY"
      },
      "outputs": [],
      "source": [
        "grades_df[\"CSMODEL\"].agg(['mean','std','min','max'])"
      ],
      "id": "mFD-l8RD7XfY"
    },
    {
      "cell_type": "markdown",
      "metadata": {
        "id": "I5AIcUOF7XfY"
      },
      "source": [
        "## Group By Variable"
      ],
      "id": "I5AIcUOF7XfY"
    },
    {
      "cell_type": "code",
      "execution_count": null,
      "metadata": {
        "id": "ktyh3mif7XfY"
      },
      "outputs": [],
      "source": [
        "grades_df[[\"Section\",\"CSMODEL\"]].groupby(by=\"Section\").min()"
      ],
      "id": "ktyh3mif7XfY"
    },
    {
      "cell_type": "code",
      "execution_count": null,
      "metadata": {
        "id": "TgfuNsBB7XfY"
      },
      "outputs": [],
      "source": [
        "grades_df[[\"Section\", \"CSMODEL\"]]"
      ],
      "id": "TgfuNsBB7XfY"
    },
    {
      "cell_type": "code",
      "execution_count": null,
      "metadata": {
        "id": "xr0SkaYP7XfZ"
      },
      "outputs": [],
      "source": [
        "grades_df[[\"Section\",\"CSMODEL\"]].groupby(by=\"Section\").max()"
      ],
      "id": "xr0SkaYP7XfZ"
    },
    {
      "cell_type": "markdown",
      "metadata": {
        "id": "JyYebtGC7XfZ"
      },
      "source": [
        "To combine [`min`](https://pandas.pydata.org/pandas-docs/stable/reference/api/pandas.DataFrame.min.html) and [`max`](https://pandas.pydata.org/pandas-docs/stable/reference/api/pandas.DataFrame.max.html) of both sections under the same dataframe, we can use the [`agg`](https://pandas.pydata.org/pandas-docs/stable/reference/api/pandas.DataFrame.agg.html) function"
      ],
      "id": "JyYebtGC7XfZ"
    },
    {
      "cell_type": "code",
      "execution_count": null,
      "metadata": {
        "id": "JsWJ88yp7XfZ"
      },
      "outputs": [],
      "source": [
        "grades_df[[\"Section\",\"CSMODEL\"]].groupby(by=\"Section\").agg(['min','max'])"
      ],
      "id": "JsWJ88yp7XfZ"
    }
  ],
  "metadata": {
    "kernelspec": {
      "display_name": "Python 3",
      "language": "python",
      "name": "python3"
    },
    "language_info": {
      "codemirror_mode": {
        "name": "ipython",
        "version": 3
      },
      "file_extension": ".py",
      "mimetype": "text/x-python",
      "name": "python",
      "nbconvert_exporter": "python",
      "pygments_lexer": "ipython3",
      "version": "3.8.5"
    },
    "colab": {
      "provenance": [],
      "include_colab_link": true
    }
  },
  "nbformat": 4,
  "nbformat_minor": 5
}
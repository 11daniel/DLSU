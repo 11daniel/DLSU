{
  "cells": [
    {
      "cell_type": "markdown",
      "metadata": {
        "id": "czhiaR3kaaXE"
      },
      "source": [
        "# Remember Vectors and Matrices?\n",
        "In your previous math courses, you learned the concept of vectors and matrices. In CSMODEL, we would also be using vectors and matrices. However, instead of using pen and paper, we are going to use Python to define vectors and matrices and perform operations on them. In this Notebook, we will see how we can represent vectors and matrices using NumPy, a useful package for Python for mathematical operations.\n",
        "\n",
        "Our Notebooks in CSMODEL are designed to be guided learning activities. To use them, simply go through the cells from top to bottom, following the directions along the way. If you find any unclear parts or mistakes in the Notebooks, email your instructor."
      ]
    },
    {
      "cell_type": "markdown",
      "metadata": {
        "id": "id84qaTKaaXG"
      },
      "source": [
        "## NumPy\n",
        "**NumPy** is a library for the Python programming language. It contains a large collection of mathematical functions, as well as convenient data structures to represent vectors and matrices. To use NumPy, we first need to import it."
      ]
    },
    {
      "cell_type": "code",
      "execution_count": 13,
      "metadata": {
        "id": "oe-1H3TEaaXH"
      },
      "outputs": [],
      "source": [
        "import numpy as np"
      ]
    },
    {
      "cell_type": "markdown",
      "metadata": {
        "id": "Kj-rnOF1aaXI"
      },
      "source": [
        "Now, we can access the functionalities of NumPy as `np`."
      ]
    },
    {
      "cell_type": "markdown",
      "metadata": {
        "id": "TMg_f3vSaaXJ"
      },
      "source": [
        "## Creating Vectors and Matrices\n",
        "\n",
        "A vector is a list of numbers, which could be in a row or in a column. To create vectors in NumPy, we simply use the `np.array()` function. To create this vector:\n",
        "\\begin{equation*}\n",
        "\\begin{bmatrix}\n",
        "2 & 4 & 6\n",
        "\\end{bmatrix}\n",
        "\\end{equation*}"
      ]
    },
    {
      "cell_type": "code",
      "execution_count": 14,
      "metadata": {
        "colab": {
          "base_uri": "https://localhost:8080/"
        },
        "id": "NrsZCAwKaaXJ",
        "outputId": "36568ae1-66f6-49ae-baec-bee400db1b0d"
      },
      "outputs": [
        {
          "output_type": "execute_result",
          "data": {
            "text/plain": [
              "array([2, 4, 6])"
            ]
          },
          "metadata": {},
          "execution_count": 14
        }
      ],
      "source": [
        "v = np.array([2, 4, 6])\n",
        "v"
      ]
    },
    {
      "cell_type": "markdown",
      "metadata": {
        "id": "detTAcLbaaXJ"
      },
      "source": [
        "The vector above is a 1-dimensional vector. However, sometimes, you would want to define a row vector or a column vector. In this case, you can use a 2-dimensional array to initialize the vector."
      ]
    },
    {
      "cell_type": "markdown",
      "metadata": {
        "id": "fj802wa9aaXJ"
      },
      "source": [
        "To create this row vector:\n",
        "\\begin{equation*}\n",
        "\\begin{bmatrix}\n",
        "2 & 4 & 6\n",
        "\\end{bmatrix}\n",
        "\\end{equation*}"
      ]
    },
    {
      "cell_type": "code",
      "execution_count": 15,
      "metadata": {
        "colab": {
          "base_uri": "https://localhost:8080/"
        },
        "id": "TaHvEQBZaaXK",
        "outputId": "78d079d6-8ffc-4a64-b261-8533a146fddb"
      },
      "outputs": [
        {
          "output_type": "execute_result",
          "data": {
            "text/plain": [
              "array([[2, 4, 6]])"
            ]
          },
          "metadata": {},
          "execution_count": 15
        }
      ],
      "source": [
        "v = np.array([[2, 4, 6]])\n",
        "v"
      ]
    },
    {
      "cell_type": "markdown",
      "metadata": {
        "id": "YRA9Yk9naaXK"
      },
      "source": [
        "To create this column vector:\n",
        "\\begin{equation*}\n",
        "\\begin{bmatrix}\n",
        "2 \\\\\n",
        "4 \\\\\n",
        "6\n",
        "\\end{bmatrix}\n",
        "\\end{equation*}"
      ]
    },
    {
      "cell_type": "code",
      "execution_count": 16,
      "metadata": {
        "scrolled": true,
        "colab": {
          "base_uri": "https://localhost:8080/"
        },
        "id": "fRPYzMLTaaXK",
        "outputId": "3c985d29-6f32-4582-eff2-c2df2a2c4162"
      },
      "outputs": [
        {
          "output_type": "execute_result",
          "data": {
            "text/plain": [
              "array([[2],\n",
              "       [4],\n",
              "       [6]])"
            ]
          },
          "metadata": {},
          "execution_count": 16
        }
      ],
      "source": [
        "v = np.array([[2],\n",
        "              [4],\n",
        "              [6]])\n",
        "v"
      ]
    },
    {
      "cell_type": "markdown",
      "metadata": {
        "id": "ogLDiontaaXK"
      },
      "source": [
        "A matrix is a rectangular array arranged in rows and columns. To create matrices in NumPy, we also use the `np.array()` function."
      ]
    },
    {
      "cell_type": "markdown",
      "metadata": {
        "id": "a8AfFApYaaXK"
      },
      "source": [
        "To create this matrix:\n",
        "\\begin{equation*}\n",
        "\\begin{bmatrix}\n",
        "1 & 2  & 3  & 4  \\\\\n",
        "5 & 6  & 7  & 8  \\\\\n",
        "9 & 10 & 11 & 12\n",
        "\\end{bmatrix}\n",
        "\\end{equation*}"
      ]
    },
    {
      "cell_type": "code",
      "execution_count": 17,
      "metadata": {
        "scrolled": false,
        "colab": {
          "base_uri": "https://localhost:8080/"
        },
        "id": "UZd9c-yjaaXL",
        "outputId": "ffefef6f-6dcc-45c3-e1b9-f6d10e748529"
      },
      "outputs": [
        {
          "output_type": "execute_result",
          "data": {
            "text/plain": [
              "array([[ 1,  2,  3,  4],\n",
              "       [ 5,  6,  7,  8],\n",
              "       [ 9, 10, 11, 12]])"
            ]
          },
          "metadata": {},
          "execution_count": 17
        }
      ],
      "source": [
        "A = np.array([[1,  2,  3,  4],\n",
        "              [5,  6,  7,  8],\n",
        "              [9, 10, 11, 12]])\n",
        "A"
      ]
    },
    {
      "cell_type": "markdown",
      "metadata": {
        "id": "fGlbMF_qaaXL"
      },
      "source": [
        "To create this matrix:\n",
        "\\begin{equation*}\n",
        "\\begin{bmatrix}\n",
        "10 &  20 \\\\\n",
        "30 &  40 \\\\\n",
        "50 &  60 \\\\\n",
        "70 &  80 \\\\\n",
        "90 & 100\n",
        "\\end{bmatrix}\n",
        "\\end{equation*}"
      ]
    },
    {
      "cell_type": "code",
      "execution_count": 18,
      "metadata": {
        "scrolled": false,
        "colab": {
          "base_uri": "https://localhost:8080/"
        },
        "id": "ANwEQJQIaaXL",
        "outputId": "5939fdd3-9bfe-46b7-b8b9-224b59414061"
      },
      "outputs": [
        {
          "output_type": "execute_result",
          "data": {
            "text/plain": [
              "array([[ 10,  20],\n",
              "       [ 30,  40],\n",
              "       [ 50,  60],\n",
              "       [ 70,  80],\n",
              "       [ 90, 100]])"
            ]
          },
          "metadata": {},
          "execution_count": 18
        }
      ],
      "source": [
        "A = np.array([[10,  20],\n",
        "              [30,  40],\n",
        "              [50,  60],\n",
        "              [70,  80],\n",
        "              [90, 100]])\n",
        "A"
      ]
    },
    {
      "cell_type": "markdown",
      "metadata": {
        "id": "-e2OlMNlaaXL"
      },
      "source": [
        "You can use `np.zeroes()` to create a vector or matrix full of 0s. Note that the parameter of this function is a tuple representing the shape of the vector or matrix. In NumPy, shape just refers to the dimensions of the array."
      ]
    },
    {
      "cell_type": "code",
      "execution_count": 19,
      "metadata": {
        "colab": {
          "base_uri": "https://localhost:8080/"
        },
        "id": "6kmT7ifZaaXL",
        "outputId": "e1bf51e5-b93c-4160-f476-2ffede950c4c"
      },
      "outputs": [
        {
          "output_type": "execute_result",
          "data": {
            "text/plain": [
              "array([[0., 0., 0., 0., 0., 0.],\n",
              "       [0., 0., 0., 0., 0., 0.],\n",
              "       [0., 0., 0., 0., 0., 0.]])"
            ]
          },
          "metadata": {},
          "execution_count": 19
        }
      ],
      "source": [
        "np.zeros((3, 6))"
      ]
    },
    {
      "cell_type": "markdown",
      "metadata": {
        "id": "143C4oAVaaXM"
      },
      "source": [
        "You can also use `np.ones()` to create a vector or matrix full of 1s."
      ]
    },
    {
      "cell_type": "code",
      "execution_count": 20,
      "metadata": {
        "scrolled": false,
        "colab": {
          "base_uri": "https://localhost:8080/"
        },
        "id": "LxkMXmd0aaXM",
        "outputId": "831870ee-eab3-48c1-9549-ce3d5ecc2601"
      },
      "outputs": [
        {
          "output_type": "execute_result",
          "data": {
            "text/plain": [
              "array([[1., 1., 1., 1., 1.],\n",
              "       [1., 1., 1., 1., 1.],\n",
              "       [1., 1., 1., 1., 1.],\n",
              "       [1., 1., 1., 1., 1.],\n",
              "       [1., 1., 1., 1., 1.],\n",
              "       [1., 1., 1., 1., 1.],\n",
              "       [1., 1., 1., 1., 1.]])"
            ]
          },
          "metadata": {},
          "execution_count": 20
        }
      ],
      "source": [
        "np.ones((7, 5))"
      ]
    },
    {
      "cell_type": "markdown",
      "metadata": {
        "id": "hOLMqJg4aaXM"
      },
      "source": [
        "## Indexing\n",
        "\n",
        "You can index a specific element from the vector using array-style indexing. Note the use of negative indices as discussed in the previous Notebook. You may play around the indices here to experiment."
      ]
    },
    {
      "cell_type": "markdown",
      "metadata": {
        "id": "8atvDdtVaaXM"
      },
      "source": [
        "Initialize vector `v` and matrix `A`."
      ]
    },
    {
      "cell_type": "code",
      "execution_count": 21,
      "metadata": {
        "id": "0OdDXnhGaaXM"
      },
      "outputs": [],
      "source": [
        "v = np.array([10, 20, 30, 40, 50, 60, 70, 80])\n",
        "A = np.array([[ 2,  4,  6],\n",
        "              [ 8, 10, 12],\n",
        "              [14, 16, 18]])"
      ]
    },
    {
      "cell_type": "markdown",
      "metadata": {
        "id": "SSpuzPJ-aaXM"
      },
      "source": [
        "Get the element in index 2 of vector `v`."
      ]
    },
    {
      "cell_type": "code",
      "execution_count": 22,
      "metadata": {
        "scrolled": true,
        "colab": {
          "base_uri": "https://localhost:8080/"
        },
        "id": "tRoSiNaVaaXM",
        "outputId": "c72deacc-057e-4a06-94f3-f61af760a567"
      },
      "outputs": [
        {
          "output_type": "execute_result",
          "data": {
            "text/plain": [
              "30"
            ]
          },
          "metadata": {},
          "execution_count": 22
        }
      ],
      "source": [
        "v[2]"
      ]
    },
    {
      "cell_type": "markdown",
      "metadata": {
        "id": "jaVrh-DkaaXM"
      },
      "source": [
        "Get the element in the second to the last index of vector `v`."
      ]
    },
    {
      "cell_type": "code",
      "execution_count": 23,
      "metadata": {
        "colab": {
          "base_uri": "https://localhost:8080/"
        },
        "id": "GxWCJVUoaaXN",
        "outputId": "4d14e9f1-3e5d-480c-8139-7620a5ab0794"
      },
      "outputs": [
        {
          "output_type": "execute_result",
          "data": {
            "text/plain": [
              "70"
            ]
          },
          "metadata": {},
          "execution_count": 23
        }
      ],
      "source": [
        "v[-2]"
      ]
    },
    {
      "cell_type": "markdown",
      "metadata": {
        "id": "xbK-zs79aaXN"
      },
      "source": [
        "Get the element in row index 1 and column index 2 of matrix `A`."
      ]
    },
    {
      "cell_type": "code",
      "execution_count": 24,
      "metadata": {
        "scrolled": true,
        "colab": {
          "base_uri": "https://localhost:8080/"
        },
        "id": "9GI0jtX4aaXN",
        "outputId": "14716bfe-541b-4a90-bca3-7d65f7a7dc62"
      },
      "outputs": [
        {
          "output_type": "execute_result",
          "data": {
            "text/plain": [
              "12"
            ]
          },
          "metadata": {},
          "execution_count": 24
        }
      ],
      "source": [
        "A[1, 2]"
      ]
    },
    {
      "cell_type": "markdown",
      "metadata": {
        "id": "1XoWTH4ZaaXN"
      },
      "source": [
        "Get the element in the last row and last column of matrix `A`."
      ]
    },
    {
      "cell_type": "code",
      "execution_count": 25,
      "metadata": {
        "scrolled": true,
        "colab": {
          "base_uri": "https://localhost:8080/"
        },
        "id": "Onb2FFP9aaXN",
        "outputId": "1859f2b6-cf23-40f7-9236-972cd7ec7af0"
      },
      "outputs": [
        {
          "output_type": "execute_result",
          "data": {
            "text/plain": [
              "18"
            ]
          },
          "metadata": {},
          "execution_count": 25
        }
      ],
      "source": [
        "A[-1, -1]"
      ]
    },
    {
      "cell_type": "markdown",
      "metadata": {
        "id": "4pjG924FaaXN"
      },
      "source": [
        "You can select an entire row or column of a matrix by using slicing techniques on either dimension."
      ]
    },
    {
      "cell_type": "markdown",
      "metadata": {
        "id": "dsx_A6qJaaXN"
      },
      "source": [
        "Initialize matrix `A`."
      ]
    },
    {
      "cell_type": "code",
      "execution_count": 26,
      "metadata": {
        "id": "ZSSF1-W_aaXN"
      },
      "outputs": [],
      "source": [
        "A = np.array([[ 2,  4,  6],\n",
        "              [ 8, 10, 12],\n",
        "              [14, 16, 18]])"
      ]
    },
    {
      "cell_type": "markdown",
      "metadata": {
        "id": "cwdtUPlTaaXO"
      },
      "source": [
        "Select the first row of matrix `A`."
      ]
    },
    {
      "cell_type": "code",
      "execution_count": 27,
      "metadata": {
        "colab": {
          "base_uri": "https://localhost:8080/"
        },
        "id": "9iToLXlcaaXO",
        "outputId": "d554b58c-9702-44a9-ab1a-383b5e50aee7"
      },
      "outputs": [
        {
          "output_type": "execute_result",
          "data": {
            "text/plain": [
              "array([2, 4, 6])"
            ]
          },
          "metadata": {},
          "execution_count": 27
        }
      ],
      "source": [
        "A[0, :]"
      ]
    },
    {
      "cell_type": "markdown",
      "metadata": {
        "id": "zZ30eUE3aaXO"
      },
      "source": [
        "Select the second column of matrix `A`."
      ]
    },
    {
      "cell_type": "code",
      "execution_count": 28,
      "metadata": {
        "scrolled": true,
        "colab": {
          "base_uri": "https://localhost:8080/"
        },
        "id": "k5XuikheaaXO",
        "outputId": "e8198fd6-cde9-4249-bf41-69a58b5b5428"
      },
      "outputs": [
        {
          "output_type": "execute_result",
          "data": {
            "text/plain": [
              "array([ 4, 10, 16])"
            ]
          },
          "metadata": {},
          "execution_count": 28
        }
      ],
      "source": [
        "A[:, 1]"
      ]
    },
    {
      "cell_type": "markdown",
      "metadata": {
        "id": "qSGqWP5naaXO"
      },
      "source": [
        "Select the last column of matrix `A`."
      ]
    },
    {
      "cell_type": "code",
      "execution_count": 29,
      "metadata": {
        "colab": {
          "base_uri": "https://localhost:8080/"
        },
        "id": "UiBjO2VSaaXP",
        "outputId": "730dbcf8-bbf7-4d8b-b78d-f4f2e255303a"
      },
      "outputs": [
        {
          "output_type": "execute_result",
          "data": {
            "text/plain": [
              "array([ 6, 12, 18])"
            ]
          },
          "metadata": {},
          "execution_count": 29
        }
      ],
      "source": [
        "A[:, -1]"
      ]
    },
    {
      "cell_type": "markdown",
      "metadata": {
        "id": "gr0vM9qiaaXP"
      },
      "source": [
        "And by extension, you can select any subset of a matrix by using slicing operations. The cell below has no output, but be sure to execute it because the next cells use the variables created here."
      ]
    },
    {
      "cell_type": "code",
      "execution_count": 30,
      "metadata": {
        "id": "KnMmAEWaaaXP"
      },
      "outputs": [],
      "source": [
        "A = np.array([[ 2,  4,  6,  8, 10],\n",
        "              [12, 14, 16, 18, 20],\n",
        "              [22, 24, 26, 28, 30],\n",
        "              [32, 34, 36, 38, 40],\n",
        "              [42, 44, 46, 48, 50]])"
      ]
    },
    {
      "cell_type": "markdown",
      "metadata": {
        "id": "FeoAgrAYaaXP"
      },
      "source": [
        "Select the first 3 rows of matrix `A`."
      ]
    },
    {
      "cell_type": "code",
      "execution_count": 31,
      "metadata": {
        "scrolled": true,
        "colab": {
          "base_uri": "https://localhost:8080/"
        },
        "id": "mxt2xx1laaXP",
        "outputId": "65c6c97c-9c19-4445-cc6d-480de1e9cb9f"
      },
      "outputs": [
        {
          "output_type": "execute_result",
          "data": {
            "text/plain": [
              "array([[ 2,  4,  6,  8, 10],\n",
              "       [12, 14, 16, 18, 20],\n",
              "       [22, 24, 26, 28, 30]])"
            ]
          },
          "metadata": {},
          "execution_count": 31
        }
      ],
      "source": [
        "A[:3, :]"
      ]
    },
    {
      "cell_type": "markdown",
      "metadata": {
        "id": "lZeEBVWeaaXP"
      },
      "source": [
        "Select the last 2 rows of matrix `A`."
      ]
    },
    {
      "cell_type": "code",
      "execution_count": 32,
      "metadata": {
        "scrolled": true,
        "colab": {
          "base_uri": "https://localhost:8080/"
        },
        "id": "5vgX5zLgaaXP",
        "outputId": "8d770bde-9821-49d3-eba4-2e287c432fed"
      },
      "outputs": [
        {
          "output_type": "execute_result",
          "data": {
            "text/plain": [
              "array([[32, 34, 36, 38, 40],\n",
              "       [42, 44, 46, 48, 50]])"
            ]
          },
          "metadata": {},
          "execution_count": 32
        }
      ],
      "source": [
        "A[-2:, :]"
      ]
    },
    {
      "cell_type": "markdown",
      "metadata": {
        "id": "3xGhdemIaaXP"
      },
      "source": [
        "Select the last 3 columns of matrix `A`."
      ]
    },
    {
      "cell_type": "code",
      "execution_count": 33,
      "metadata": {
        "scrolled": true,
        "colab": {
          "base_uri": "https://localhost:8080/"
        },
        "id": "u3bv7nZFaaXQ",
        "outputId": "3d29a564-bf2f-4a09-f6f2-63be0207770a"
      },
      "outputs": [
        {
          "output_type": "execute_result",
          "data": {
            "text/plain": [
              "array([[ 6,  8, 10],\n",
              "       [16, 18, 20],\n",
              "       [26, 28, 30],\n",
              "       [36, 38, 40],\n",
              "       [46, 48, 50]])"
            ]
          },
          "metadata": {},
          "execution_count": 33
        }
      ],
      "source": [
        "A[:, -3:]"
      ]
    },
    {
      "cell_type": "markdown",
      "metadata": {
        "id": "rLKduzBpaaXQ"
      },
      "source": [
        "Select the $3\\times3$ sub-matrix from the top left corner of matrix `A`."
      ]
    },
    {
      "cell_type": "code",
      "execution_count": 34,
      "metadata": {
        "colab": {
          "base_uri": "https://localhost:8080/"
        },
        "id": "OH9QNiSLaaXQ",
        "outputId": "526f04d9-da51-4657-a9e6-bd7818ae1395"
      },
      "outputs": [
        {
          "output_type": "execute_result",
          "data": {
            "text/plain": [
              "array([[ 2,  4,  6],\n",
              "       [12, 14, 16],\n",
              "       [22, 24, 26]])"
            ]
          },
          "metadata": {},
          "execution_count": 34
        }
      ],
      "source": [
        "A[0:3, 0:3]"
      ]
    },
    {
      "cell_type": "markdown",
      "metadata": {
        "id": "xqKT29MzaaXQ"
      },
      "source": [
        "**Practice!** Select the number 14 from the matrix `X`."
      ]
    },
    {
      "cell_type": "code",
      "execution_count": 35,
      "metadata": {
        "colab": {
          "base_uri": "https://localhost:8080/"
        },
        "id": "Z_Y7EHpGaaXQ",
        "outputId": "018326bf-d4e6-4557-fc65-1f0877d47ac5"
      },
      "outputs": [
        {
          "output_type": "execute_result",
          "data": {
            "text/plain": [
              "14"
            ]
          },
          "metadata": {},
          "execution_count": 35
        }
      ],
      "source": [
        "X = np.array([[ 2,  4,  6],\n",
        "              [ 8, 10, 12],\n",
        "              [14, 16, 18]])\n",
        "\n",
        "# Write your code here\n",
        "X[2, 0]"
      ]
    },
    {
      "cell_type": "markdown",
      "metadata": {
        "id": "uD9pKuefaaXQ"
      },
      "source": [
        "**Practice!** Select the third row from the matrix `Y` (the one with 1s)."
      ]
    },
    {
      "cell_type": "code",
      "execution_count": 36,
      "metadata": {
        "colab": {
          "base_uri": "https://localhost:8080/"
        },
        "id": "UYYlYoBuaaXQ",
        "outputId": "b75c19af-cd0b-42e6-b39f-a63926872c13"
      },
      "outputs": [
        {
          "output_type": "execute_result",
          "data": {
            "text/plain": [
              "array([1, 1, 1, 1])"
            ]
          },
          "metadata": {},
          "execution_count": 36
        }
      ],
      "source": [
        "Y = np.array([[0, 0, 0, 0],\n",
        "              [0, 0, 0, 0],\n",
        "              [1, 1, 1, 1],\n",
        "              [0, 0, 0, 0],\n",
        "              [0, 0, 0, 0],\n",
        "              [0, 0, 0, 0]])\n",
        "\n",
        "# Write your code here\n",
        "Y[2, :]"
      ]
    },
    {
      "cell_type": "markdown",
      "metadata": {
        "id": "klnAPLJ-aaXR"
      },
      "source": [
        "**Practice!** Select the first three columns from matrix `C`, but exclude the last row which only contains zeroes."
      ]
    },
    {
      "cell_type": "code",
      "execution_count": 37,
      "metadata": {
        "colab": {
          "base_uri": "https://localhost:8080/"
        },
        "id": "rQw3RbaFaaXR",
        "outputId": "08e91e88-3b6a-423a-a20e-d8e2f016a14c"
      },
      "outputs": [
        {
          "output_type": "execute_result",
          "data": {
            "text/plain": [
              "array([[ 1,  3,  5],\n",
              "       [11, 13, 15],\n",
              "       [21, 23, 25]])"
            ]
          },
          "metadata": {},
          "execution_count": 37
        }
      ],
      "source": [
        "C = np.array([[ 1,  3,  5,  7,  9],\n",
        "              [11, 13, 15, 17, 19],\n",
        "              [21, 23, 25, 27, 29],\n",
        "              [ 0,  0,  0,  0,  0]])\n",
        "\n",
        "# Write your code here\n",
        "C[:3, :3]"
      ]
    },
    {
      "cell_type": "markdown",
      "metadata": {
        "id": "Yqh7i1pIaaXR"
      },
      "source": [
        "## Shape\n",
        "\n",
        "To check the dimensions of a NumPy array, use the `np.shape()` function. In NumPy, shape simply means the dimension of the array, and is represented as a tuple."
      ]
    },
    {
      "cell_type": "markdown",
      "metadata": {
        "id": "k0MhKgoRaaXR"
      },
      "source": [
        "Vector with one axis."
      ]
    },
    {
      "cell_type": "code",
      "execution_count": 38,
      "metadata": {
        "colab": {
          "base_uri": "https://localhost:8080/"
        },
        "id": "SMni4fVqaaXR",
        "outputId": "e2077b67-5ad8-43c9-fac4-f22072c953d9"
      },
      "outputs": [
        {
          "output_type": "execute_result",
          "data": {
            "text/plain": [
              "(5,)"
            ]
          },
          "metadata": {},
          "execution_count": 38
        }
      ],
      "source": [
        "v = np.array([1, 2, 3, 4, 5])\n",
        "np.shape(v)"
      ]
    },
    {
      "cell_type": "markdown",
      "metadata": {
        "id": "n0khdvdWaaXR"
      },
      "source": [
        "Vector with two axes."
      ]
    },
    {
      "cell_type": "code",
      "execution_count": 39,
      "metadata": {
        "scrolled": false,
        "colab": {
          "base_uri": "https://localhost:8080/"
        },
        "id": "eg8zM3NlaaXR",
        "outputId": "22a94c40-3cbd-48a3-aafc-6ef4525dd265"
      },
      "outputs": [
        {
          "output_type": "execute_result",
          "data": {
            "text/plain": [
              "(1, 5)"
            ]
          },
          "metadata": {},
          "execution_count": 39
        }
      ],
      "source": [
        "v = np.array([[1, 2, 3, 4, 5]])\n",
        "np.shape(v)"
      ]
    },
    {
      "cell_type": "markdown",
      "metadata": {
        "id": "oBFwLJlAaaXS"
      },
      "source": [
        "Vector with two axes."
      ]
    },
    {
      "cell_type": "code",
      "execution_count": 40,
      "metadata": {
        "scrolled": true,
        "colab": {
          "base_uri": "https://localhost:8080/"
        },
        "id": "GBtZ9evCaaXS",
        "outputId": "cfa8461a-03a7-4636-b2f9-77d8595fd59e"
      },
      "outputs": [
        {
          "output_type": "execute_result",
          "data": {
            "text/plain": [
              "(3, 1)"
            ]
          },
          "metadata": {},
          "execution_count": 40
        }
      ],
      "source": [
        "v = np.array([[1],\n",
        "              [2],\n",
        "              [3]])\n",
        "np.shape(v)"
      ]
    },
    {
      "cell_type": "markdown",
      "metadata": {
        "id": "Sj2RGl_DaaXS"
      },
      "source": [
        "Matrix with 2 rows and 3 columns."
      ]
    },
    {
      "cell_type": "code",
      "execution_count": 41,
      "metadata": {
        "colab": {
          "base_uri": "https://localhost:8080/"
        },
        "id": "rQOSjaIcaaXS",
        "outputId": "21c784c0-0df3-4929-b613-41c406098fe0"
      },
      "outputs": [
        {
          "output_type": "execute_result",
          "data": {
            "text/plain": [
              "(2, 3)"
            ]
          },
          "metadata": {},
          "execution_count": 41
        }
      ],
      "source": [
        "A = np.array([[1, 2, 3],\n",
        "              [1, 2, 3]])\n",
        "np.shape(A)"
      ]
    },
    {
      "cell_type": "markdown",
      "metadata": {
        "id": "fYfjSTsNaaXS"
      },
      "source": [
        "Matrix with 6 rows and 4 columns."
      ]
    },
    {
      "cell_type": "code",
      "execution_count": 42,
      "metadata": {
        "colab": {
          "base_uri": "https://localhost:8080/"
        },
        "id": "cP7BqkQeaaXS",
        "outputId": "75c9b241-e5fa-43f4-adba-8ef4072c339e"
      },
      "outputs": [
        {
          "output_type": "execute_result",
          "data": {
            "text/plain": [
              "(6, 4)"
            ]
          },
          "metadata": {},
          "execution_count": 42
        }
      ],
      "source": [
        "A = np.array([[1, 2, 3, 4],\n",
        "              [1, 2, 3, 4],\n",
        "              [1, 2, 3, 4],\n",
        "              [1, 2, 3, 4],\n",
        "              [1, 2, 3, 4],\n",
        "              [1, 2, 3, 4]])\n",
        "np.shape(A)"
      ]
    },
    {
      "cell_type": "markdown",
      "metadata": {
        "id": "4lBFo09MaaXT"
      },
      "source": [
        "## Reshape\n",
        "The `reshape()` function allows you to change the dimensions of an existing vector or matrix by passing a tuple representing the new shape."
      ]
    },
    {
      "cell_type": "markdown",
      "metadata": {
        "id": "yjurGyvxaaXT"
      },
      "source": [
        "Initialize vector `original`."
      ]
    },
    {
      "cell_type": "code",
      "execution_count": 43,
      "metadata": {
        "id": "NDWoH8fOaaXT"
      },
      "outputs": [],
      "source": [
        "original = np.array([[1, 2, 3, 4, 5, 6, 7, 8, 9, 10, 11, 12, 13, 14, 15, 16]])"
      ]
    },
    {
      "cell_type": "markdown",
      "metadata": {
        "id": "4M2coDjZaaXT"
      },
      "source": [
        "Reshape vector `original` to a matrix with 4 rows and 4 columns."
      ]
    },
    {
      "cell_type": "code",
      "execution_count": 44,
      "metadata": {
        "scrolled": true,
        "colab": {
          "base_uri": "https://localhost:8080/"
        },
        "id": "zE-2fdojaaXT",
        "outputId": "417a7eea-5f99-42a2-b943-9ab856b61228"
      },
      "outputs": [
        {
          "output_type": "execute_result",
          "data": {
            "text/plain": [
              "array([[ 1,  2,  3,  4],\n",
              "       [ 5,  6,  7,  8],\n",
              "       [ 9, 10, 11, 12],\n",
              "       [13, 14, 15, 16]])"
            ]
          },
          "metadata": {},
          "execution_count": 44
        }
      ],
      "source": [
        "original.reshape((4, 4))"
      ]
    },
    {
      "cell_type": "markdown",
      "metadata": {
        "id": "D_kG_zE2aaXT"
      },
      "source": [
        "Reshape vector `original` to a matrix with 2 rows and 8 columns."
      ]
    },
    {
      "cell_type": "code",
      "execution_count": 45,
      "metadata": {
        "colab": {
          "base_uri": "https://localhost:8080/"
        },
        "id": "sYarnKZ1aaXT",
        "outputId": "d2977bf0-7eaa-4665-b12c-ff1fdbd87bba"
      },
      "outputs": [
        {
          "output_type": "execute_result",
          "data": {
            "text/plain": [
              "array([[ 1,  2,  3,  4,  5,  6,  7,  8],\n",
              "       [ 9, 10, 11, 12, 13, 14, 15, 16]])"
            ]
          },
          "metadata": {},
          "execution_count": 45
        }
      ],
      "source": [
        "original.reshape((2, 8))"
      ]
    },
    {
      "cell_type": "markdown",
      "metadata": {
        "id": "s7Nx34rraaXU"
      },
      "source": [
        "The example below will yield an error because the new shape is not compatible with the original shape."
      ]
    },
    {
      "cell_type": "code",
      "execution_count": 46,
      "metadata": {
        "scrolled": false,
        "colab": {
          "base_uri": "https://localhost:8080/",
          "height": 141
        },
        "id": "_mmHyqMbaaXU",
        "outputId": "3c3a5177-f730-4c00-a918-0272e50d4979"
      },
      "outputs": [
        {
          "output_type": "error",
          "ename": "ValueError",
          "evalue": "cannot reshape array of size 16 into shape (5,3)",
          "traceback": [
            "\u001b[0;31m---------------------------------------------------------------------------\u001b[0m",
            "\u001b[0;31mValueError\u001b[0m                                Traceback (most recent call last)",
            "\u001b[0;32m<ipython-input-46-5438107fbbf4>\u001b[0m in \u001b[0;36m<cell line: 1>\u001b[0;34m()\u001b[0m\n\u001b[0;32m----> 1\u001b[0;31m \u001b[0moriginal\u001b[0m\u001b[0;34m.\u001b[0m\u001b[0mreshape\u001b[0m\u001b[0;34m(\u001b[0m\u001b[0;34m(\u001b[0m\u001b[0;36m5\u001b[0m\u001b[0;34m,\u001b[0m \u001b[0;36m3\u001b[0m\u001b[0;34m)\u001b[0m\u001b[0;34m)\u001b[0m\u001b[0;34m\u001b[0m\u001b[0;34m\u001b[0m\u001b[0m\n\u001b[0m",
            "\u001b[0;31mValueError\u001b[0m: cannot reshape array of size 16 into shape (5,3)"
          ]
        }
      ],
      "source": [
        "original.reshape((5, 3))"
      ]
    },
    {
      "cell_type": "markdown",
      "metadata": {
        "id": "cIMTIM2_aaXU"
      },
      "source": [
        "You can reshape not only vectors, but also matrices."
      ]
    },
    {
      "cell_type": "markdown",
      "metadata": {
        "id": "Kqto1tzFaaXU"
      },
      "source": [
        "Initialize matrix `original`."
      ]
    },
    {
      "cell_type": "code",
      "execution_count": 47,
      "metadata": {
        "id": "aYNcKI-1aaXU"
      },
      "outputs": [],
      "source": [
        "original = np.array([[1, 2, 3, 4],\n",
        "                     [5, 6, 7, 8]])"
      ]
    },
    {
      "cell_type": "markdown",
      "metadata": {
        "id": "JkcPpa41aaXU"
      },
      "source": [
        "Reshape matrix `original` to a vector with two axes."
      ]
    },
    {
      "cell_type": "code",
      "execution_count": 48,
      "metadata": {
        "colab": {
          "base_uri": "https://localhost:8080/"
        },
        "id": "aq_bokY9aaXU",
        "outputId": "ad51ad26-ba58-450b-caa9-6f84eb0f4e00"
      },
      "outputs": [
        {
          "output_type": "execute_result",
          "data": {
            "text/plain": [
              "array([[1, 2, 3, 4, 5, 6, 7, 8]])"
            ]
          },
          "metadata": {},
          "execution_count": 48
        }
      ],
      "source": [
        "original.reshape((1, 8))"
      ]
    },
    {
      "cell_type": "markdown",
      "metadata": {
        "id": "qrwnm27UaaXV"
      },
      "source": [
        "Reshape matrix `original` to a matrix with 4 rows and 2 columns."
      ]
    },
    {
      "cell_type": "code",
      "execution_count": 49,
      "metadata": {
        "scrolled": true,
        "colab": {
          "base_uri": "https://localhost:8080/"
        },
        "id": "UBM1S-qJaaXV",
        "outputId": "12c41b00-1d81-4b65-9744-13e1ba12720f"
      },
      "outputs": [
        {
          "output_type": "execute_result",
          "data": {
            "text/plain": [
              "array([[1, 2],\n",
              "       [3, 4],\n",
              "       [5, 6],\n",
              "       [7, 8]])"
            ]
          },
          "metadata": {},
          "execution_count": 49
        }
      ],
      "source": [
        "original.reshape((4, 2))"
      ]
    },
    {
      "cell_type": "markdown",
      "metadata": {
        "id": "K_AWf-oCaaXV"
      },
      "source": [
        "**Practice!** Reshape the vector `v` to come up with a matrix where the first (leftmost) column contains only 1s."
      ]
    },
    {
      "cell_type": "code",
      "execution_count": 50,
      "metadata": {
        "colab": {
          "base_uri": "https://localhost:8080/"
        },
        "id": "TWtuv97zaaXV",
        "outputId": "38a3f490-5bea-408f-b000-7ee0a013333a"
      },
      "outputs": [
        {
          "output_type": "execute_result",
          "data": {
            "text/plain": [
              "array([[1, 0, 0, 0],\n",
              "       [1, 0, 0, 0],\n",
              "       [1, 0, 0, 0]])"
            ]
          },
          "metadata": {},
          "execution_count": 50
        }
      ],
      "source": [
        "v = np.array([1, 0, 0, 0, 1, 0, 0, 0, 1, 0, 0, 0])\n",
        "\n",
        "# Write your code here\n",
        "v.reshape((3, 4))"
      ]
    },
    {
      "cell_type": "markdown",
      "metadata": {
        "id": "fFAV2hi8aaXV"
      },
      "source": [
        "## Concatenating Vectors and Matrices\n",
        "\n",
        "The `np.concatenate()` function is a flexible function that can be used to combine mutliple vectors and matrices together. This comes in handy when you need to add a row or a column to an existing matrix."
      ]
    },
    {
      "cell_type": "code",
      "execution_count": 51,
      "metadata": {
        "colab": {
          "base_uri": "https://localhost:8080/"
        },
        "id": "T0I9oLfoaaXV",
        "outputId": "c4441319-ecea-4196-ff7e-a5dc536a7693"
      },
      "outputs": [
        {
          "output_type": "execute_result",
          "data": {
            "text/plain": [
              "array([[1, 2],\n",
              "       [3, 4],\n",
              "       [5, 6]])"
            ]
          },
          "metadata": {},
          "execution_count": 51
        }
      ],
      "source": [
        "A = np.array([[1, 2],\n",
        "              [3, 4]])\n",
        "B = np.array([[5, 6]])\n",
        "\n",
        "np.concatenate((A, B))"
      ]
    },
    {
      "cell_type": "markdown",
      "metadata": {
        "id": "T_EpE4quaaXW"
      },
      "source": [
        "If you specify an `axis` parameter and set it to 1, the concatenation will be performed on the column instead of the row."
      ]
    },
    {
      "cell_type": "code",
      "execution_count": 52,
      "metadata": {
        "colab": {
          "base_uri": "https://localhost:8080/"
        },
        "id": "v1E3MhN5aaXW",
        "outputId": "695b51a9-4a3e-4724-b59e-090773dc11e3"
      },
      "outputs": [
        {
          "output_type": "execute_result",
          "data": {
            "text/plain": [
              "array([[1, 2, 5],\n",
              "       [3, 4, 6]])"
            ]
          },
          "metadata": {},
          "execution_count": 52
        }
      ],
      "source": [
        "A = np.array([[1, 2],\n",
        "              [3, 4]])\n",
        "B = np.array([[5],\n",
        "              [6]])\n",
        "\n",
        "np.concatenate((A, B), axis=1)"
      ]
    },
    {
      "cell_type": "markdown",
      "metadata": {
        "id": "OLx6TgXmaaXW"
      },
      "source": [
        "Note that for the `np.concatenate()` function to work, the number of dimensions should be the same. That is, you cannot concatenate a 2-dimensional matrix with a 1-dimensional vector."
      ]
    },
    {
      "cell_type": "markdown",
      "metadata": {
        "id": "8LTtJ1J1aaXW"
      },
      "source": [
        "## Copying Vectors and Matrices\n",
        "\n",
        "If you want to make a copy of an existing vector or matrix, you can use the `np.copy()` function. Note that simply assigning the vector or matrix to another variable will not copy it. Instead, both variables will hold a reference to the same vector or matrix."
      ]
    },
    {
      "cell_type": "markdown",
      "metadata": {
        "id": "tXJM0SHXaaXW"
      },
      "source": [
        "If you simply assign to another variable, the vector is not copied."
      ]
    },
    {
      "cell_type": "code",
      "execution_count": 53,
      "metadata": {
        "colab": {
          "base_uri": "https://localhost:8080/"
        },
        "id": "qdSR6HTfaaXW",
        "outputId": "b2f9d6b4-4b4d-425b-d29c-f663bb0be560"
      },
      "outputs": [
        {
          "output_type": "stream",
          "name": "stdout",
          "text": [
            "[1 9 3 4]\n",
            "[1 9 3 4]\n"
          ]
        }
      ],
      "source": [
        "A = np.array([1, 2, 3, 4])\n",
        "B = A\n",
        "\n",
        "A[1] = 9\n",
        "\n",
        "print(A)\n",
        "print(B)"
      ]
    },
    {
      "cell_type": "markdown",
      "metadata": {
        "id": "cHKqaOy_aaXW"
      },
      "source": [
        "If you use the `np.copy()` function, then a copy of the vector or matrix is assigned to the variable."
      ]
    },
    {
      "cell_type": "code",
      "execution_count": 54,
      "metadata": {
        "colab": {
          "base_uri": "https://localhost:8080/"
        },
        "id": "gT0aFeguaaXW",
        "outputId": "55d6051b-f0b6-4c0c-e423-9ff527cbb1bb"
      },
      "outputs": [
        {
          "output_type": "stream",
          "name": "stdout",
          "text": [
            "[1 9 3 4]\n",
            "[1 2 3 4]\n"
          ]
        }
      ],
      "source": [
        "A = np.array([1, 2, 3, 4])\n",
        "B = np.copy(A)\n",
        "\n",
        "A[1] = 9\n",
        "\n",
        "print(A)\n",
        "print(B)"
      ]
    },
    {
      "cell_type": "markdown",
      "metadata": {
        "id": "wftv3nBsaaXX"
      },
      "source": [
        "## Element-Wise Operations\n",
        "\n",
        "You can perform element-wise operations on a vector / matrix and a scalar. This means applying the operation to each element of the vector or matrix."
      ]
    },
    {
      "cell_type": "markdown",
      "metadata": {
        "id": "U3jKVhJ-aaXX"
      },
      "source": [
        "Check if the value of each element inside the vector `v` is greater than scalar 3."
      ]
    },
    {
      "cell_type": "code",
      "execution_count": 55,
      "metadata": {
        "colab": {
          "base_uri": "https://localhost:8080/"
        },
        "id": "7VPKuE-uaaXX",
        "outputId": "5b7ce066-891c-450b-9cf5-9f5eb5477e15"
      },
      "outputs": [
        {
          "output_type": "execute_result",
          "data": {
            "text/plain": [
              "array([ True, False,  True,  True, False,  True,  True, False, False])"
            ]
          },
          "metadata": {},
          "execution_count": 55
        }
      ],
      "source": [
        "v = np.array([5, 1, 4, 6, 3, 7, 5, 3, 2])\n",
        "v > 3"
      ]
    },
    {
      "cell_type": "markdown",
      "metadata": {
        "id": "kPF_GI6JaaXX"
      },
      "source": [
        "Multiply the value of each element inside matrix `A` with scalar 2."
      ]
    },
    {
      "cell_type": "code",
      "execution_count": 56,
      "metadata": {
        "scrolled": true,
        "colab": {
          "base_uri": "https://localhost:8080/"
        },
        "id": "OL7bVdpqaaXX",
        "outputId": "2f45a699-4f05-4b2a-8ff0-ed6f29ed8ab9"
      },
      "outputs": [
        {
          "output_type": "execute_result",
          "data": {
            "text/plain": [
              "array([[2, 4, 6, 8],\n",
              "       [8, 6, 4, 2]])"
            ]
          },
          "metadata": {},
          "execution_count": 56
        }
      ],
      "source": [
        "A = np.array([[1, 2, 3, 4],\n",
        "              [4, 3, 2, 1]])\n",
        "A * 2"
      ]
    },
    {
      "cell_type": "markdown",
      "metadata": {
        "id": "NwfOYhB_aaXY"
      },
      "source": [
        "You can also perform element wise operations on two vectors / matrices of the same shape. This means applying the operations on the corresponding elements of the two operands."
      ]
    },
    {
      "cell_type": "markdown",
      "metadata": {
        "id": "nMP4fwhuaaXY"
      },
      "source": [
        "Check if the value inside vector `v` is equal to the corresponding value inside vector `w`."
      ]
    },
    {
      "cell_type": "code",
      "execution_count": 57,
      "metadata": {
        "colab": {
          "base_uri": "https://localhost:8080/"
        },
        "id": "BBcrEGckaaXY",
        "outputId": "318c49c9-e778-46d6-dbd4-e64a01acd725"
      },
      "outputs": [
        {
          "output_type": "execute_result",
          "data": {
            "text/plain": [
              "array([False,  True, False, False,  True, False,  True, False])"
            ]
          },
          "metadata": {},
          "execution_count": 57
        }
      ],
      "source": [
        "v = np.array([1, 2, 3, 4, 5, 6, 7, 8])\n",
        "w = np.array([3, 2, 4, 1, 5, 8, 7, 6])\n",
        "v == w"
      ]
    },
    {
      "cell_type": "markdown",
      "metadata": {
        "id": "1SDLMr1raaXY"
      },
      "source": [
        "Raise the value inside matrix `A` to the corresponding value in matrix `B`."
      ]
    },
    {
      "cell_type": "code",
      "execution_count": 58,
      "metadata": {
        "scrolled": false,
        "colab": {
          "base_uri": "https://localhost:8080/"
        },
        "id": "HEdGgow8aaXY",
        "outputId": "89d5bdf0-62ba-4dc8-eacb-74ae1372b84d"
      },
      "outputs": [
        {
          "output_type": "execute_result",
          "data": {
            "text/plain": [
              "array([[ 2,  4],\n",
              "       [ 8, 16]])"
            ]
          },
          "metadata": {},
          "execution_count": 58
        }
      ],
      "source": [
        "A = np.array([[2, 2],\n",
        "              [2, 2]])\n",
        "B = np.array([[1, 2],\n",
        "              [3, 4]])\n",
        "A ** B"
      ]
    },
    {
      "cell_type": "markdown",
      "metadata": {
        "id": "_uxRf55vaaXY"
      },
      "source": [
        "**Practice!** Complete the definition for the matrix `beta` such that the result of adding `alpha` and `beta` is a matrix containing only zeros."
      ]
    },
    {
      "cell_type": "code",
      "execution_count": 59,
      "metadata": {
        "colab": {
          "base_uri": "https://localhost:8080/"
        },
        "id": "c0XhCQMQaaXZ",
        "outputId": "b65b3374-ef05-4822-fd4f-4bfea93d9aaf"
      },
      "outputs": [
        {
          "output_type": "execute_result",
          "data": {
            "text/plain": [
              "array([[0, 0, 0],\n",
              "       [0, 0, 0],\n",
              "       [0, 0, 0]])"
            ]
          },
          "metadata": {},
          "execution_count": 59
        }
      ],
      "source": [
        "alpha = np.array([[3, 2, 1],\n",
        "                  [6, 5, 4],\n",
        "                  [9, 8, 7]])\n",
        "beta = np.array([[-3, -2, -1],\n",
        "                 [-6, -5, -4],\n",
        "                 [-9, -8, -7]])  # define the beta matrix here\n",
        "\n",
        "\n",
        "\n",
        "alpha + beta"
      ]
    },
    {
      "cell_type": "markdown",
      "metadata": {
        "id": "Hd-cZW_eaaXZ"
      },
      "source": [
        "## Matrix Multiplication and Transpose\n",
        "\n",
        "There is an important operation in linear algebra called [matrix multiplication](https://www.mathsisfun.com/algebra/matrix-multiplying.html) (also known as dot product). In NumPy, we can perform matrix multiplication using the `np.dot()` function. Note that despite the term \"multiplication\", do not use the `*` operator to perform matrix multiplication because this will result in element-wise multiplication."
      ]
    },
    {
      "cell_type": "markdown",
      "metadata": {
        "id": "gaP0okAkaaXZ"
      },
      "source": [
        "Perform matrix operation between matrix `A` and matrix `B`."
      ]
    },
    {
      "cell_type": "code",
      "execution_count": 60,
      "metadata": {
        "colab": {
          "base_uri": "https://localhost:8080/"
        },
        "id": "ir3BPtqiaaXZ",
        "outputId": "36fd4d2d-ada5-4c4a-bb41-777b35d3ae4c"
      },
      "outputs": [
        {
          "output_type": "execute_result",
          "data": {
            "text/plain": [
              "array([[ 58,  64],\n",
              "       [139, 154]])"
            ]
          },
          "metadata": {},
          "execution_count": 60
        }
      ],
      "source": [
        "A = np.array([[1, 2, 3],\n",
        "              [4, 5, 6]])\n",
        "B = np.array([[ 7,  8],\n",
        "              [ 9, 10],\n",
        "              [11, 12]])\n",
        "np.dot(A, B)"
      ]
    },
    {
      "cell_type": "markdown",
      "metadata": {
        "id": "3FtuakvqaaXa"
      },
      "source": [
        "Alternatively, since Python 3.5+ you can use the `@` operator."
      ]
    },
    {
      "cell_type": "code",
      "execution_count": null,
      "metadata": {
        "id": "7FlwhnCoaaXa"
      },
      "outputs": [],
      "source": [
        "A = np.array([[1, 2, 3],\n",
        "              [4, 5, 6]])\n",
        "B = np.array([[ 7,  8],\n",
        "              [ 9, 10],\n",
        "              [11, 12]])\n",
        "A @ B"
      ]
    },
    {
      "cell_type": "markdown",
      "metadata": {
        "id": "uttGu3ojaaXa"
      },
      "source": [
        "Please remember from your math classes that:\n",
        "\n",
        "- Matrix multiplication is not commutative. Thus, the order of the operands matter.\n",
        "- For the operation to be defined, the number of columns of the first operand should match the number of rows of the second operand."
      ]
    },
    {
      "cell_type": "markdown",
      "metadata": {
        "id": "xEfwD9t8aaXa"
      },
      "source": [
        "To perform a [transpose](https://www.mathsisfun.com/definitions/transpose-matrix-.html) operation on a matrix, we can use the `np.transpose()` function."
      ]
    },
    {
      "cell_type": "code",
      "execution_count": null,
      "metadata": {
        "scrolled": false,
        "id": "oKcqNqvwaaXa"
      },
      "outputs": [],
      "source": [
        "A = np.array([[1, 2, 3],\n",
        "              [4, 5, 6]])\n",
        "np.transpose(A)"
      ]
    },
    {
      "cell_type": "markdown",
      "metadata": {
        "id": "CpjZ3LMlaaXb"
      },
      "source": [
        "Alternatively, you may also use the `T` property to get the transposed matrix."
      ]
    },
    {
      "cell_type": "code",
      "execution_count": null,
      "metadata": {
        "id": "5MIB2e2saaXb"
      },
      "outputs": [],
      "source": [
        "A = np.array([[1, 2, 3],\n",
        "              [4, 5, 6]])\n",
        "A.T"
      ]
    },
    {
      "cell_type": "markdown",
      "metadata": {
        "id": "cG8O7zRlaaXb"
      },
      "source": [
        "**Practice!** If you take a row vector and perform matrix multiplication with its transpose, you will get the sum of the squares of each element in the original vector. Verify this by performing this operation on the given vector `v`. This should result into $1^2 + 2^2 + 3^2 + 4^2 = 30$."
      ]
    },
    {
      "cell_type": "code",
      "execution_count": null,
      "metadata": {
        "id": "fYjfn1abaaXb"
      },
      "outputs": [],
      "source": [
        "v = np.array([[1, 2, 3, 4]])\n",
        "\n",
        "# Write your code here\n",
        "w = v.T\n",
        "np.dot(v, w)"
      ]
    },
    {
      "cell_type": "markdown",
      "metadata": {
        "id": "KoWch-QOaaXb"
      },
      "source": [
        "## Vectorizing Functions\n",
        "\n",
        "If you have a function that normally operates on a single data point, you can vectorize it so that it will be applied to every element of a vector or matrix. For example, let's say we have this function which counts the number of factors of an integer:"
      ]
    },
    {
      "cell_type": "code",
      "execution_count": null,
      "metadata": {
        "id": "8zNW77XqaaXb"
      },
      "outputs": [],
      "source": [
        "def count_factors(n):\n",
        "    count = 0\n",
        "    for i in range(1, n + 1):\n",
        "        if n % i == 0:\n",
        "            count = count + 1\n",
        "    return count"
      ]
    },
    {
      "cell_type": "markdown",
      "metadata": {
        "id": "PEHmeie9aaXb"
      },
      "source": [
        "Then, let's say we have a vector `v`:"
      ]
    },
    {
      "cell_type": "code",
      "execution_count": null,
      "metadata": {
        "id": "x-Pa7s3xaaXb"
      },
      "outputs": [],
      "source": [
        "v = np.array([[1, 2, 3, 4, 5, 6, 7, 8, 9, 10, 11, 12, 13, 14, 15]])"
      ]
    },
    {
      "cell_type": "markdown",
      "metadata": {
        "id": "lN_NroZ3aaXc"
      },
      "source": [
        "Let's say we want to count the number of factors of each element in `v`. To do this, we can first vectorize the `count_factors` function using the `np.vectorize()` function."
      ]
    },
    {
      "cell_type": "code",
      "execution_count": null,
      "metadata": {
        "id": "FelY_zGcaaXc"
      },
      "outputs": [],
      "source": [
        "count_factors_vectorized = np.vectorize(count_factors)"
      ]
    },
    {
      "cell_type": "markdown",
      "metadata": {
        "id": "2DwH3VoEaaXc"
      },
      "source": [
        "Then, we can pass the vector instead of a single value."
      ]
    },
    {
      "cell_type": "code",
      "execution_count": null,
      "metadata": {
        "scrolled": true,
        "id": "Pkth5IPiaaXc"
      },
      "outputs": [],
      "source": [
        "count_factors_vectorized(v)"
      ]
    },
    {
      "cell_type": "markdown",
      "metadata": {
        "id": "gHP1zY8oaaXc"
      },
      "source": [
        "This will also work on matrices."
      ]
    },
    {
      "cell_type": "code",
      "execution_count": null,
      "metadata": {
        "scrolled": true,
        "id": "Jg-M2zUYaaXc"
      },
      "outputs": [],
      "source": [
        "A = np.array([[10, 20],\n",
        "              [30, 40]])\n",
        "count_factors_vectorized(A)"
      ]
    },
    {
      "cell_type": "markdown",
      "metadata": {
        "id": "LstFuZZiaaXc"
      },
      "source": [
        "**Practice!** Create a function that returns `True` if the integer is even or `False` if the integer is odd. Vectorize this function so that it could be applied to the vector `list`."
      ]
    },
    {
      "cell_type": "code",
      "execution_count": null,
      "metadata": {
        "id": "AMKX2mljaaXd"
      },
      "outputs": [],
      "source": [
        "list = np.array([[1, 2, 3, 4, 5, 6, 7, 8, 9, 10]])\n",
        "\n",
        "def is_even(n):\n",
        "    # Write your code here\n",
        "    if n % 2 == 0:\n",
        "      return True\n",
        "    else:\n",
        "      return False\n",
        "\n",
        "# Vectorize the function\n",
        "vectorized_list = np.vectorize(is_even)\n",
        "# Apply it to the list vector\n",
        "vectorized_list(list)"
      ]
    },
    {
      "cell_type": "markdown",
      "metadata": {
        "id": "t-4YzZxdaaXd"
      },
      "source": [
        "## Basic Mathematical Operations in NumPy\n",
        "\n",
        "NumPy provides some common functions for mathematical operations."
      ]
    },
    {
      "cell_type": "markdown",
      "metadata": {
        "id": "8mBKFHfuaaXd"
      },
      "source": [
        "Initialize vector `v`."
      ]
    },
    {
      "cell_type": "code",
      "execution_count": null,
      "metadata": {
        "id": "W77U84S4aaXd"
      },
      "outputs": [],
      "source": [
        "v = np.array([12, 8, 20, 4, 16])"
      ]
    },
    {
      "cell_type": "markdown",
      "metadata": {
        "id": "Kjl92PNBaaXd"
      },
      "source": [
        "Get the maximum value in vector `v`."
      ]
    },
    {
      "cell_type": "code",
      "execution_count": null,
      "metadata": {
        "id": "Rr-FDJmWaaXd"
      },
      "outputs": [],
      "source": [
        "np.max(v)"
      ]
    },
    {
      "cell_type": "markdown",
      "metadata": {
        "id": "iU7m-YPAaaXd"
      },
      "source": [
        "Get the minimum value in vector `v`."
      ]
    },
    {
      "cell_type": "code",
      "execution_count": null,
      "metadata": {
        "id": "rh-Eq32waaXe"
      },
      "outputs": [],
      "source": [
        "np.min(v)"
      ]
    },
    {
      "cell_type": "markdown",
      "metadata": {
        "id": "CX4O8djgaaXe"
      },
      "source": [
        "Get the sum of all values in vector `v`."
      ]
    },
    {
      "cell_type": "code",
      "execution_count": null,
      "metadata": {
        "scrolled": true,
        "id": "2sKNyw3raaXe"
      },
      "outputs": [],
      "source": [
        "np.sum(v)"
      ]
    },
    {
      "cell_type": "markdown",
      "metadata": {
        "id": "Yn-Bw8BwaaXe"
      },
      "source": [
        "If you have a matrix, you can specify the `axis` parameter to specify if the operations are to be performed per column (0) or per row (1)."
      ]
    },
    {
      "cell_type": "markdown",
      "metadata": {
        "id": "itRS0kK5aaXe"
      },
      "source": [
        "Initialize matrix `A`."
      ]
    },
    {
      "cell_type": "code",
      "execution_count": null,
      "metadata": {
        "id": "doBvSCicaaXe"
      },
      "outputs": [],
      "source": [
        "A = np.array([[1, 2, 3],\n",
        "              [4, 5, 6],\n",
        "              [7, 8, 9]])"
      ]
    },
    {
      "cell_type": "markdown",
      "metadata": {
        "id": "N1rMFy9OaaXe"
      },
      "source": [
        "Get the sum per column in matrix `A`."
      ]
    },
    {
      "cell_type": "code",
      "execution_count": null,
      "metadata": {
        "id": "3eHPbgdAaaXe"
      },
      "outputs": [],
      "source": [
        "np.sum(A, axis=0)"
      ]
    },
    {
      "cell_type": "markdown",
      "metadata": {
        "id": "2hcYsqhlaaXf"
      },
      "source": [
        "Get the sum per row in matrix `A`."
      ]
    },
    {
      "cell_type": "code",
      "execution_count": null,
      "metadata": {
        "id": "UG-8Tw9saaXf"
      },
      "outputs": [],
      "source": [
        "np.sum(A, axis=1)"
      ]
    },
    {
      "cell_type": "markdown",
      "metadata": {
        "id": "yYDzIS2paaXf"
      },
      "source": [
        "Get the sum of all elements in matrix `A`."
      ]
    },
    {
      "cell_type": "code",
      "execution_count": null,
      "metadata": {
        "id": "YK706-ojaaXf"
      },
      "outputs": [],
      "source": [
        "np.sum(A)"
      ]
    },
    {
      "cell_type": "markdown",
      "metadata": {
        "id": "Fg_shSvuaaXf"
      },
      "source": [
        "**Practice!** Write code that adds a row to the matrix `grid` containing the highest value in each column. For example, given the matrix:\n",
        "\\begin{equation*}\n",
        "\\begin{bmatrix}\n",
        "2 & 3 & 1 & 6 \\\\\n",
        "4 & 9 & 2 & 7 \\\\\n",
        "3 & 3 & 5 & 1\n",
        "\\end{bmatrix}\n",
        "\\end{equation*}\n",
        "The resulting matrix should be:\n",
        "\\begin{equation*}\n",
        "\\begin{bmatrix}\n",
        "2 & 3 & 1 & 6 \\\\\n",
        "4 & 9 & 2 & 7 \\\\\n",
        "3 & 3 & 5 & 1 \\\\\n",
        "4 & 9 & 5 & 7\n",
        "\\end{bmatrix}\n",
        "\\end{equation*}\n",
        "\n",
        "**Note**: `max` returns a 1-dimensional vector, so might need to reshape it to a 2-dimensional row vector before you can concatenate it to the original matrix."
      ]
    },
    {
      "cell_type": "code",
      "execution_count": 61,
      "metadata": {
        "scrolled": true,
        "colab": {
          "base_uri": "https://localhost:8080/"
        },
        "id": "ZuzfuCwHaaXf",
        "outputId": "037dab93-4c0a-43d3-b959-0243ec9a000c"
      },
      "outputs": [
        {
          "output_type": "execute_result",
          "data": {
            "text/plain": [
              "array([[2, 3, 1, 6],\n",
              "       [4, 9, 2, 7],\n",
              "       [3, 3, 5, 1],\n",
              "       [4, 9, 5, 7]])"
            ]
          },
          "metadata": {},
          "execution_count": 61
        }
      ],
      "source": [
        "grid = np.array([[2, 3, 1, 6],\n",
        "                 [4, 9, 2, 7],\n",
        "                 [3, 3, 5, 1]])\n",
        "\n",
        "# Write your code here\n",
        "max0 = np.max(grid[:, 0])\n",
        "max1 = np.max(grid[:, 1])\n",
        "max2 = np.max(grid[:, 2])\n",
        "max3 = np.max(grid[:, 3])\n",
        "\n",
        "max_per_grid = np.array([[max0, max1, max2, max3]])\n",
        "\n",
        "np.concatenate((grid, max_per_grid))"
      ]
    },
    {
      "cell_type": "markdown",
      "metadata": {
        "id": "zKDDUSN8aaXg"
      },
      "source": [
        "## What's Next?"
      ]
    },
    {
      "cell_type": "markdown",
      "metadata": {
        "id": "wGxyU1RMaaXg"
      },
      "source": [
        "This is just the tip of the iceberg for things that you can accomplish with NumPy. As we go through the succeeeding activities in CSMODEL, we will be covering more techniques and functionalities in NumPy. Furthermore, we encourage you not to limit yourselves with the examples presented in this Notebook, but to explore and try out stuff on your own."
      ]
    }
  ],
  "metadata": {
    "kernelspec": {
      "display_name": "Python 3 (ipykernel)",
      "language": "python",
      "name": "python3"
    },
    "language_info": {
      "codemirror_mode": {
        "name": "ipython",
        "version": 3
      },
      "file_extension": ".py",
      "mimetype": "text/x-python",
      "name": "python",
      "nbconvert_exporter": "python",
      "pygments_lexer": "ipython3",
      "version": "3.9.13"
    },
    "colab": {
      "provenance": []
    }
  },
  "nbformat": 4,
  "nbformat_minor": 0
}
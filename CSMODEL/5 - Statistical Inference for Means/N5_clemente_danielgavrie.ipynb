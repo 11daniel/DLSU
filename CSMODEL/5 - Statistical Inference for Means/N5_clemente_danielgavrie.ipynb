{
  "cells": [
    {
      "cell_type": "markdown",
      "metadata": {
        "id": "lLuho6HP_z-J"
      },
      "source": [
        "# Statistical Inference for Means\n",
        "In this Notebook, we will work on confidence intervals and statistical inference for means. This particular Notebook is mostly adopted from the [Inferential Statistics](https://www.coursera.org/learn/inferential-statistics-intro/home/welcome) course of Duke University, converted from R to Python and tweaked to match the needs of our CSMODEL course.\n",
        "\n",
        "Our Notebooks in CSMODEL are designed to be guided learning activities. To use them, simply through the cells from top to bottom, following the directions along the way. If you find any unclear parts or mistakes in the Notebooks, email your instructor."
      ]
    },
    {
      "cell_type": "code",
      "source": [
        "from google.colab import drive\n",
        "drive.mount('/content/drive')"
      ],
      "metadata": {
        "colab": {
          "base_uri": "https://localhost:8080/"
        },
        "id": "kt_8tNRJ_58C",
        "outputId": "5ff8162a-3b43-4bde-9995-6ba1e1a74fec"
      },
      "execution_count": 1,
      "outputs": [
        {
          "output_type": "stream",
          "name": "stdout",
          "text": [
            "Mounted at /content/drive\n"
          ]
        }
      ]
    },
    {
      "cell_type": "markdown",
      "metadata": {
        "id": "9zKhXW86_z-M"
      },
      "source": [
        "## Instructions\n",
        "* Read each cell and implement the TODOs sequentially. The markdown/text cells also contain instructions which you need to follow to get the whole notebook working.\n",
        "* Do not change the variable names unless the instructor allows you to.\n",
        "* Answer all the markdown/text cells with 'Question #' on them. The answer must strictly consume one line only.\n",
        "* You are expected to search how to some functions work on the Internet or via the docs.\n",
        "* The notebooks will undergo a 'Restart and Run All' command, so make sure that your code is working properly.\n",
        "* You are expected to understand the dataset loading and processing separately from this class.\n",
        "* You may not reproduce this notebook or share them to anyone."
      ]
    },
    {
      "cell_type": "markdown",
      "metadata": {
        "id": "T5dQScSA_z-N"
      },
      "source": [
        "## Import Libraries"
      ]
    },
    {
      "cell_type": "markdown",
      "metadata": {
        "id": "9NoOsmS8_z-N"
      },
      "source": [
        "For the statistical functions, we will be using `scipy`, specifically, the `stats` submodule. The [`scipy.stats`](https://docs.scipy.org/doc/scipy/reference/stats.html) module provides a number of probability distribution functions, summary and frequency statistics, correlation functions, statistical tests, and more."
      ]
    },
    {
      "cell_type": "code",
      "execution_count": 2,
      "metadata": {
        "id": "ASlXZg9Y_z-O"
      },
      "outputs": [],
      "source": [
        "import numpy as np\n",
        "import pandas as pd\n",
        "import matplotlib.pyplot as plt\n",
        "from scipy.stats import norm\n",
        "from scipy.stats import ttest_ind"
      ]
    },
    {
      "cell_type": "markdown",
      "metadata": {
        "id": "jiTP5ELh_z-P"
      },
      "source": [
        "## Real Estate Data"
      ]
    },
    {
      "cell_type": "markdown",
      "metadata": {
        "id": "tibFTfiE_z-P"
      },
      "source": [
        "Let's consider the real estate data from the city of Ames, Iowa. The details of every real estate transaction in Ames is recorded by the City Assessor's  office. Our particular focus will be all residential home sales in Ames between 2006 and 2010.  This collection represents our **population** of interest. We would like to learn about these home sales by taking smaller samples from the full population. Let's load the data."
      ]
    },
    {
      "cell_type": "code",
      "execution_count": 3,
      "metadata": {
        "colab": {
          "base_uri": "https://localhost:8080/",
          "height": 287
        },
        "id": "89oOSFjF_z-P",
        "outputId": "35f89f16-777d-40ea-de65-3ab410730b3d"
      },
      "outputs": [
        {
          "output_type": "execute_result",
          "data": {
            "text/plain": [
              "             PID  MS.SubClass MS.Zoning  Lot.Frontage  Lot.Area Street Alley  \\\n",
              "Order                                                                          \n",
              "1      526301100           20        RL         141.0     31770   Pave   NaN   \n",
              "2      526350040           20        RH          80.0     11622   Pave   NaN   \n",
              "3      526351010           20        RL          81.0     14267   Pave   NaN   \n",
              "4      526353030           20        RL          93.0     11160   Pave   NaN   \n",
              "5      527105010           60        RL          74.0     13830   Pave   NaN   \n",
              "\n",
              "      Lot.Shape Land.Contour Utilities  ... Pool.Area Pool.QC  Fence  \\\n",
              "Order                                   ...                            \n",
              "1           IR1          Lvl    AllPub  ...         0     NaN    NaN   \n",
              "2           Reg          Lvl    AllPub  ...         0     NaN  MnPrv   \n",
              "3           IR1          Lvl    AllPub  ...         0     NaN    NaN   \n",
              "4           Reg          Lvl    AllPub  ...         0     NaN    NaN   \n",
              "5           IR1          Lvl    AllPub  ...         0     NaN  MnPrv   \n",
              "\n",
              "      Misc.Feature Misc.Val Mo.Sold Yr.Sold  Sale.Type  Sale.Condition  \\\n",
              "Order                                                                    \n",
              "1              NaN        0       5    2010        WD           Normal   \n",
              "2              NaN        0       6    2010        WD           Normal   \n",
              "3             Gar2    12500       6    2010        WD           Normal   \n",
              "4              NaN        0       4    2010        WD           Normal   \n",
              "5              NaN        0       3    2010        WD           Normal   \n",
              "\n",
              "       SalePrice  \n",
              "Order             \n",
              "1         215000  \n",
              "2         105000  \n",
              "3         172000  \n",
              "4         244000  \n",
              "5         189900  \n",
              "\n",
              "[5 rows x 81 columns]"
            ],
            "text/html": [
              "\n",
              "  <div id=\"df-199b5dfe-3a4a-416e-b9a4-b2fa4b816838\" class=\"colab-df-container\">\n",
              "    <div>\n",
              "<style scoped>\n",
              "    .dataframe tbody tr th:only-of-type {\n",
              "        vertical-align: middle;\n",
              "    }\n",
              "\n",
              "    .dataframe tbody tr th {\n",
              "        vertical-align: top;\n",
              "    }\n",
              "\n",
              "    .dataframe thead th {\n",
              "        text-align: right;\n",
              "    }\n",
              "</style>\n",
              "<table border=\"1\" class=\"dataframe\">\n",
              "  <thead>\n",
              "    <tr style=\"text-align: right;\">\n",
              "      <th></th>\n",
              "      <th>PID</th>\n",
              "      <th>MS.SubClass</th>\n",
              "      <th>MS.Zoning</th>\n",
              "      <th>Lot.Frontage</th>\n",
              "      <th>Lot.Area</th>\n",
              "      <th>Street</th>\n",
              "      <th>Alley</th>\n",
              "      <th>Lot.Shape</th>\n",
              "      <th>Land.Contour</th>\n",
              "      <th>Utilities</th>\n",
              "      <th>...</th>\n",
              "      <th>Pool.Area</th>\n",
              "      <th>Pool.QC</th>\n",
              "      <th>Fence</th>\n",
              "      <th>Misc.Feature</th>\n",
              "      <th>Misc.Val</th>\n",
              "      <th>Mo.Sold</th>\n",
              "      <th>Yr.Sold</th>\n",
              "      <th>Sale.Type</th>\n",
              "      <th>Sale.Condition</th>\n",
              "      <th>SalePrice</th>\n",
              "    </tr>\n",
              "    <tr>\n",
              "      <th>Order</th>\n",
              "      <th></th>\n",
              "      <th></th>\n",
              "      <th></th>\n",
              "      <th></th>\n",
              "      <th></th>\n",
              "      <th></th>\n",
              "      <th></th>\n",
              "      <th></th>\n",
              "      <th></th>\n",
              "      <th></th>\n",
              "      <th></th>\n",
              "      <th></th>\n",
              "      <th></th>\n",
              "      <th></th>\n",
              "      <th></th>\n",
              "      <th></th>\n",
              "      <th></th>\n",
              "      <th></th>\n",
              "      <th></th>\n",
              "      <th></th>\n",
              "      <th></th>\n",
              "    </tr>\n",
              "  </thead>\n",
              "  <tbody>\n",
              "    <tr>\n",
              "      <th>1</th>\n",
              "      <td>526301100</td>\n",
              "      <td>20</td>\n",
              "      <td>RL</td>\n",
              "      <td>141.0</td>\n",
              "      <td>31770</td>\n",
              "      <td>Pave</td>\n",
              "      <td>NaN</td>\n",
              "      <td>IR1</td>\n",
              "      <td>Lvl</td>\n",
              "      <td>AllPub</td>\n",
              "      <td>...</td>\n",
              "      <td>0</td>\n",
              "      <td>NaN</td>\n",
              "      <td>NaN</td>\n",
              "      <td>NaN</td>\n",
              "      <td>0</td>\n",
              "      <td>5</td>\n",
              "      <td>2010</td>\n",
              "      <td>WD</td>\n",
              "      <td>Normal</td>\n",
              "      <td>215000</td>\n",
              "    </tr>\n",
              "    <tr>\n",
              "      <th>2</th>\n",
              "      <td>526350040</td>\n",
              "      <td>20</td>\n",
              "      <td>RH</td>\n",
              "      <td>80.0</td>\n",
              "      <td>11622</td>\n",
              "      <td>Pave</td>\n",
              "      <td>NaN</td>\n",
              "      <td>Reg</td>\n",
              "      <td>Lvl</td>\n",
              "      <td>AllPub</td>\n",
              "      <td>...</td>\n",
              "      <td>0</td>\n",
              "      <td>NaN</td>\n",
              "      <td>MnPrv</td>\n",
              "      <td>NaN</td>\n",
              "      <td>0</td>\n",
              "      <td>6</td>\n",
              "      <td>2010</td>\n",
              "      <td>WD</td>\n",
              "      <td>Normal</td>\n",
              "      <td>105000</td>\n",
              "    </tr>\n",
              "    <tr>\n",
              "      <th>3</th>\n",
              "      <td>526351010</td>\n",
              "      <td>20</td>\n",
              "      <td>RL</td>\n",
              "      <td>81.0</td>\n",
              "      <td>14267</td>\n",
              "      <td>Pave</td>\n",
              "      <td>NaN</td>\n",
              "      <td>IR1</td>\n",
              "      <td>Lvl</td>\n",
              "      <td>AllPub</td>\n",
              "      <td>...</td>\n",
              "      <td>0</td>\n",
              "      <td>NaN</td>\n",
              "      <td>NaN</td>\n",
              "      <td>Gar2</td>\n",
              "      <td>12500</td>\n",
              "      <td>6</td>\n",
              "      <td>2010</td>\n",
              "      <td>WD</td>\n",
              "      <td>Normal</td>\n",
              "      <td>172000</td>\n",
              "    </tr>\n",
              "    <tr>\n",
              "      <th>4</th>\n",
              "      <td>526353030</td>\n",
              "      <td>20</td>\n",
              "      <td>RL</td>\n",
              "      <td>93.0</td>\n",
              "      <td>11160</td>\n",
              "      <td>Pave</td>\n",
              "      <td>NaN</td>\n",
              "      <td>Reg</td>\n",
              "      <td>Lvl</td>\n",
              "      <td>AllPub</td>\n",
              "      <td>...</td>\n",
              "      <td>0</td>\n",
              "      <td>NaN</td>\n",
              "      <td>NaN</td>\n",
              "      <td>NaN</td>\n",
              "      <td>0</td>\n",
              "      <td>4</td>\n",
              "      <td>2010</td>\n",
              "      <td>WD</td>\n",
              "      <td>Normal</td>\n",
              "      <td>244000</td>\n",
              "    </tr>\n",
              "    <tr>\n",
              "      <th>5</th>\n",
              "      <td>527105010</td>\n",
              "      <td>60</td>\n",
              "      <td>RL</td>\n",
              "      <td>74.0</td>\n",
              "      <td>13830</td>\n",
              "      <td>Pave</td>\n",
              "      <td>NaN</td>\n",
              "      <td>IR1</td>\n",
              "      <td>Lvl</td>\n",
              "      <td>AllPub</td>\n",
              "      <td>...</td>\n",
              "      <td>0</td>\n",
              "      <td>NaN</td>\n",
              "      <td>MnPrv</td>\n",
              "      <td>NaN</td>\n",
              "      <td>0</td>\n",
              "      <td>3</td>\n",
              "      <td>2010</td>\n",
              "      <td>WD</td>\n",
              "      <td>Normal</td>\n",
              "      <td>189900</td>\n",
              "    </tr>\n",
              "  </tbody>\n",
              "</table>\n",
              "<p>5 rows × 81 columns</p>\n",
              "</div>\n",
              "    <div class=\"colab-df-buttons\">\n",
              "\n",
              "  <div class=\"colab-df-container\">\n",
              "    <button class=\"colab-df-convert\" onclick=\"convertToInteractive('df-199b5dfe-3a4a-416e-b9a4-b2fa4b816838')\"\n",
              "            title=\"Convert this dataframe to an interactive table.\"\n",
              "            style=\"display:none;\">\n",
              "\n",
              "  <svg xmlns=\"http://www.w3.org/2000/svg\" height=\"24px\" viewBox=\"0 -960 960 960\">\n",
              "    <path d=\"M120-120v-720h720v720H120Zm60-500h600v-160H180v160Zm220 220h160v-160H400v160Zm0 220h160v-160H400v160ZM180-400h160v-160H180v160Zm440 0h160v-160H620v160ZM180-180h160v-160H180v160Zm440 0h160v-160H620v160Z\"/>\n",
              "  </svg>\n",
              "    </button>\n",
              "\n",
              "  <style>\n",
              "    .colab-df-container {\n",
              "      display:flex;\n",
              "      gap: 12px;\n",
              "    }\n",
              "\n",
              "    .colab-df-convert {\n",
              "      background-color: #E8F0FE;\n",
              "      border: none;\n",
              "      border-radius: 50%;\n",
              "      cursor: pointer;\n",
              "      display: none;\n",
              "      fill: #1967D2;\n",
              "      height: 32px;\n",
              "      padding: 0 0 0 0;\n",
              "      width: 32px;\n",
              "    }\n",
              "\n",
              "    .colab-df-convert:hover {\n",
              "      background-color: #E2EBFA;\n",
              "      box-shadow: 0px 1px 2px rgba(60, 64, 67, 0.3), 0px 1px 3px 1px rgba(60, 64, 67, 0.15);\n",
              "      fill: #174EA6;\n",
              "    }\n",
              "\n",
              "    .colab-df-buttons div {\n",
              "      margin-bottom: 4px;\n",
              "    }\n",
              "\n",
              "    [theme=dark] .colab-df-convert {\n",
              "      background-color: #3B4455;\n",
              "      fill: #D2E3FC;\n",
              "    }\n",
              "\n",
              "    [theme=dark] .colab-df-convert:hover {\n",
              "      background-color: #434B5C;\n",
              "      box-shadow: 0px 1px 3px 1px rgba(0, 0, 0, 0.15);\n",
              "      filter: drop-shadow(0px 1px 2px rgba(0, 0, 0, 0.3));\n",
              "      fill: #FFFFFF;\n",
              "    }\n",
              "  </style>\n",
              "\n",
              "    <script>\n",
              "      const buttonEl =\n",
              "        document.querySelector('#df-199b5dfe-3a4a-416e-b9a4-b2fa4b816838 button.colab-df-convert');\n",
              "      buttonEl.style.display =\n",
              "        google.colab.kernel.accessAllowed ? 'block' : 'none';\n",
              "\n",
              "      async function convertToInteractive(key) {\n",
              "        const element = document.querySelector('#df-199b5dfe-3a4a-416e-b9a4-b2fa4b816838');\n",
              "        const dataTable =\n",
              "          await google.colab.kernel.invokeFunction('convertToInteractive',\n",
              "                                                    [key], {});\n",
              "        if (!dataTable) return;\n",
              "\n",
              "        const docLinkHtml = 'Like what you see? Visit the ' +\n",
              "          '<a target=\"_blank\" href=https://colab.research.google.com/notebooks/data_table.ipynb>data table notebook</a>'\n",
              "          + ' to learn more about interactive tables.';\n",
              "        element.innerHTML = '';\n",
              "        dataTable['output_type'] = 'display_data';\n",
              "        await google.colab.output.renderOutput(dataTable, element);\n",
              "        const docLink = document.createElement('div');\n",
              "        docLink.innerHTML = docLinkHtml;\n",
              "        element.appendChild(docLink);\n",
              "      }\n",
              "    </script>\n",
              "  </div>\n",
              "\n",
              "\n",
              "<div id=\"df-bbec15c9-2421-4b86-bb1b-a42dd315db17\">\n",
              "  <button class=\"colab-df-quickchart\" onclick=\"quickchart('df-bbec15c9-2421-4b86-bb1b-a42dd315db17')\"\n",
              "            title=\"Suggest charts\"\n",
              "            style=\"display:none;\">\n",
              "\n",
              "<svg xmlns=\"http://www.w3.org/2000/svg\" height=\"24px\"viewBox=\"0 0 24 24\"\n",
              "     width=\"24px\">\n",
              "    <g>\n",
              "        <path d=\"M19 3H5c-1.1 0-2 .9-2 2v14c0 1.1.9 2 2 2h14c1.1 0 2-.9 2-2V5c0-1.1-.9-2-2-2zM9 17H7v-7h2v7zm4 0h-2V7h2v10zm4 0h-2v-4h2v4z\"/>\n",
              "    </g>\n",
              "</svg>\n",
              "  </button>\n",
              "\n",
              "<style>\n",
              "  .colab-df-quickchart {\n",
              "      --bg-color: #E8F0FE;\n",
              "      --fill-color: #1967D2;\n",
              "      --hover-bg-color: #E2EBFA;\n",
              "      --hover-fill-color: #174EA6;\n",
              "      --disabled-fill-color: #AAA;\n",
              "      --disabled-bg-color: #DDD;\n",
              "  }\n",
              "\n",
              "  [theme=dark] .colab-df-quickchart {\n",
              "      --bg-color: #3B4455;\n",
              "      --fill-color: #D2E3FC;\n",
              "      --hover-bg-color: #434B5C;\n",
              "      --hover-fill-color: #FFFFFF;\n",
              "      --disabled-bg-color: #3B4455;\n",
              "      --disabled-fill-color: #666;\n",
              "  }\n",
              "\n",
              "  .colab-df-quickchart {\n",
              "    background-color: var(--bg-color);\n",
              "    border: none;\n",
              "    border-radius: 50%;\n",
              "    cursor: pointer;\n",
              "    display: none;\n",
              "    fill: var(--fill-color);\n",
              "    height: 32px;\n",
              "    padding: 0;\n",
              "    width: 32px;\n",
              "  }\n",
              "\n",
              "  .colab-df-quickchart:hover {\n",
              "    background-color: var(--hover-bg-color);\n",
              "    box-shadow: 0 1px 2px rgba(60, 64, 67, 0.3), 0 1px 3px 1px rgba(60, 64, 67, 0.15);\n",
              "    fill: var(--button-hover-fill-color);\n",
              "  }\n",
              "\n",
              "  .colab-df-quickchart-complete:disabled,\n",
              "  .colab-df-quickchart-complete:disabled:hover {\n",
              "    background-color: var(--disabled-bg-color);\n",
              "    fill: var(--disabled-fill-color);\n",
              "    box-shadow: none;\n",
              "  }\n",
              "\n",
              "  .colab-df-spinner {\n",
              "    border: 2px solid var(--fill-color);\n",
              "    border-color: transparent;\n",
              "    border-bottom-color: var(--fill-color);\n",
              "    animation:\n",
              "      spin 1s steps(1) infinite;\n",
              "  }\n",
              "\n",
              "  @keyframes spin {\n",
              "    0% {\n",
              "      border-color: transparent;\n",
              "      border-bottom-color: var(--fill-color);\n",
              "      border-left-color: var(--fill-color);\n",
              "    }\n",
              "    20% {\n",
              "      border-color: transparent;\n",
              "      border-left-color: var(--fill-color);\n",
              "      border-top-color: var(--fill-color);\n",
              "    }\n",
              "    30% {\n",
              "      border-color: transparent;\n",
              "      border-left-color: var(--fill-color);\n",
              "      border-top-color: var(--fill-color);\n",
              "      border-right-color: var(--fill-color);\n",
              "    }\n",
              "    40% {\n",
              "      border-color: transparent;\n",
              "      border-right-color: var(--fill-color);\n",
              "      border-top-color: var(--fill-color);\n",
              "    }\n",
              "    60% {\n",
              "      border-color: transparent;\n",
              "      border-right-color: var(--fill-color);\n",
              "    }\n",
              "    80% {\n",
              "      border-color: transparent;\n",
              "      border-right-color: var(--fill-color);\n",
              "      border-bottom-color: var(--fill-color);\n",
              "    }\n",
              "    90% {\n",
              "      border-color: transparent;\n",
              "      border-bottom-color: var(--fill-color);\n",
              "    }\n",
              "  }\n",
              "</style>\n",
              "\n",
              "  <script>\n",
              "    async function quickchart(key) {\n",
              "      const quickchartButtonEl =\n",
              "        document.querySelector('#' + key + ' button');\n",
              "      quickchartButtonEl.disabled = true;  // To prevent multiple clicks.\n",
              "      quickchartButtonEl.classList.add('colab-df-spinner');\n",
              "      try {\n",
              "        const charts = await google.colab.kernel.invokeFunction(\n",
              "            'suggestCharts', [key], {});\n",
              "      } catch (error) {\n",
              "        console.error('Error during call to suggestCharts:', error);\n",
              "      }\n",
              "      quickchartButtonEl.classList.remove('colab-df-spinner');\n",
              "      quickchartButtonEl.classList.add('colab-df-quickchart-complete');\n",
              "    }\n",
              "    (() => {\n",
              "      let quickchartButtonEl =\n",
              "        document.querySelector('#df-bbec15c9-2421-4b86-bb1b-a42dd315db17 button');\n",
              "      quickchartButtonEl.style.display =\n",
              "        google.colab.kernel.accessAllowed ? 'block' : 'none';\n",
              "    })();\n",
              "  </script>\n",
              "</div>\n",
              "    </div>\n",
              "  </div>\n"
            ],
            "application/vnd.google.colaboratory.intrinsic+json": {
              "type": "dataframe",
              "variable_name": "ames_df"
            }
          },
          "metadata": {},
          "execution_count": 3
        }
      ],
      "source": [
        "ames_df = pd.read_csv('/content/drive/MyDrive/Colab Datasets/ames.csv', index_col='Order')\n",
        "ames_df.head()"
      ]
    },
    {
      "cell_type": "markdown",
      "metadata": {
        "id": "trV_TrQW_z-Q"
      },
      "source": [
        "Call the [`info()`](https://pandas.pydata.org/pandas-docs/stable/reference/api/pandas.DataFrame.info.html) function."
      ]
    },
    {
      "cell_type": "code",
      "execution_count": 5,
      "metadata": {
        "colab": {
          "base_uri": "https://localhost:8080/"
        },
        "id": "vOWGmW5c_z-Q",
        "outputId": "bf93a76e-d3b1-4efb-d003-39e0c5b418b5"
      },
      "outputs": [
        {
          "output_type": "stream",
          "name": "stdout",
          "text": [
            "<class 'pandas.core.frame.DataFrame'>\n",
            "Index: 2930 entries, 1 to 2930\n",
            "Data columns (total 81 columns):\n",
            " #   Column           Non-Null Count  Dtype  \n",
            "---  ------           --------------  -----  \n",
            " 0   PID              2930 non-null   int64  \n",
            " 1   MS.SubClass      2930 non-null   int64  \n",
            " 2   MS.Zoning        2930 non-null   object \n",
            " 3   Lot.Frontage     2440 non-null   float64\n",
            " 4   Lot.Area         2930 non-null   int64  \n",
            " 5   Street           2930 non-null   object \n",
            " 6   Alley            198 non-null    object \n",
            " 7   Lot.Shape        2930 non-null   object \n",
            " 8   Land.Contour     2930 non-null   object \n",
            " 9   Utilities        2930 non-null   object \n",
            " 10  Lot.Config       2930 non-null   object \n",
            " 11  Land.Slope       2930 non-null   object \n",
            " 12  Neighborhood     2930 non-null   object \n",
            " 13  Condition.1      2930 non-null   object \n",
            " 14  Condition.2      2930 non-null   object \n",
            " 15  Bldg.Type        2930 non-null   object \n",
            " 16  House.Style      2930 non-null   object \n",
            " 17  Overall.Qual     2930 non-null   int64  \n",
            " 18  Overall.Cond     2930 non-null   int64  \n",
            " 19  Year.Built       2930 non-null   int64  \n",
            " 20  Year.Remod.Add   2930 non-null   int64  \n",
            " 21  Roof.Style       2930 non-null   object \n",
            " 22  Roof.Matl        2930 non-null   object \n",
            " 23  Exterior.1st     2930 non-null   object \n",
            " 24  Exterior.2nd     2930 non-null   object \n",
            " 25  Mas.Vnr.Type     1155 non-null   object \n",
            " 26  Mas.Vnr.Area     2907 non-null   float64\n",
            " 27  Exter.Qual       2930 non-null   object \n",
            " 28  Exter.Cond       2930 non-null   object \n",
            " 29  Foundation       2930 non-null   object \n",
            " 30  Bsmt.Qual        2850 non-null   object \n",
            " 31  Bsmt.Cond        2850 non-null   object \n",
            " 32  Bsmt.Exposure    2847 non-null   object \n",
            " 33  BsmtFin.Type.1   2850 non-null   object \n",
            " 34  BsmtFin.SF.1     2929 non-null   float64\n",
            " 35  BsmtFin.Type.2   2849 non-null   object \n",
            " 36  BsmtFin.SF.2     2929 non-null   float64\n",
            " 37  Bsmt.Unf.SF      2929 non-null   float64\n",
            " 38  Total.Bsmt.SF    2929 non-null   float64\n",
            " 39  Heating          2930 non-null   object \n",
            " 40  Heating.QC       2930 non-null   object \n",
            " 41  Central.Air      2930 non-null   object \n",
            " 42  Electrical       2929 non-null   object \n",
            " 43  X1st.Flr.SF      2930 non-null   int64  \n",
            " 44  X2nd.Flr.SF      2930 non-null   int64  \n",
            " 45  Low.Qual.Fin.SF  2930 non-null   int64  \n",
            " 46  Gr.Liv.Area      2930 non-null   int64  \n",
            " 47  Bsmt.Full.Bath   2928 non-null   float64\n",
            " 48  Bsmt.Half.Bath   2928 non-null   float64\n",
            " 49  Full.Bath        2930 non-null   int64  \n",
            " 50  Half.Bath        2930 non-null   int64  \n",
            " 51  Bedroom.AbvGr    2930 non-null   int64  \n",
            " 52  Kitchen.AbvGr    2930 non-null   int64  \n",
            " 53  Kitchen.Qual     2930 non-null   object \n",
            " 54  TotRms.AbvGrd    2930 non-null   int64  \n",
            " 55  Functional       2930 non-null   object \n",
            " 56  Fireplaces       2930 non-null   int64  \n",
            " 57  Fireplace.Qu     1508 non-null   object \n",
            " 58  Garage.Type      2773 non-null   object \n",
            " 59  Garage.Yr.Blt    2771 non-null   float64\n",
            " 60  Garage.Finish    2771 non-null   object \n",
            " 61  Garage.Cars      2929 non-null   float64\n",
            " 62  Garage.Area      2929 non-null   float64\n",
            " 63  Garage.Qual      2771 non-null   object \n",
            " 64  Garage.Cond      2771 non-null   object \n",
            " 65  Paved.Drive      2930 non-null   object \n",
            " 66  Wood.Deck.SF     2930 non-null   int64  \n",
            " 67  Open.Porch.SF    2930 non-null   int64  \n",
            " 68  Enclosed.Porch   2930 non-null   int64  \n",
            " 69  X3Ssn.Porch      2930 non-null   int64  \n",
            " 70  Screen.Porch     2930 non-null   int64  \n",
            " 71  Pool.Area        2930 non-null   int64  \n",
            " 72  Pool.QC          13 non-null     object \n",
            " 73  Fence            572 non-null    object \n",
            " 74  Misc.Feature     106 non-null    object \n",
            " 75  Misc.Val         2930 non-null   int64  \n",
            " 76  Mo.Sold          2930 non-null   int64  \n",
            " 77  Yr.Sold          2930 non-null   int64  \n",
            " 78  Sale.Type        2930 non-null   object \n",
            " 79  Sale.Condition   2930 non-null   object \n",
            " 80  SalePrice        2930 non-null   int64  \n",
            "dtypes: float64(11), int64(27), object(43)\n",
            "memory usage: 1.8+ MB\n"
          ]
        }
      ],
      "source": [
        "ames_df.info()"
      ]
    },
    {
      "cell_type": "markdown",
      "metadata": {
        "id": "PYdRcV18_z-Q"
      },
      "source": [
        "Our dataset contains 81 variables and 2930 instances."
      ]
    },
    {
      "cell_type": "markdown",
      "metadata": {
        "id": "zG87mGqg_z-R"
      },
      "source": [
        "### Get a Sample"
      ]
    },
    {
      "cell_type": "markdown",
      "metadata": {
        "id": "ytHDOkfm_z-R"
      },
      "source": [
        "Here, we have access to the population data. But in most cases, we do not. Instead, we have to work with a **sample**. Let's try to take a sample from our population using the [`sample()`](https://pandas.pydata.org/pandas-docs/stable/reference/api/pandas.DataFrame.sample.html) function.\n",
        "\n",
        "**Note**: The random state is any number that allows us to make our notebooks reproducible. The random state, in very simple terms, dictates where to start \"searching\" and sampling at random."
      ]
    },
    {
      "cell_type": "code",
      "execution_count": 6,
      "metadata": {
        "colab": {
          "base_uri": "https://localhost:8080/",
          "height": 287
        },
        "id": "-AKBmozr_z-R",
        "outputId": "a9964048-0c1f-4fbf-afaa-09015c49b30d"
      },
      "outputs": [
        {
          "output_type": "execute_result",
          "data": {
            "text/plain": [
              "             PID  MS.SubClass MS.Zoning  Lot.Frontage  Lot.Area Street Alley  \\\n",
              "Order                                                                          \n",
              "2110   906382060           20        RL          73.0      8760   Pave   NaN   \n",
              "1688   528102120           20        RL          91.0     11825   Pave   NaN   \n",
              "171    902104060           50        RM          55.0      8800   Pave  Grvl   \n",
              "1478   907412090           20        RL          85.0     11049   Pave   NaN   \n",
              "2287   923228200          180        RM           NaN      1533   Pave   NaN   \n",
              "\n",
              "      Lot.Shape Land.Contour Utilities  ... Pool.Area Pool.QC Fence  \\\n",
              "Order                                   ...                           \n",
              "2110        Reg          Lvl    AllPub  ...         0     NaN   NaN   \n",
              "1688        Reg          Lvl    AllPub  ...         0     NaN   NaN   \n",
              "171         Reg          Lvl    AllPub  ...         0     NaN   NaN   \n",
              "1478        Reg          Lvl    AllPub  ...         0     NaN   NaN   \n",
              "2287        Reg          Lvl    AllPub  ...         0     NaN   NaN   \n",
              "\n",
              "      Misc.Feature Misc.Val Mo.Sold Yr.Sold  Sale.Type  Sale.Condition  \\\n",
              "Order                                                                    \n",
              "2110           NaN        0       6    2007        WD           Normal   \n",
              "1688           NaN        0       6    2007        New         Partial   \n",
              "171            NaN        0       6    2010        WD           Normal   \n",
              "1478           NaN        0       1    2008        WD           Normal   \n",
              "2287           NaN        0       7    2007        WD           Normal   \n",
              "\n",
              "       SalePrice  \n",
              "Order             \n",
              "2110      212999  \n",
              "1688      322400  \n",
              "171        96500  \n",
              "1478      179900  \n",
              "2287      106500  \n",
              "\n",
              "[5 rows x 81 columns]"
            ],
            "text/html": [
              "\n",
              "  <div id=\"df-e299288a-e0d5-40a4-aba5-2b957abd7295\" class=\"colab-df-container\">\n",
              "    <div>\n",
              "<style scoped>\n",
              "    .dataframe tbody tr th:only-of-type {\n",
              "        vertical-align: middle;\n",
              "    }\n",
              "\n",
              "    .dataframe tbody tr th {\n",
              "        vertical-align: top;\n",
              "    }\n",
              "\n",
              "    .dataframe thead th {\n",
              "        text-align: right;\n",
              "    }\n",
              "</style>\n",
              "<table border=\"1\" class=\"dataframe\">\n",
              "  <thead>\n",
              "    <tr style=\"text-align: right;\">\n",
              "      <th></th>\n",
              "      <th>PID</th>\n",
              "      <th>MS.SubClass</th>\n",
              "      <th>MS.Zoning</th>\n",
              "      <th>Lot.Frontage</th>\n",
              "      <th>Lot.Area</th>\n",
              "      <th>Street</th>\n",
              "      <th>Alley</th>\n",
              "      <th>Lot.Shape</th>\n",
              "      <th>Land.Contour</th>\n",
              "      <th>Utilities</th>\n",
              "      <th>...</th>\n",
              "      <th>Pool.Area</th>\n",
              "      <th>Pool.QC</th>\n",
              "      <th>Fence</th>\n",
              "      <th>Misc.Feature</th>\n",
              "      <th>Misc.Val</th>\n",
              "      <th>Mo.Sold</th>\n",
              "      <th>Yr.Sold</th>\n",
              "      <th>Sale.Type</th>\n",
              "      <th>Sale.Condition</th>\n",
              "      <th>SalePrice</th>\n",
              "    </tr>\n",
              "    <tr>\n",
              "      <th>Order</th>\n",
              "      <th></th>\n",
              "      <th></th>\n",
              "      <th></th>\n",
              "      <th></th>\n",
              "      <th></th>\n",
              "      <th></th>\n",
              "      <th></th>\n",
              "      <th></th>\n",
              "      <th></th>\n",
              "      <th></th>\n",
              "      <th></th>\n",
              "      <th></th>\n",
              "      <th></th>\n",
              "      <th></th>\n",
              "      <th></th>\n",
              "      <th></th>\n",
              "      <th></th>\n",
              "      <th></th>\n",
              "      <th></th>\n",
              "      <th></th>\n",
              "      <th></th>\n",
              "    </tr>\n",
              "  </thead>\n",
              "  <tbody>\n",
              "    <tr>\n",
              "      <th>2110</th>\n",
              "      <td>906382060</td>\n",
              "      <td>20</td>\n",
              "      <td>RL</td>\n",
              "      <td>73.0</td>\n",
              "      <td>8760</td>\n",
              "      <td>Pave</td>\n",
              "      <td>NaN</td>\n",
              "      <td>Reg</td>\n",
              "      <td>Lvl</td>\n",
              "      <td>AllPub</td>\n",
              "      <td>...</td>\n",
              "      <td>0</td>\n",
              "      <td>NaN</td>\n",
              "      <td>NaN</td>\n",
              "      <td>NaN</td>\n",
              "      <td>0</td>\n",
              "      <td>6</td>\n",
              "      <td>2007</td>\n",
              "      <td>WD</td>\n",
              "      <td>Normal</td>\n",
              "      <td>212999</td>\n",
              "    </tr>\n",
              "    <tr>\n",
              "      <th>1688</th>\n",
              "      <td>528102120</td>\n",
              "      <td>20</td>\n",
              "      <td>RL</td>\n",
              "      <td>91.0</td>\n",
              "      <td>11825</td>\n",
              "      <td>Pave</td>\n",
              "      <td>NaN</td>\n",
              "      <td>Reg</td>\n",
              "      <td>Lvl</td>\n",
              "      <td>AllPub</td>\n",
              "      <td>...</td>\n",
              "      <td>0</td>\n",
              "      <td>NaN</td>\n",
              "      <td>NaN</td>\n",
              "      <td>NaN</td>\n",
              "      <td>0</td>\n",
              "      <td>6</td>\n",
              "      <td>2007</td>\n",
              "      <td>New</td>\n",
              "      <td>Partial</td>\n",
              "      <td>322400</td>\n",
              "    </tr>\n",
              "    <tr>\n",
              "      <th>171</th>\n",
              "      <td>902104060</td>\n",
              "      <td>50</td>\n",
              "      <td>RM</td>\n",
              "      <td>55.0</td>\n",
              "      <td>8800</td>\n",
              "      <td>Pave</td>\n",
              "      <td>Grvl</td>\n",
              "      <td>Reg</td>\n",
              "      <td>Lvl</td>\n",
              "      <td>AllPub</td>\n",
              "      <td>...</td>\n",
              "      <td>0</td>\n",
              "      <td>NaN</td>\n",
              "      <td>NaN</td>\n",
              "      <td>NaN</td>\n",
              "      <td>0</td>\n",
              "      <td>6</td>\n",
              "      <td>2010</td>\n",
              "      <td>WD</td>\n",
              "      <td>Normal</td>\n",
              "      <td>96500</td>\n",
              "    </tr>\n",
              "    <tr>\n",
              "      <th>1478</th>\n",
              "      <td>907412090</td>\n",
              "      <td>20</td>\n",
              "      <td>RL</td>\n",
              "      <td>85.0</td>\n",
              "      <td>11049</td>\n",
              "      <td>Pave</td>\n",
              "      <td>NaN</td>\n",
              "      <td>Reg</td>\n",
              "      <td>Lvl</td>\n",
              "      <td>AllPub</td>\n",
              "      <td>...</td>\n",
              "      <td>0</td>\n",
              "      <td>NaN</td>\n",
              "      <td>NaN</td>\n",
              "      <td>NaN</td>\n",
              "      <td>0</td>\n",
              "      <td>1</td>\n",
              "      <td>2008</td>\n",
              "      <td>WD</td>\n",
              "      <td>Normal</td>\n",
              "      <td>179900</td>\n",
              "    </tr>\n",
              "    <tr>\n",
              "      <th>2287</th>\n",
              "      <td>923228200</td>\n",
              "      <td>180</td>\n",
              "      <td>RM</td>\n",
              "      <td>NaN</td>\n",
              "      <td>1533</td>\n",
              "      <td>Pave</td>\n",
              "      <td>NaN</td>\n",
              "      <td>Reg</td>\n",
              "      <td>Lvl</td>\n",
              "      <td>AllPub</td>\n",
              "      <td>...</td>\n",
              "      <td>0</td>\n",
              "      <td>NaN</td>\n",
              "      <td>NaN</td>\n",
              "      <td>NaN</td>\n",
              "      <td>0</td>\n",
              "      <td>7</td>\n",
              "      <td>2007</td>\n",
              "      <td>WD</td>\n",
              "      <td>Normal</td>\n",
              "      <td>106500</td>\n",
              "    </tr>\n",
              "  </tbody>\n",
              "</table>\n",
              "<p>5 rows × 81 columns</p>\n",
              "</div>\n",
              "    <div class=\"colab-df-buttons\">\n",
              "\n",
              "  <div class=\"colab-df-container\">\n",
              "    <button class=\"colab-df-convert\" onclick=\"convertToInteractive('df-e299288a-e0d5-40a4-aba5-2b957abd7295')\"\n",
              "            title=\"Convert this dataframe to an interactive table.\"\n",
              "            style=\"display:none;\">\n",
              "\n",
              "  <svg xmlns=\"http://www.w3.org/2000/svg\" height=\"24px\" viewBox=\"0 -960 960 960\">\n",
              "    <path d=\"M120-120v-720h720v720H120Zm60-500h600v-160H180v160Zm220 220h160v-160H400v160Zm0 220h160v-160H400v160ZM180-400h160v-160H180v160Zm440 0h160v-160H620v160ZM180-180h160v-160H180v160Zm440 0h160v-160H620v160Z\"/>\n",
              "  </svg>\n",
              "    </button>\n",
              "\n",
              "  <style>\n",
              "    .colab-df-container {\n",
              "      display:flex;\n",
              "      gap: 12px;\n",
              "    }\n",
              "\n",
              "    .colab-df-convert {\n",
              "      background-color: #E8F0FE;\n",
              "      border: none;\n",
              "      border-radius: 50%;\n",
              "      cursor: pointer;\n",
              "      display: none;\n",
              "      fill: #1967D2;\n",
              "      height: 32px;\n",
              "      padding: 0 0 0 0;\n",
              "      width: 32px;\n",
              "    }\n",
              "\n",
              "    .colab-df-convert:hover {\n",
              "      background-color: #E2EBFA;\n",
              "      box-shadow: 0px 1px 2px rgba(60, 64, 67, 0.3), 0px 1px 3px 1px rgba(60, 64, 67, 0.15);\n",
              "      fill: #174EA6;\n",
              "    }\n",
              "\n",
              "    .colab-df-buttons div {\n",
              "      margin-bottom: 4px;\n",
              "    }\n",
              "\n",
              "    [theme=dark] .colab-df-convert {\n",
              "      background-color: #3B4455;\n",
              "      fill: #D2E3FC;\n",
              "    }\n",
              "\n",
              "    [theme=dark] .colab-df-convert:hover {\n",
              "      background-color: #434B5C;\n",
              "      box-shadow: 0px 1px 3px 1px rgba(0, 0, 0, 0.15);\n",
              "      filter: drop-shadow(0px 1px 2px rgba(0, 0, 0, 0.3));\n",
              "      fill: #FFFFFF;\n",
              "    }\n",
              "  </style>\n",
              "\n",
              "    <script>\n",
              "      const buttonEl =\n",
              "        document.querySelector('#df-e299288a-e0d5-40a4-aba5-2b957abd7295 button.colab-df-convert');\n",
              "      buttonEl.style.display =\n",
              "        google.colab.kernel.accessAllowed ? 'block' : 'none';\n",
              "\n",
              "      async function convertToInteractive(key) {\n",
              "        const element = document.querySelector('#df-e299288a-e0d5-40a4-aba5-2b957abd7295');\n",
              "        const dataTable =\n",
              "          await google.colab.kernel.invokeFunction('convertToInteractive',\n",
              "                                                    [key], {});\n",
              "        if (!dataTable) return;\n",
              "\n",
              "        const docLinkHtml = 'Like what you see? Visit the ' +\n",
              "          '<a target=\"_blank\" href=https://colab.research.google.com/notebooks/data_table.ipynb>data table notebook</a>'\n",
              "          + ' to learn more about interactive tables.';\n",
              "        element.innerHTML = '';\n",
              "        dataTable['output_type'] = 'display_data';\n",
              "        await google.colab.output.renderOutput(dataTable, element);\n",
              "        const docLink = document.createElement('div');\n",
              "        docLink.innerHTML = docLinkHtml;\n",
              "        element.appendChild(docLink);\n",
              "      }\n",
              "    </script>\n",
              "  </div>\n",
              "\n",
              "\n",
              "<div id=\"df-eac31f52-ca33-4402-8070-201445ec51db\">\n",
              "  <button class=\"colab-df-quickchart\" onclick=\"quickchart('df-eac31f52-ca33-4402-8070-201445ec51db')\"\n",
              "            title=\"Suggest charts\"\n",
              "            style=\"display:none;\">\n",
              "\n",
              "<svg xmlns=\"http://www.w3.org/2000/svg\" height=\"24px\"viewBox=\"0 0 24 24\"\n",
              "     width=\"24px\">\n",
              "    <g>\n",
              "        <path d=\"M19 3H5c-1.1 0-2 .9-2 2v14c0 1.1.9 2 2 2h14c1.1 0 2-.9 2-2V5c0-1.1-.9-2-2-2zM9 17H7v-7h2v7zm4 0h-2V7h2v10zm4 0h-2v-4h2v4z\"/>\n",
              "    </g>\n",
              "</svg>\n",
              "  </button>\n",
              "\n",
              "<style>\n",
              "  .colab-df-quickchart {\n",
              "      --bg-color: #E8F0FE;\n",
              "      --fill-color: #1967D2;\n",
              "      --hover-bg-color: #E2EBFA;\n",
              "      --hover-fill-color: #174EA6;\n",
              "      --disabled-fill-color: #AAA;\n",
              "      --disabled-bg-color: #DDD;\n",
              "  }\n",
              "\n",
              "  [theme=dark] .colab-df-quickchart {\n",
              "      --bg-color: #3B4455;\n",
              "      --fill-color: #D2E3FC;\n",
              "      --hover-bg-color: #434B5C;\n",
              "      --hover-fill-color: #FFFFFF;\n",
              "      --disabled-bg-color: #3B4455;\n",
              "      --disabled-fill-color: #666;\n",
              "  }\n",
              "\n",
              "  .colab-df-quickchart {\n",
              "    background-color: var(--bg-color);\n",
              "    border: none;\n",
              "    border-radius: 50%;\n",
              "    cursor: pointer;\n",
              "    display: none;\n",
              "    fill: var(--fill-color);\n",
              "    height: 32px;\n",
              "    padding: 0;\n",
              "    width: 32px;\n",
              "  }\n",
              "\n",
              "  .colab-df-quickchart:hover {\n",
              "    background-color: var(--hover-bg-color);\n",
              "    box-shadow: 0 1px 2px rgba(60, 64, 67, 0.3), 0 1px 3px 1px rgba(60, 64, 67, 0.15);\n",
              "    fill: var(--button-hover-fill-color);\n",
              "  }\n",
              "\n",
              "  .colab-df-quickchart-complete:disabled,\n",
              "  .colab-df-quickchart-complete:disabled:hover {\n",
              "    background-color: var(--disabled-bg-color);\n",
              "    fill: var(--disabled-fill-color);\n",
              "    box-shadow: none;\n",
              "  }\n",
              "\n",
              "  .colab-df-spinner {\n",
              "    border: 2px solid var(--fill-color);\n",
              "    border-color: transparent;\n",
              "    border-bottom-color: var(--fill-color);\n",
              "    animation:\n",
              "      spin 1s steps(1) infinite;\n",
              "  }\n",
              "\n",
              "  @keyframes spin {\n",
              "    0% {\n",
              "      border-color: transparent;\n",
              "      border-bottom-color: var(--fill-color);\n",
              "      border-left-color: var(--fill-color);\n",
              "    }\n",
              "    20% {\n",
              "      border-color: transparent;\n",
              "      border-left-color: var(--fill-color);\n",
              "      border-top-color: var(--fill-color);\n",
              "    }\n",
              "    30% {\n",
              "      border-color: transparent;\n",
              "      border-left-color: var(--fill-color);\n",
              "      border-top-color: var(--fill-color);\n",
              "      border-right-color: var(--fill-color);\n",
              "    }\n",
              "    40% {\n",
              "      border-color: transparent;\n",
              "      border-right-color: var(--fill-color);\n",
              "      border-top-color: var(--fill-color);\n",
              "    }\n",
              "    60% {\n",
              "      border-color: transparent;\n",
              "      border-right-color: var(--fill-color);\n",
              "    }\n",
              "    80% {\n",
              "      border-color: transparent;\n",
              "      border-right-color: var(--fill-color);\n",
              "      border-bottom-color: var(--fill-color);\n",
              "    }\n",
              "    90% {\n",
              "      border-color: transparent;\n",
              "      border-bottom-color: var(--fill-color);\n",
              "    }\n",
              "  }\n",
              "</style>\n",
              "\n",
              "  <script>\n",
              "    async function quickchart(key) {\n",
              "      const quickchartButtonEl =\n",
              "        document.querySelector('#' + key + ' button');\n",
              "      quickchartButtonEl.disabled = true;  // To prevent multiple clicks.\n",
              "      quickchartButtonEl.classList.add('colab-df-spinner');\n",
              "      try {\n",
              "        const charts = await google.colab.kernel.invokeFunction(\n",
              "            'suggestCharts', [key], {});\n",
              "      } catch (error) {\n",
              "        console.error('Error during call to suggestCharts:', error);\n",
              "      }\n",
              "      quickchartButtonEl.classList.remove('colab-df-spinner');\n",
              "      quickchartButtonEl.classList.add('colab-df-quickchart-complete');\n",
              "    }\n",
              "    (() => {\n",
              "      let quickchartButtonEl =\n",
              "        document.querySelector('#df-eac31f52-ca33-4402-8070-201445ec51db button');\n",
              "      quickchartButtonEl.style.display =\n",
              "        google.colab.kernel.accessAllowed ? 'block' : 'none';\n",
              "    })();\n",
              "  </script>\n",
              "</div>\n",
              "    </div>\n",
              "  </div>\n"
            ],
            "application/vnd.google.colaboratory.intrinsic+json": {
              "type": "dataframe",
              "variable_name": "ames_sample_df"
            }
          },
          "metadata": {},
          "execution_count": 6
        }
      ],
      "source": [
        "n = 60\n",
        "ames_sample_df = ames_df.sample(n, random_state=8)\n",
        "ames_sample_df.head()"
      ]
    },
    {
      "cell_type": "markdown",
      "metadata": {
        "id": "OYE4cG3N_z-S"
      },
      "source": [
        "For now, we will only focus on the `Lot.Area` variable. Let us compute the summary statistics for this variable."
      ]
    },
    {
      "cell_type": "code",
      "execution_count": 7,
      "metadata": {
        "colab": {
          "base_uri": "https://localhost:8080/"
        },
        "id": "620-bYQo_z-S",
        "outputId": "266712d1-4439-474a-9588-067015df2cd9"
      },
      "outputs": [
        {
          "output_type": "stream",
          "name": "stdout",
          "text": [
            "Sample Mean: 9494.48\n",
            "Sample Median: 9532.00\n",
            "Sample Standard Deviation: 4278.03\n"
          ]
        }
      ],
      "source": [
        "agg = ames_sample_df.agg({'Lot.Area': ['mean', 'median', 'std']})\n",
        "\n",
        "sample_mean = agg.loc['mean'][0]\n",
        "sample_median = agg.loc['median'][0]\n",
        "sample_std = agg.loc['std'][0]\n",
        "\n",
        "print('Sample Mean: {:.2f}'.format(sample_mean))\n",
        "print('Sample Median: {:.2f}'.format(sample_median))\n",
        "print('Sample Standard Deviation: {:.2f}'.format(sample_std))"
      ]
    },
    {
      "cell_type": "markdown",
      "metadata": {
        "id": "R0WfONXx_z-S"
      },
      "source": [
        "**Question #1:** What is the mean of your sample? Limit to 2 decimal places.\n",
        "\n",
        "Answer: `9494.48`"
      ]
    },
    {
      "cell_type": "markdown",
      "metadata": {
        "id": "xxMkfqvu_z-S"
      },
      "source": [
        "### Confidence Interval"
      ]
    },
    {
      "cell_type": "markdown",
      "metadata": {
        "id": "mmAPJyF3_z-T"
      },
      "source": [
        "Based on this sample, what can we infer about the population? Based only on this single sample, the best estimate of the average living area of houses sold in Ames would be the sample mean, usually denoted as $\\bar{x}$. That serves as a good point estimate but it would be useful to also communicate how uncertain we are of that estimate. This uncertainty can be quantified using a confidence interval.\n",
        "\n",
        "A confidence interval for a population mean is computed as:\n",
        "\n",
        "$$\\bar{x} \\pm ME $$\n",
        "\n",
        "where $ME$ is also known as the **margin of error**. The margin of error is computed as:\n",
        "\n",
        "$$ME = z^* \\times \\frac{s}{\\sqrt{n}}$$\n",
        "\n",
        "\n",
        "Where $z^*$, also known as the **critical value**."
      ]
    },
    {
      "cell_type": "markdown",
      "metadata": {
        "id": "ud5fUNAB_z-T"
      },
      "source": [
        "Confidence level corresponds to the probability of getting a value within the confidence interval when sampling is repeated multiple times. On the other hand, the significance level or alpha ($\\alpha$) is the probability of rejecting the null hypothesis given that the null hypothesis is true. These two have an inverse relationship, where the significance level is equivalent to $(1 - CL)$, where $CL$ is the confidence level.\n",
        "\n",
        "To get the value of $z^*$, we can use the [`norm.ppf()`](https://docs.scipy.org/doc/scipy/reference/generated/scipy.stats.norm.html) function. A 95% confidence level refers to the middle 95% of the distribution. Thus, your significance level is 0.05. Suppose that we are performing a one-tailed test, the critical value for this is computed as:"
      ]
    },
    {
      "cell_type": "code",
      "execution_count": 8,
      "metadata": {
        "colab": {
          "base_uri": "https://localhost:8080/"
        },
        "id": "9jlyxFk7_z-T",
        "outputId": "59141d95-e695-42ce-e987-b794ef96bc4e"
      },
      "outputs": [
        {
          "output_type": "stream",
          "name": "stdout",
          "text": [
            "1.64\n"
          ]
        }
      ],
      "source": [
        "alpha = 0.05\n",
        "z_star_95_one_tailed = norm.ppf(1 - alpha)\n",
        "print('{:.2f}'.format(z_star_95_one_tailed))"
      ]
    },
    {
      "cell_type": "markdown",
      "metadata": {
        "id": "a0MhIEip_z-T"
      },
      "source": [
        "When performing a two-tailed test, the value of $\\alpha$ should be divided into two. You may read more about this [here](https://thedatascientist.com/comparing-significance-level-confidence-level-and-confidence-interval/). Thus, we compute $z^*$ as:"
      ]
    },
    {
      "cell_type": "code",
      "execution_count": 9,
      "metadata": {
        "scrolled": true,
        "colab": {
          "base_uri": "https://localhost:8080/"
        },
        "id": "rN2RVksG_z-U",
        "outputId": "2503fff7-d5f7-4d68-fa73-6b5cf0d63269"
      },
      "outputs": [
        {
          "output_type": "stream",
          "name": "stdout",
          "text": [
            "1.96\n"
          ]
        }
      ],
      "source": [
        "alpha = 0.05\n",
        "z_star_95_two_tailed = norm.ppf(1 - alpha / 2)\n",
        "print('{:.2f}'.format(z_star_95_two_tailed))"
      ]
    },
    {
      "cell_type": "markdown",
      "metadata": {
        "id": "RoQm7C_z_z-U"
      },
      "source": [
        "Let's assume that we are performing a two-tailed test. Compute and display the margin of error given a 95% confidence level. Use the variables from previous cells instead of using the actual values."
      ]
    },
    {
      "cell_type": "code",
      "execution_count": 10,
      "metadata": {
        "scrolled": true,
        "colab": {
          "base_uri": "https://localhost:8080/"
        },
        "id": "SdyA5wlL_z-U",
        "outputId": "d4be64db-042c-478c-f4e6-736bdc7b1171"
      },
      "outputs": [
        {
          "output_type": "stream",
          "name": "stdout",
          "text": [
            "1993.5426790991908\n"
          ]
        }
      ],
      "source": [
        "# Write your code here\n",
        "population_stdev = ames_df['Lot.Area'].std(ddof=0)\n",
        "\n",
        "margin_of_error_95_two_tailed = z_star_95_two_tailed * (population_stdev / np.sqrt(n))\n",
        "print(margin_of_error_95_two_tailed)"
      ]
    },
    {
      "cell_type": "markdown",
      "metadata": {
        "id": "dxs6fzQv_z-U"
      },
      "source": [
        "**Question #2:** Given a 95% confidence level, what is the margin of error? Limit to 2 decimal places.\n",
        "\n",
        "Answer: Given 95% confidence level, the margin of error is 1993.54."
      ]
    },
    {
      "cell_type": "markdown",
      "metadata": {
        "id": "0o8UXMzw_z-V"
      },
      "source": [
        "Again, the 95% confidence interval is the sample mean $\\pm$ the margin of error. Compute and display the minimum and maximum values in the 95% confidence interval. Use the variables from previous cells instead of using the actual values."
      ]
    },
    {
      "cell_type": "code",
      "execution_count": 11,
      "metadata": {
        "id": "dSyLOv0y_z-V",
        "colab": {
          "base_uri": "https://localhost:8080/"
        },
        "outputId": "3552d2f9-c7d4-4235-beb1-c10f6595a44d"
      },
      "outputs": [
        {
          "output_type": "stream",
          "name": "stdout",
          "text": [
            "Minimum Value:  7500.940654234143\n",
            "Maximum Value:  11488.026012432525\n"
          ]
        }
      ],
      "source": [
        "# Write your code here\n",
        "min_value = sample_mean - margin_of_error_95_two_tailed\n",
        "max_value = sample_mean + margin_of_error_95_two_tailed\n",
        "\n",
        "print(\"Minimum Value: \", min_value)\n",
        "print(\"Maximum Value: \", max_value)"
      ]
    },
    {
      "cell_type": "markdown",
      "metadata": {
        "id": "S8sVyqwU_z-V"
      },
      "source": [
        "**Question #3:** Specify the 95% confidence interval (minimum value, maximum value). Limit to 2 decimal places.\n",
        "\n",
        "Answer: Min value at a 95% confidence interval is 7500.94 while Max value at a 95% confidence interval is 11488.03"
      ]
    },
    {
      "cell_type": "markdown",
      "metadata": {
        "id": "fVZDQDx__z-V"
      },
      "source": [
        "To recap: even though we don't know what the full population looks like, we believe that the true average size of houses in Ames lies between the lower and upper values 95% of the time. There are a few conditions that must be met for this interval to be valid."
      ]
    },
    {
      "cell_type": "markdown",
      "metadata": {
        "id": "A1dkPOzm_z-W"
      },
      "source": [
        "**Question #4:** What are the conditions that need to be met for the central limit theorem for means and consequently, our confidence interval to be valid? Is our confidence interval valid based on these conditions?\n",
        "\n",
        "Answer: The sample size must be at least 30. Although, our confidence is valid since our sample size is 60."
      ]
    },
    {
      "cell_type": "markdown",
      "metadata": {
        "id": "EFVF9deC_z-W"
      },
      "source": [
        "### Verify if Our Confidence Interval Covers the True Mean"
      ]
    },
    {
      "cell_type": "markdown",
      "metadata": {
        "id": "A9FJ8spf_z-W"
      },
      "source": [
        "In this case, we have the rare luxury of knowing the true population mean since we have data on the entire population. Let's calculate this value so that we can determine if our confidence intervals actually capture it.\n",
        "\n",
        "Let us get the mean from the population (not the sample)."
      ]
    },
    {
      "cell_type": "markdown",
      "metadata": {
        "id": "RAuIiQJj_z-W"
      },
      "source": [
        "Compute and display the true population mean for the variable."
      ]
    },
    {
      "cell_type": "code",
      "execution_count": 12,
      "metadata": {
        "scrolled": true,
        "id": "nuZjd_Mo_z-X",
        "colab": {
          "base_uri": "https://localhost:8080/"
        },
        "outputId": "25ff8fdf-9d25-4430-db53-7a64308e5510"
      },
      "outputs": [
        {
          "output_type": "stream",
          "name": "stdout",
          "text": [
            "10147.921843003413\n"
          ]
        }
      ],
      "source": [
        "# Write your code here\n",
        "pop_mean = ames_df['Lot.Area'].mean()\n",
        "print(pop_mean)"
      ]
    },
    {
      "cell_type": "markdown",
      "metadata": {
        "id": "DPku2DsS_z-X"
      },
      "source": [
        "**Question #5:** What is the true population mean of the variable? Limit to 2 decimal places.\n",
        "\n",
        "Answer: 10147.92"
      ]
    },
    {
      "cell_type": "markdown",
      "metadata": {
        "id": "rE9qKaqM_z-X"
      },
      "source": [
        "**Note:** The true population mean should be within your computed confidence interval range."
      ]
    },
    {
      "cell_type": "markdown",
      "metadata": {
        "id": "0pfANorO_z-X"
      },
      "source": [
        "### Increase the Confidence Level to 99%"
      ]
    },
    {
      "cell_type": "markdown",
      "metadata": {
        "id": "gPl0nue-_z-Y"
      },
      "source": [
        "Let's get another sample from the population, where `n` is 60."
      ]
    },
    {
      "cell_type": "code",
      "execution_count": 13,
      "metadata": {
        "id": "xs1XQzEA_z-d",
        "colab": {
          "base_uri": "https://localhost:8080/",
          "height": 287
        },
        "outputId": "d012a2e7-d3e8-4469-e029-4263fbd7f84b"
      },
      "outputs": [
        {
          "output_type": "execute_result",
          "data": {
            "text/plain": [
              "             PID  MS.SubClass MS.Zoning  Lot.Frontage  Lot.Area Street Alley  \\\n",
              "Order                                                                          \n",
              "596    534226120           20        RL          70.0      9100   Pave   NaN   \n",
              "1509   908275130           50        RL          70.0     11767   Pave   NaN   \n",
              "2889   914476050           90        RL          78.0     10530   Pave   NaN   \n",
              "223    905105200           20        RL          65.0      7800   Pave   NaN   \n",
              "910    909179020           75        RL         102.0     15863   Pave   NaN   \n",
              "\n",
              "      Lot.Shape Land.Contour Utilities  ... Pool.Area Pool.QC Fence  \\\n",
              "Order                                   ...                           \n",
              "596         Reg          Lvl    AllPub  ...         0     NaN  GdWo   \n",
              "1509        Reg          Lvl    AllPub  ...         0     NaN   NaN   \n",
              "2889        Reg          Lvl    AllPub  ...         0     NaN   NaN   \n",
              "223         Reg          Lvl    AllPub  ...         0     NaN   NaN   \n",
              "910         Reg          Lvl    AllPub  ...         0     NaN   NaN   \n",
              "\n",
              "      Misc.Feature Misc.Val Mo.Sold Yr.Sold  Sale.Type  Sale.Condition  \\\n",
              "Order                                                                    \n",
              "596            NaN        0       7    2009        WD           Normal   \n",
              "1509           NaN        0       5    2008        WD           Normal   \n",
              "2889           NaN        0       5    2006        WD           Normal   \n",
              "223            NaN        0       6    2010        WD           Normal   \n",
              "910            NaN        0       8    2009        WD           Normal   \n",
              "\n",
              "       SalePrice  \n",
              "Order             \n",
              "596       117500  \n",
              "1509      130500  \n",
              "2889      135000  \n",
              "223       137900  \n",
              "910       197000  \n",
              "\n",
              "[5 rows x 81 columns]"
            ],
            "text/html": [
              "\n",
              "  <div id=\"df-53468cb7-e759-43c8-a626-f215052c7a7f\" class=\"colab-df-container\">\n",
              "    <div>\n",
              "<style scoped>\n",
              "    .dataframe tbody tr th:only-of-type {\n",
              "        vertical-align: middle;\n",
              "    }\n",
              "\n",
              "    .dataframe tbody tr th {\n",
              "        vertical-align: top;\n",
              "    }\n",
              "\n",
              "    .dataframe thead th {\n",
              "        text-align: right;\n",
              "    }\n",
              "</style>\n",
              "<table border=\"1\" class=\"dataframe\">\n",
              "  <thead>\n",
              "    <tr style=\"text-align: right;\">\n",
              "      <th></th>\n",
              "      <th>PID</th>\n",
              "      <th>MS.SubClass</th>\n",
              "      <th>MS.Zoning</th>\n",
              "      <th>Lot.Frontage</th>\n",
              "      <th>Lot.Area</th>\n",
              "      <th>Street</th>\n",
              "      <th>Alley</th>\n",
              "      <th>Lot.Shape</th>\n",
              "      <th>Land.Contour</th>\n",
              "      <th>Utilities</th>\n",
              "      <th>...</th>\n",
              "      <th>Pool.Area</th>\n",
              "      <th>Pool.QC</th>\n",
              "      <th>Fence</th>\n",
              "      <th>Misc.Feature</th>\n",
              "      <th>Misc.Val</th>\n",
              "      <th>Mo.Sold</th>\n",
              "      <th>Yr.Sold</th>\n",
              "      <th>Sale.Type</th>\n",
              "      <th>Sale.Condition</th>\n",
              "      <th>SalePrice</th>\n",
              "    </tr>\n",
              "    <tr>\n",
              "      <th>Order</th>\n",
              "      <th></th>\n",
              "      <th></th>\n",
              "      <th></th>\n",
              "      <th></th>\n",
              "      <th></th>\n",
              "      <th></th>\n",
              "      <th></th>\n",
              "      <th></th>\n",
              "      <th></th>\n",
              "      <th></th>\n",
              "      <th></th>\n",
              "      <th></th>\n",
              "      <th></th>\n",
              "      <th></th>\n",
              "      <th></th>\n",
              "      <th></th>\n",
              "      <th></th>\n",
              "      <th></th>\n",
              "      <th></th>\n",
              "      <th></th>\n",
              "      <th></th>\n",
              "    </tr>\n",
              "  </thead>\n",
              "  <tbody>\n",
              "    <tr>\n",
              "      <th>596</th>\n",
              "      <td>534226120</td>\n",
              "      <td>20</td>\n",
              "      <td>RL</td>\n",
              "      <td>70.0</td>\n",
              "      <td>9100</td>\n",
              "      <td>Pave</td>\n",
              "      <td>NaN</td>\n",
              "      <td>Reg</td>\n",
              "      <td>Lvl</td>\n",
              "      <td>AllPub</td>\n",
              "      <td>...</td>\n",
              "      <td>0</td>\n",
              "      <td>NaN</td>\n",
              "      <td>GdWo</td>\n",
              "      <td>NaN</td>\n",
              "      <td>0</td>\n",
              "      <td>7</td>\n",
              "      <td>2009</td>\n",
              "      <td>WD</td>\n",
              "      <td>Normal</td>\n",
              "      <td>117500</td>\n",
              "    </tr>\n",
              "    <tr>\n",
              "      <th>1509</th>\n",
              "      <td>908275130</td>\n",
              "      <td>50</td>\n",
              "      <td>RL</td>\n",
              "      <td>70.0</td>\n",
              "      <td>11767</td>\n",
              "      <td>Pave</td>\n",
              "      <td>NaN</td>\n",
              "      <td>Reg</td>\n",
              "      <td>Lvl</td>\n",
              "      <td>AllPub</td>\n",
              "      <td>...</td>\n",
              "      <td>0</td>\n",
              "      <td>NaN</td>\n",
              "      <td>NaN</td>\n",
              "      <td>NaN</td>\n",
              "      <td>0</td>\n",
              "      <td>5</td>\n",
              "      <td>2008</td>\n",
              "      <td>WD</td>\n",
              "      <td>Normal</td>\n",
              "      <td>130500</td>\n",
              "    </tr>\n",
              "    <tr>\n",
              "      <th>2889</th>\n",
              "      <td>914476050</td>\n",
              "      <td>90</td>\n",
              "      <td>RL</td>\n",
              "      <td>78.0</td>\n",
              "      <td>10530</td>\n",
              "      <td>Pave</td>\n",
              "      <td>NaN</td>\n",
              "      <td>Reg</td>\n",
              "      <td>Lvl</td>\n",
              "      <td>AllPub</td>\n",
              "      <td>...</td>\n",
              "      <td>0</td>\n",
              "      <td>NaN</td>\n",
              "      <td>NaN</td>\n",
              "      <td>NaN</td>\n",
              "      <td>0</td>\n",
              "      <td>5</td>\n",
              "      <td>2006</td>\n",
              "      <td>WD</td>\n",
              "      <td>Normal</td>\n",
              "      <td>135000</td>\n",
              "    </tr>\n",
              "    <tr>\n",
              "      <th>223</th>\n",
              "      <td>905105200</td>\n",
              "      <td>20</td>\n",
              "      <td>RL</td>\n",
              "      <td>65.0</td>\n",
              "      <td>7800</td>\n",
              "      <td>Pave</td>\n",
              "      <td>NaN</td>\n",
              "      <td>Reg</td>\n",
              "      <td>Lvl</td>\n",
              "      <td>AllPub</td>\n",
              "      <td>...</td>\n",
              "      <td>0</td>\n",
              "      <td>NaN</td>\n",
              "      <td>NaN</td>\n",
              "      <td>NaN</td>\n",
              "      <td>0</td>\n",
              "      <td>6</td>\n",
              "      <td>2010</td>\n",
              "      <td>WD</td>\n",
              "      <td>Normal</td>\n",
              "      <td>137900</td>\n",
              "    </tr>\n",
              "    <tr>\n",
              "      <th>910</th>\n",
              "      <td>909179020</td>\n",
              "      <td>75</td>\n",
              "      <td>RL</td>\n",
              "      <td>102.0</td>\n",
              "      <td>15863</td>\n",
              "      <td>Pave</td>\n",
              "      <td>NaN</td>\n",
              "      <td>Reg</td>\n",
              "      <td>Lvl</td>\n",
              "      <td>AllPub</td>\n",
              "      <td>...</td>\n",
              "      <td>0</td>\n",
              "      <td>NaN</td>\n",
              "      <td>NaN</td>\n",
              "      <td>NaN</td>\n",
              "      <td>0</td>\n",
              "      <td>8</td>\n",
              "      <td>2009</td>\n",
              "      <td>WD</td>\n",
              "      <td>Normal</td>\n",
              "      <td>197000</td>\n",
              "    </tr>\n",
              "  </tbody>\n",
              "</table>\n",
              "<p>5 rows × 81 columns</p>\n",
              "</div>\n",
              "    <div class=\"colab-df-buttons\">\n",
              "\n",
              "  <div class=\"colab-df-container\">\n",
              "    <button class=\"colab-df-convert\" onclick=\"convertToInteractive('df-53468cb7-e759-43c8-a626-f215052c7a7f')\"\n",
              "            title=\"Convert this dataframe to an interactive table.\"\n",
              "            style=\"display:none;\">\n",
              "\n",
              "  <svg xmlns=\"http://www.w3.org/2000/svg\" height=\"24px\" viewBox=\"0 -960 960 960\">\n",
              "    <path d=\"M120-120v-720h720v720H120Zm60-500h600v-160H180v160Zm220 220h160v-160H400v160Zm0 220h160v-160H400v160ZM180-400h160v-160H180v160Zm440 0h160v-160H620v160ZM180-180h160v-160H180v160Zm440 0h160v-160H620v160Z\"/>\n",
              "  </svg>\n",
              "    </button>\n",
              "\n",
              "  <style>\n",
              "    .colab-df-container {\n",
              "      display:flex;\n",
              "      gap: 12px;\n",
              "    }\n",
              "\n",
              "    .colab-df-convert {\n",
              "      background-color: #E8F0FE;\n",
              "      border: none;\n",
              "      border-radius: 50%;\n",
              "      cursor: pointer;\n",
              "      display: none;\n",
              "      fill: #1967D2;\n",
              "      height: 32px;\n",
              "      padding: 0 0 0 0;\n",
              "      width: 32px;\n",
              "    }\n",
              "\n",
              "    .colab-df-convert:hover {\n",
              "      background-color: #E2EBFA;\n",
              "      box-shadow: 0px 1px 2px rgba(60, 64, 67, 0.3), 0px 1px 3px 1px rgba(60, 64, 67, 0.15);\n",
              "      fill: #174EA6;\n",
              "    }\n",
              "\n",
              "    .colab-df-buttons div {\n",
              "      margin-bottom: 4px;\n",
              "    }\n",
              "\n",
              "    [theme=dark] .colab-df-convert {\n",
              "      background-color: #3B4455;\n",
              "      fill: #D2E3FC;\n",
              "    }\n",
              "\n",
              "    [theme=dark] .colab-df-convert:hover {\n",
              "      background-color: #434B5C;\n",
              "      box-shadow: 0px 1px 3px 1px rgba(0, 0, 0, 0.15);\n",
              "      filter: drop-shadow(0px 1px 2px rgba(0, 0, 0, 0.3));\n",
              "      fill: #FFFFFF;\n",
              "    }\n",
              "  </style>\n",
              "\n",
              "    <script>\n",
              "      const buttonEl =\n",
              "        document.querySelector('#df-53468cb7-e759-43c8-a626-f215052c7a7f button.colab-df-convert');\n",
              "      buttonEl.style.display =\n",
              "        google.colab.kernel.accessAllowed ? 'block' : 'none';\n",
              "\n",
              "      async function convertToInteractive(key) {\n",
              "        const element = document.querySelector('#df-53468cb7-e759-43c8-a626-f215052c7a7f');\n",
              "        const dataTable =\n",
              "          await google.colab.kernel.invokeFunction('convertToInteractive',\n",
              "                                                    [key], {});\n",
              "        if (!dataTable) return;\n",
              "\n",
              "        const docLinkHtml = 'Like what you see? Visit the ' +\n",
              "          '<a target=\"_blank\" href=https://colab.research.google.com/notebooks/data_table.ipynb>data table notebook</a>'\n",
              "          + ' to learn more about interactive tables.';\n",
              "        element.innerHTML = '';\n",
              "        dataTable['output_type'] = 'display_data';\n",
              "        await google.colab.output.renderOutput(dataTable, element);\n",
              "        const docLink = document.createElement('div');\n",
              "        docLink.innerHTML = docLinkHtml;\n",
              "        element.appendChild(docLink);\n",
              "      }\n",
              "    </script>\n",
              "  </div>\n",
              "\n",
              "\n",
              "<div id=\"df-f706525f-4f81-4ead-9f8e-15d8e99af39a\">\n",
              "  <button class=\"colab-df-quickchart\" onclick=\"quickchart('df-f706525f-4f81-4ead-9f8e-15d8e99af39a')\"\n",
              "            title=\"Suggest charts\"\n",
              "            style=\"display:none;\">\n",
              "\n",
              "<svg xmlns=\"http://www.w3.org/2000/svg\" height=\"24px\"viewBox=\"0 0 24 24\"\n",
              "     width=\"24px\">\n",
              "    <g>\n",
              "        <path d=\"M19 3H5c-1.1 0-2 .9-2 2v14c0 1.1.9 2 2 2h14c1.1 0 2-.9 2-2V5c0-1.1-.9-2-2-2zM9 17H7v-7h2v7zm4 0h-2V7h2v10zm4 0h-2v-4h2v4z\"/>\n",
              "    </g>\n",
              "</svg>\n",
              "  </button>\n",
              "\n",
              "<style>\n",
              "  .colab-df-quickchart {\n",
              "      --bg-color: #E8F0FE;\n",
              "      --fill-color: #1967D2;\n",
              "      --hover-bg-color: #E2EBFA;\n",
              "      --hover-fill-color: #174EA6;\n",
              "      --disabled-fill-color: #AAA;\n",
              "      --disabled-bg-color: #DDD;\n",
              "  }\n",
              "\n",
              "  [theme=dark] .colab-df-quickchart {\n",
              "      --bg-color: #3B4455;\n",
              "      --fill-color: #D2E3FC;\n",
              "      --hover-bg-color: #434B5C;\n",
              "      --hover-fill-color: #FFFFFF;\n",
              "      --disabled-bg-color: #3B4455;\n",
              "      --disabled-fill-color: #666;\n",
              "  }\n",
              "\n",
              "  .colab-df-quickchart {\n",
              "    background-color: var(--bg-color);\n",
              "    border: none;\n",
              "    border-radius: 50%;\n",
              "    cursor: pointer;\n",
              "    display: none;\n",
              "    fill: var(--fill-color);\n",
              "    height: 32px;\n",
              "    padding: 0;\n",
              "    width: 32px;\n",
              "  }\n",
              "\n",
              "  .colab-df-quickchart:hover {\n",
              "    background-color: var(--hover-bg-color);\n",
              "    box-shadow: 0 1px 2px rgba(60, 64, 67, 0.3), 0 1px 3px 1px rgba(60, 64, 67, 0.15);\n",
              "    fill: var(--button-hover-fill-color);\n",
              "  }\n",
              "\n",
              "  .colab-df-quickchart-complete:disabled,\n",
              "  .colab-df-quickchart-complete:disabled:hover {\n",
              "    background-color: var(--disabled-bg-color);\n",
              "    fill: var(--disabled-fill-color);\n",
              "    box-shadow: none;\n",
              "  }\n",
              "\n",
              "  .colab-df-spinner {\n",
              "    border: 2px solid var(--fill-color);\n",
              "    border-color: transparent;\n",
              "    border-bottom-color: var(--fill-color);\n",
              "    animation:\n",
              "      spin 1s steps(1) infinite;\n",
              "  }\n",
              "\n",
              "  @keyframes spin {\n",
              "    0% {\n",
              "      border-color: transparent;\n",
              "      border-bottom-color: var(--fill-color);\n",
              "      border-left-color: var(--fill-color);\n",
              "    }\n",
              "    20% {\n",
              "      border-color: transparent;\n",
              "      border-left-color: var(--fill-color);\n",
              "      border-top-color: var(--fill-color);\n",
              "    }\n",
              "    30% {\n",
              "      border-color: transparent;\n",
              "      border-left-color: var(--fill-color);\n",
              "      border-top-color: var(--fill-color);\n",
              "      border-right-color: var(--fill-color);\n",
              "    }\n",
              "    40% {\n",
              "      border-color: transparent;\n",
              "      border-right-color: var(--fill-color);\n",
              "      border-top-color: var(--fill-color);\n",
              "    }\n",
              "    60% {\n",
              "      border-color: transparent;\n",
              "      border-right-color: var(--fill-color);\n",
              "    }\n",
              "    80% {\n",
              "      border-color: transparent;\n",
              "      border-right-color: var(--fill-color);\n",
              "      border-bottom-color: var(--fill-color);\n",
              "    }\n",
              "    90% {\n",
              "      border-color: transparent;\n",
              "      border-bottom-color: var(--fill-color);\n",
              "    }\n",
              "  }\n",
              "</style>\n",
              "\n",
              "  <script>\n",
              "    async function quickchart(key) {\n",
              "      const quickchartButtonEl =\n",
              "        document.querySelector('#' + key + ' button');\n",
              "      quickchartButtonEl.disabled = true;  // To prevent multiple clicks.\n",
              "      quickchartButtonEl.classList.add('colab-df-spinner');\n",
              "      try {\n",
              "        const charts = await google.colab.kernel.invokeFunction(\n",
              "            'suggestCharts', [key], {});\n",
              "      } catch (error) {\n",
              "        console.error('Error during call to suggestCharts:', error);\n",
              "      }\n",
              "      quickchartButtonEl.classList.remove('colab-df-spinner');\n",
              "      quickchartButtonEl.classList.add('colab-df-quickchart-complete');\n",
              "    }\n",
              "    (() => {\n",
              "      let quickchartButtonEl =\n",
              "        document.querySelector('#df-f706525f-4f81-4ead-9f8e-15d8e99af39a button');\n",
              "      quickchartButtonEl.style.display =\n",
              "        google.colab.kernel.accessAllowed ? 'block' : 'none';\n",
              "    })();\n",
              "  </script>\n",
              "</div>\n",
              "    </div>\n",
              "  </div>\n"
            ],
            "application/vnd.google.colaboratory.intrinsic+json": {
              "type": "dataframe",
              "variable_name": "ames_sample_df"
            }
          },
          "metadata": {},
          "execution_count": 13
        }
      ],
      "source": [
        "n = 60\n",
        "ames_sample_df = ames_df.sample(n, random_state=9)\n",
        "ames_sample_df.head()"
      ]
    },
    {
      "cell_type": "markdown",
      "metadata": {
        "id": "FPnSlXqG_z-e"
      },
      "source": [
        "Let's focus on the `Lot.Area` variable again."
      ]
    },
    {
      "cell_type": "markdown",
      "metadata": {
        "id": "_MHyilmR_z-e"
      },
      "source": [
        "Compute and display the summary statistics - mean, median, and standard deviation for this variable."
      ]
    },
    {
      "cell_type": "code",
      "execution_count": 14,
      "metadata": {
        "id": "irSk6IZD_z-e",
        "colab": {
          "base_uri": "https://localhost:8080/"
        },
        "outputId": "03722f60-18e9-4448-8f2b-86e903204870"
      },
      "outputs": [
        {
          "output_type": "stream",
          "name": "stdout",
          "text": [
            "Sample Mean: 9137.33\n",
            "Sample Median: 8648.50\n",
            "Sample Standard Deviation: 6308.26\n"
          ]
        }
      ],
      "source": [
        "# Write your code here\n",
        "agg = ames_sample_df.agg({'Lot.Area': ['mean', 'median', 'std']})\n",
        "\n",
        "sample_mean = agg.loc['mean'][0]\n",
        "sample_median = agg.loc['median'][0]\n",
        "sample_std = agg.loc['std'][0]\n",
        "\n",
        "print('Sample Mean: {:.2f}'.format(sample_mean))\n",
        "print('Sample Median: {:.2f}'.format(sample_median))\n",
        "print('Sample Standard Deviation: {:.2f}'.format(sample_std))"
      ]
    },
    {
      "cell_type": "markdown",
      "metadata": {
        "id": "BG0DRAp0_z-f"
      },
      "source": [
        "**Question #6:** What is the mean of your new sample? Limit to 2 decimal places.\n",
        "\n",
        "Answer:9137.33"
      ]
    },
    {
      "cell_type": "markdown",
      "metadata": {
        "id": "albr0ilZ_z-f"
      },
      "source": [
        "Now, let's increase the confidence level from 95% to 99% and perform a two-tailed test. Get the value of $z^*$ or the z-score that corresponds to the middle 99% of the data."
      ]
    },
    {
      "cell_type": "code",
      "execution_count": 15,
      "metadata": {
        "id": "IvJsgAYe_z-f",
        "colab": {
          "base_uri": "https://localhost:8080/"
        },
        "outputId": "87478a66-0cf6-4676-b4bd-c8c683796fa7"
      },
      "outputs": [
        {
          "output_type": "stream",
          "name": "stdout",
          "text": [
            "2.58\n"
          ]
        }
      ],
      "source": [
        "# Write your code here\n",
        "alpha = 0.01\n",
        "z_star_99_two_tailed = norm.ppf(1 - alpha / 2)\n",
        "print('{:.2f}'.format(z_star_99_two_tailed))"
      ]
    },
    {
      "cell_type": "markdown",
      "metadata": {
        "id": "V2Pm6smC_z-f"
      },
      "source": [
        "Compute and display the margin of error. Use the variables from previous cells instead of using the actual values."
      ]
    },
    {
      "cell_type": "code",
      "execution_count": 16,
      "metadata": {
        "id": "1G0fQaY5_z-g",
        "colab": {
          "base_uri": "https://localhost:8080/"
        },
        "outputId": "7b43b617-e699-4601-9d86-9c2ad8964b7d"
      },
      "outputs": [
        {
          "output_type": "stream",
          "name": "stdout",
          "text": [
            "2619.9591886399467\n"
          ]
        }
      ],
      "source": [
        "# Write your code here\n",
        "margin_of_error_99_two_tailed = z_star_99_two_tailed * (population_stdev / np.sqrt(n))\n",
        "print(margin_of_error_99_two_tailed)"
      ]
    },
    {
      "cell_type": "markdown",
      "metadata": {
        "id": "1ehYWHfQ_z-g"
      },
      "source": [
        "**Question #7:** Given a 99% confidence level, what is the margin of error? Limit to 2 decimal places.\n",
        "\n",
        "Answer: 2619.96"
      ]
    },
    {
      "cell_type": "markdown",
      "metadata": {
        "id": "3zqqnHjY_z-g"
      },
      "source": [
        "Compute and display the minimum and maximum values in the 99% confidence interval. Use the variables from previous cells instead of using the actual values."
      ]
    },
    {
      "cell_type": "code",
      "execution_count": 17,
      "metadata": {
        "id": "oiNxcTuM_z-g",
        "colab": {
          "base_uri": "https://localhost:8080/"
        },
        "outputId": "08319148-ccb4-46be-8836-6c21383328fb"
      },
      "outputs": [
        {
          "output_type": "stream",
          "name": "stdout",
          "text": [
            "Minimum Value:  6517.374144693387\n",
            "Maximum Value:  11757.29252197328\n"
          ]
        }
      ],
      "source": [
        "# Write your code here\n",
        "min_value = sample_mean - margin_of_error_99_two_tailed\n",
        "max_value = sample_mean + margin_of_error_99_two_tailed\n",
        "\n",
        "print(\"Minimum Value: \", min_value)\n",
        "print(\"Maximum Value: \", max_value)"
      ]
    },
    {
      "cell_type": "markdown",
      "metadata": {
        "id": "rKTMu-Fn_z-h"
      },
      "source": [
        "**Question #8:** Specify the confidence interval (minimum value, maximum value). Limit to 2 decimal places.\n",
        "\n",
        "Answer: Confidence interval of Min value is 6517.37 and confidence interval of Max value is 11757.29"
      ]
    },
    {
      "cell_type": "markdown",
      "metadata": {
        "id": "DmXeY9HS_z-h"
      },
      "source": [
        "**Note:** The true population mean should be within your computed confidence interval range.\n",
        "\n",
        "From here, we have seen that even though we do not have access to the population, we can use a sample to estimate the the true population mean with the use of confidence intervals."
      ]
    },
    {
      "cell_type": "markdown",
      "metadata": {
        "id": "PV9Aovli_z-h"
      },
      "source": [
        "## Birth Records Data"
      ]
    },
    {
      "cell_type": "markdown",
      "metadata": {
        "id": "EYLo-rbB_z-i"
      },
      "source": [
        "In 2004, the state of North Carolina released a large data set containing information on births recorded in this state. This data set is useful to researchers studying the relation between habits and practices of expectant mothers and the birth of their children. We will work with a random sample of observations from this data set.\n",
        "\n",
        "Load the `nc` data set into our workspace."
      ]
    },
    {
      "cell_type": "code",
      "execution_count": 19,
      "metadata": {
        "scrolled": true,
        "id": "Q-6LBuTR_z-i",
        "colab": {
          "base_uri": "https://localhost:8080/",
          "height": 206
        },
        "outputId": "a6db9eec-14f9-4184-ec06-d2d8808821cf"
      },
      "outputs": [
        {
          "output_type": "execute_result",
          "data": {
            "text/plain": [
              "   fage  mage       mature  weeks     premie  visits  marital  gained  weight  \\\n",
              "0   NaN    13  younger mom   39.0  full term    10.0  married    38.0    7.63   \n",
              "1   NaN    14  younger mom   42.0  full term    15.0  married    20.0    7.88   \n",
              "2  19.0    15  younger mom   37.0  full term    11.0  married    38.0    6.63   \n",
              "3  21.0    15  younger mom   41.0  full term     6.0  married    34.0    8.00   \n",
              "4   NaN    15  younger mom   39.0  full term     9.0  married    27.0    6.38   \n",
              "\n",
              "  lowbirthweight  gender      habit   whitemom  \n",
              "0        not low    male  nonsmoker  not white  \n",
              "1        not low    male  nonsmoker  not white  \n",
              "2        not low  female  nonsmoker      white  \n",
              "3        not low    male  nonsmoker      white  \n",
              "4        not low  female  nonsmoker  not white  "
            ],
            "text/html": [
              "\n",
              "  <div id=\"df-f4d88242-ae89-413c-a999-18175e5e4976\" class=\"colab-df-container\">\n",
              "    <div>\n",
              "<style scoped>\n",
              "    .dataframe tbody tr th:only-of-type {\n",
              "        vertical-align: middle;\n",
              "    }\n",
              "\n",
              "    .dataframe tbody tr th {\n",
              "        vertical-align: top;\n",
              "    }\n",
              "\n",
              "    .dataframe thead th {\n",
              "        text-align: right;\n",
              "    }\n",
              "</style>\n",
              "<table border=\"1\" class=\"dataframe\">\n",
              "  <thead>\n",
              "    <tr style=\"text-align: right;\">\n",
              "      <th></th>\n",
              "      <th>fage</th>\n",
              "      <th>mage</th>\n",
              "      <th>mature</th>\n",
              "      <th>weeks</th>\n",
              "      <th>premie</th>\n",
              "      <th>visits</th>\n",
              "      <th>marital</th>\n",
              "      <th>gained</th>\n",
              "      <th>weight</th>\n",
              "      <th>lowbirthweight</th>\n",
              "      <th>gender</th>\n",
              "      <th>habit</th>\n",
              "      <th>whitemom</th>\n",
              "    </tr>\n",
              "  </thead>\n",
              "  <tbody>\n",
              "    <tr>\n",
              "      <th>0</th>\n",
              "      <td>NaN</td>\n",
              "      <td>13</td>\n",
              "      <td>younger mom</td>\n",
              "      <td>39.0</td>\n",
              "      <td>full term</td>\n",
              "      <td>10.0</td>\n",
              "      <td>married</td>\n",
              "      <td>38.0</td>\n",
              "      <td>7.63</td>\n",
              "      <td>not low</td>\n",
              "      <td>male</td>\n",
              "      <td>nonsmoker</td>\n",
              "      <td>not white</td>\n",
              "    </tr>\n",
              "    <tr>\n",
              "      <th>1</th>\n",
              "      <td>NaN</td>\n",
              "      <td>14</td>\n",
              "      <td>younger mom</td>\n",
              "      <td>42.0</td>\n",
              "      <td>full term</td>\n",
              "      <td>15.0</td>\n",
              "      <td>married</td>\n",
              "      <td>20.0</td>\n",
              "      <td>7.88</td>\n",
              "      <td>not low</td>\n",
              "      <td>male</td>\n",
              "      <td>nonsmoker</td>\n",
              "      <td>not white</td>\n",
              "    </tr>\n",
              "    <tr>\n",
              "      <th>2</th>\n",
              "      <td>19.0</td>\n",
              "      <td>15</td>\n",
              "      <td>younger mom</td>\n",
              "      <td>37.0</td>\n",
              "      <td>full term</td>\n",
              "      <td>11.0</td>\n",
              "      <td>married</td>\n",
              "      <td>38.0</td>\n",
              "      <td>6.63</td>\n",
              "      <td>not low</td>\n",
              "      <td>female</td>\n",
              "      <td>nonsmoker</td>\n",
              "      <td>white</td>\n",
              "    </tr>\n",
              "    <tr>\n",
              "      <th>3</th>\n",
              "      <td>21.0</td>\n",
              "      <td>15</td>\n",
              "      <td>younger mom</td>\n",
              "      <td>41.0</td>\n",
              "      <td>full term</td>\n",
              "      <td>6.0</td>\n",
              "      <td>married</td>\n",
              "      <td>34.0</td>\n",
              "      <td>8.00</td>\n",
              "      <td>not low</td>\n",
              "      <td>male</td>\n",
              "      <td>nonsmoker</td>\n",
              "      <td>white</td>\n",
              "    </tr>\n",
              "    <tr>\n",
              "      <th>4</th>\n",
              "      <td>NaN</td>\n",
              "      <td>15</td>\n",
              "      <td>younger mom</td>\n",
              "      <td>39.0</td>\n",
              "      <td>full term</td>\n",
              "      <td>9.0</td>\n",
              "      <td>married</td>\n",
              "      <td>27.0</td>\n",
              "      <td>6.38</td>\n",
              "      <td>not low</td>\n",
              "      <td>female</td>\n",
              "      <td>nonsmoker</td>\n",
              "      <td>not white</td>\n",
              "    </tr>\n",
              "  </tbody>\n",
              "</table>\n",
              "</div>\n",
              "    <div class=\"colab-df-buttons\">\n",
              "\n",
              "  <div class=\"colab-df-container\">\n",
              "    <button class=\"colab-df-convert\" onclick=\"convertToInteractive('df-f4d88242-ae89-413c-a999-18175e5e4976')\"\n",
              "            title=\"Convert this dataframe to an interactive table.\"\n",
              "            style=\"display:none;\">\n",
              "\n",
              "  <svg xmlns=\"http://www.w3.org/2000/svg\" height=\"24px\" viewBox=\"0 -960 960 960\">\n",
              "    <path d=\"M120-120v-720h720v720H120Zm60-500h600v-160H180v160Zm220 220h160v-160H400v160Zm0 220h160v-160H400v160ZM180-400h160v-160H180v160Zm440 0h160v-160H620v160ZM180-180h160v-160H180v160Zm440 0h160v-160H620v160Z\"/>\n",
              "  </svg>\n",
              "    </button>\n",
              "\n",
              "  <style>\n",
              "    .colab-df-container {\n",
              "      display:flex;\n",
              "      gap: 12px;\n",
              "    }\n",
              "\n",
              "    .colab-df-convert {\n",
              "      background-color: #E8F0FE;\n",
              "      border: none;\n",
              "      border-radius: 50%;\n",
              "      cursor: pointer;\n",
              "      display: none;\n",
              "      fill: #1967D2;\n",
              "      height: 32px;\n",
              "      padding: 0 0 0 0;\n",
              "      width: 32px;\n",
              "    }\n",
              "\n",
              "    .colab-df-convert:hover {\n",
              "      background-color: #E2EBFA;\n",
              "      box-shadow: 0px 1px 2px rgba(60, 64, 67, 0.3), 0px 1px 3px 1px rgba(60, 64, 67, 0.15);\n",
              "      fill: #174EA6;\n",
              "    }\n",
              "\n",
              "    .colab-df-buttons div {\n",
              "      margin-bottom: 4px;\n",
              "    }\n",
              "\n",
              "    [theme=dark] .colab-df-convert {\n",
              "      background-color: #3B4455;\n",
              "      fill: #D2E3FC;\n",
              "    }\n",
              "\n",
              "    [theme=dark] .colab-df-convert:hover {\n",
              "      background-color: #434B5C;\n",
              "      box-shadow: 0px 1px 3px 1px rgba(0, 0, 0, 0.15);\n",
              "      filter: drop-shadow(0px 1px 2px rgba(0, 0, 0, 0.3));\n",
              "      fill: #FFFFFF;\n",
              "    }\n",
              "  </style>\n",
              "\n",
              "    <script>\n",
              "      const buttonEl =\n",
              "        document.querySelector('#df-f4d88242-ae89-413c-a999-18175e5e4976 button.colab-df-convert');\n",
              "      buttonEl.style.display =\n",
              "        google.colab.kernel.accessAllowed ? 'block' : 'none';\n",
              "\n",
              "      async function convertToInteractive(key) {\n",
              "        const element = document.querySelector('#df-f4d88242-ae89-413c-a999-18175e5e4976');\n",
              "        const dataTable =\n",
              "          await google.colab.kernel.invokeFunction('convertToInteractive',\n",
              "                                                    [key], {});\n",
              "        if (!dataTable) return;\n",
              "\n",
              "        const docLinkHtml = 'Like what you see? Visit the ' +\n",
              "          '<a target=\"_blank\" href=https://colab.research.google.com/notebooks/data_table.ipynb>data table notebook</a>'\n",
              "          + ' to learn more about interactive tables.';\n",
              "        element.innerHTML = '';\n",
              "        dataTable['output_type'] = 'display_data';\n",
              "        await google.colab.output.renderOutput(dataTable, element);\n",
              "        const docLink = document.createElement('div');\n",
              "        docLink.innerHTML = docLinkHtml;\n",
              "        element.appendChild(docLink);\n",
              "      }\n",
              "    </script>\n",
              "  </div>\n",
              "\n",
              "\n",
              "<div id=\"df-51a7f477-1358-4ce5-8420-06a03c1fb6b0\">\n",
              "  <button class=\"colab-df-quickchart\" onclick=\"quickchart('df-51a7f477-1358-4ce5-8420-06a03c1fb6b0')\"\n",
              "            title=\"Suggest charts\"\n",
              "            style=\"display:none;\">\n",
              "\n",
              "<svg xmlns=\"http://www.w3.org/2000/svg\" height=\"24px\"viewBox=\"0 0 24 24\"\n",
              "     width=\"24px\">\n",
              "    <g>\n",
              "        <path d=\"M19 3H5c-1.1 0-2 .9-2 2v14c0 1.1.9 2 2 2h14c1.1 0 2-.9 2-2V5c0-1.1-.9-2-2-2zM9 17H7v-7h2v7zm4 0h-2V7h2v10zm4 0h-2v-4h2v4z\"/>\n",
              "    </g>\n",
              "</svg>\n",
              "  </button>\n",
              "\n",
              "<style>\n",
              "  .colab-df-quickchart {\n",
              "      --bg-color: #E8F0FE;\n",
              "      --fill-color: #1967D2;\n",
              "      --hover-bg-color: #E2EBFA;\n",
              "      --hover-fill-color: #174EA6;\n",
              "      --disabled-fill-color: #AAA;\n",
              "      --disabled-bg-color: #DDD;\n",
              "  }\n",
              "\n",
              "  [theme=dark] .colab-df-quickchart {\n",
              "      --bg-color: #3B4455;\n",
              "      --fill-color: #D2E3FC;\n",
              "      --hover-bg-color: #434B5C;\n",
              "      --hover-fill-color: #FFFFFF;\n",
              "      --disabled-bg-color: #3B4455;\n",
              "      --disabled-fill-color: #666;\n",
              "  }\n",
              "\n",
              "  .colab-df-quickchart {\n",
              "    background-color: var(--bg-color);\n",
              "    border: none;\n",
              "    border-radius: 50%;\n",
              "    cursor: pointer;\n",
              "    display: none;\n",
              "    fill: var(--fill-color);\n",
              "    height: 32px;\n",
              "    padding: 0;\n",
              "    width: 32px;\n",
              "  }\n",
              "\n",
              "  .colab-df-quickchart:hover {\n",
              "    background-color: var(--hover-bg-color);\n",
              "    box-shadow: 0 1px 2px rgba(60, 64, 67, 0.3), 0 1px 3px 1px rgba(60, 64, 67, 0.15);\n",
              "    fill: var(--button-hover-fill-color);\n",
              "  }\n",
              "\n",
              "  .colab-df-quickchart-complete:disabled,\n",
              "  .colab-df-quickchart-complete:disabled:hover {\n",
              "    background-color: var(--disabled-bg-color);\n",
              "    fill: var(--disabled-fill-color);\n",
              "    box-shadow: none;\n",
              "  }\n",
              "\n",
              "  .colab-df-spinner {\n",
              "    border: 2px solid var(--fill-color);\n",
              "    border-color: transparent;\n",
              "    border-bottom-color: var(--fill-color);\n",
              "    animation:\n",
              "      spin 1s steps(1) infinite;\n",
              "  }\n",
              "\n",
              "  @keyframes spin {\n",
              "    0% {\n",
              "      border-color: transparent;\n",
              "      border-bottom-color: var(--fill-color);\n",
              "      border-left-color: var(--fill-color);\n",
              "    }\n",
              "    20% {\n",
              "      border-color: transparent;\n",
              "      border-left-color: var(--fill-color);\n",
              "      border-top-color: var(--fill-color);\n",
              "    }\n",
              "    30% {\n",
              "      border-color: transparent;\n",
              "      border-left-color: var(--fill-color);\n",
              "      border-top-color: var(--fill-color);\n",
              "      border-right-color: var(--fill-color);\n",
              "    }\n",
              "    40% {\n",
              "      border-color: transparent;\n",
              "      border-right-color: var(--fill-color);\n",
              "      border-top-color: var(--fill-color);\n",
              "    }\n",
              "    60% {\n",
              "      border-color: transparent;\n",
              "      border-right-color: var(--fill-color);\n",
              "    }\n",
              "    80% {\n",
              "      border-color: transparent;\n",
              "      border-right-color: var(--fill-color);\n",
              "      border-bottom-color: var(--fill-color);\n",
              "    }\n",
              "    90% {\n",
              "      border-color: transparent;\n",
              "      border-bottom-color: var(--fill-color);\n",
              "    }\n",
              "  }\n",
              "</style>\n",
              "\n",
              "  <script>\n",
              "    async function quickchart(key) {\n",
              "      const quickchartButtonEl =\n",
              "        document.querySelector('#' + key + ' button');\n",
              "      quickchartButtonEl.disabled = true;  // To prevent multiple clicks.\n",
              "      quickchartButtonEl.classList.add('colab-df-spinner');\n",
              "      try {\n",
              "        const charts = await google.colab.kernel.invokeFunction(\n",
              "            'suggestCharts', [key], {});\n",
              "      } catch (error) {\n",
              "        console.error('Error during call to suggestCharts:', error);\n",
              "      }\n",
              "      quickchartButtonEl.classList.remove('colab-df-spinner');\n",
              "      quickchartButtonEl.classList.add('colab-df-quickchart-complete');\n",
              "    }\n",
              "    (() => {\n",
              "      let quickchartButtonEl =\n",
              "        document.querySelector('#df-51a7f477-1358-4ce5-8420-06a03c1fb6b0 button');\n",
              "      quickchartButtonEl.style.display =\n",
              "        google.colab.kernel.accessAllowed ? 'block' : 'none';\n",
              "    })();\n",
              "  </script>\n",
              "</div>\n",
              "    </div>\n",
              "  </div>\n"
            ],
            "application/vnd.google.colaboratory.intrinsic+json": {
              "type": "dataframe",
              "variable_name": "nc_df",
              "summary": "{\n  \"name\": \"nc_df\",\n  \"rows\": 1000,\n  \"fields\": [\n    {\n      \"column\": \"fage\",\n      \"properties\": {\n        \"dtype\": \"number\",\n        \"std\": 6.763766180986421,\n        \"min\": 14.0,\n        \"max\": 55.0,\n        \"num_unique_values\": 37,\n        \"samples\": [\n          29.0,\n          24.0,\n          20.0\n        ],\n        \"semantic_type\": \"\",\n        \"description\": \"\"\n      }\n    },\n    {\n      \"column\": \"mage\",\n      \"properties\": {\n        \"dtype\": \"number\",\n        \"std\": 6,\n        \"min\": 13,\n        \"max\": 50,\n        \"num_unique_values\": 33,\n        \"samples\": [\n          46,\n          28,\n          39\n        ],\n        \"semantic_type\": \"\",\n        \"description\": \"\"\n      }\n    },\n    {\n      \"column\": \"mature\",\n      \"properties\": {\n        \"dtype\": \"category\",\n        \"num_unique_values\": 2,\n        \"samples\": [\n          \"mature mom\",\n          \"younger mom\"\n        ],\n        \"semantic_type\": \"\",\n        \"description\": \"\"\n      }\n    },\n    {\n      \"column\": \"weeks\",\n      \"properties\": {\n        \"dtype\": \"number\",\n        \"std\": 2.9315529072876108,\n        \"min\": 20.0,\n        \"max\": 45.0,\n        \"num_unique_values\": 23,\n        \"samples\": [\n          30.0,\n          36.0\n        ],\n        \"semantic_type\": \"\",\n        \"description\": \"\"\n      }\n    },\n    {\n      \"column\": \"premie\",\n      \"properties\": {\n        \"dtype\": \"category\",\n        \"num_unique_values\": 2,\n        \"samples\": [\n          \"premie\",\n          \"full term\"\n        ],\n        \"semantic_type\": \"\",\n        \"description\": \"\"\n      }\n    },\n    {\n      \"column\": \"visits\",\n      \"properties\": {\n        \"dtype\": \"number\",\n        \"std\": 3.9549337263404274,\n        \"min\": 0.0,\n        \"max\": 30.0,\n        \"num_unique_values\": 26,\n        \"samples\": [\n          13.0,\n          0.0\n        ],\n        \"semantic_type\": \"\",\n        \"description\": \"\"\n      }\n    },\n    {\n      \"column\": \"marital\",\n      \"properties\": {\n        \"dtype\": \"category\",\n        \"num_unique_values\": 2,\n        \"samples\": [\n          \"not married\",\n          \"married\"\n        ],\n        \"semantic_type\": \"\",\n        \"description\": \"\"\n      }\n    },\n    {\n      \"column\": \"gained\",\n      \"properties\": {\n        \"dtype\": \"number\",\n        \"std\": 14.241296616843488,\n        \"min\": 0.0,\n        \"max\": 85.0,\n        \"num_unique_values\": 71,\n        \"samples\": [\n          1.0,\n          38.0\n        ],\n        \"semantic_type\": \"\",\n        \"description\": \"\"\n      }\n    },\n    {\n      \"column\": \"weight\",\n      \"properties\": {\n        \"dtype\": \"number\",\n        \"std\": 1.5088602517328302,\n        \"min\": 1.0,\n        \"max\": 11.75,\n        \"num_unique_values\": 126,\n        \"samples\": [\n          5.06,\n          7.0\n        ],\n        \"semantic_type\": \"\",\n        \"description\": \"\"\n      }\n    },\n    {\n      \"column\": \"lowbirthweight\",\n      \"properties\": {\n        \"dtype\": \"category\",\n        \"num_unique_values\": 2,\n        \"samples\": [\n          \"low\",\n          \"not low\"\n        ],\n        \"semantic_type\": \"\",\n        \"description\": \"\"\n      }\n    },\n    {\n      \"column\": \"gender\",\n      \"properties\": {\n        \"dtype\": \"category\",\n        \"num_unique_values\": 2,\n        \"samples\": [\n          \"female\",\n          \"male\"\n        ],\n        \"semantic_type\": \"\",\n        \"description\": \"\"\n      }\n    },\n    {\n      \"column\": \"habit\",\n      \"properties\": {\n        \"dtype\": \"category\",\n        \"num_unique_values\": 2,\n        \"samples\": [\n          \"smoker\",\n          \"nonsmoker\"\n        ],\n        \"semantic_type\": \"\",\n        \"description\": \"\"\n      }\n    },\n    {\n      \"column\": \"whitemom\",\n      \"properties\": {\n        \"dtype\": \"category\",\n        \"num_unique_values\": 2,\n        \"samples\": [\n          \"white\",\n          \"not white\"\n        ],\n        \"semantic_type\": \"\",\n        \"description\": \"\"\n      }\n    }\n  ]\n}"
            }
          },
          "metadata": {},
          "execution_count": 19
        }
      ],
      "source": [
        "nc_df = pd.read_csv('/content/drive/MyDrive/Colab Datasets/nc.csv')\n",
        "nc_df.head()"
      ]
    },
    {
      "cell_type": "markdown",
      "metadata": {
        "id": "B7Tshh7-_z-i"
      },
      "source": [
        "We have observations on 13 different variables, some categorical and some numerical. The meaning of each variable is as follows.\n",
        "\n",
        "- **`fage`**: father’s age in years.\n",
        "- **`mage`**:\tmother’s age in years.\n",
        "- **`mature`**: maturity status of mother.\n",
        "- **`weeks`**: length of pregnancy in weeks.\n",
        "- **`premie`**: whether the birth was classified as premature (premie) or full-term.\n",
        "- **`visits`**: number of hospital visits during pregnancy.\n",
        "- **`marital`**: whether mother is married or not married at birth.\n",
        "- **`gained`**: weight gained by mother during pregnancy in pounds.\n",
        "- **`weight`**: weight of the baby at birth in pounds.\n",
        "- **`lowbirthweight`**: whether baby was classified as low birthweight (low) or not (not low).\n",
        "- **`gender`**: gender of the baby, female or male.\n",
        "- **`habit`**: status of the mother as a nonsmoker or a smoker.\n",
        "- **`whitemom`**:\twhether mom is white or not white."
      ]
    },
    {
      "cell_type": "markdown",
      "metadata": {
        "id": "ErxsoDOC_z-j"
      },
      "source": [
        "We will consider the possible relationship between a mother's smoking habit (`habit`) and the weight (`weight`) of her baby. Plotting the data is a useful first step because it helps us quickly visualize trends, identify strong associations, and develop research questions.\n",
        "\n",
        "Let's use a boxplot to compare the two groups:"
      ]
    },
    {
      "cell_type": "code",
      "execution_count": 20,
      "metadata": {
        "id": "gZGYgfYa_z-j",
        "colab": {
          "base_uri": "https://localhost:8080/",
          "height": 443
        },
        "outputId": "c91aa920-14c7-4387-d179-41d9dba8abfe"
      },
      "outputs": [
        {
          "output_type": "display_data",
          "data": {
            "text/plain": [
              "<Figure size 640x480 with 2 Axes>"
            ],
            "image/png": "[encoded data removed]"
          },
          "metadata": {}
        }
      ],
      "source": [
        "nc_df.groupby('habit').boxplot(column='weight')\n",
        "plt.show()"
      ]
    },
    {
      "cell_type": "markdown",
      "metadata": {
        "id": "4mjQ0TOX_z-j"
      },
      "source": [
        "Now let's look at the summary statistics across the two groups."
      ]
    },
    {
      "cell_type": "code",
      "execution_count": 21,
      "metadata": {
        "scrolled": true,
        "id": "5JMozwx3_z-k",
        "colab": {
          "base_uri": "https://localhost:8080/",
          "height": 175
        },
        "outputId": "1dcbadd3-38c5-4677-d594-d201e5d843c7"
      },
      "outputs": [
        {
          "output_type": "execute_result",
          "data": {
            "text/plain": [
              "             weight                      \n",
              "               mean median       std  len\n",
              "habit                                    \n",
              "nonsmoker  7.144273   7.31  1.518681  873\n",
              "smoker     6.828730   7.06  1.386180  126"
            ],
            "text/html": [
              "\n",
              "  <div id=\"df-18715e49-bb0e-45c9-adcb-79c8f764f538\" class=\"colab-df-container\">\n",
              "    <div>\n",
              "<style scoped>\n",
              "    .dataframe tbody tr th:only-of-type {\n",
              "        vertical-align: middle;\n",
              "    }\n",
              "\n",
              "    .dataframe tbody tr th {\n",
              "        vertical-align: top;\n",
              "    }\n",
              "\n",
              "    .dataframe thead tr th {\n",
              "        text-align: left;\n",
              "    }\n",
              "\n",
              "    .dataframe thead tr:last-of-type th {\n",
              "        text-align: right;\n",
              "    }\n",
              "</style>\n",
              "<table border=\"1\" class=\"dataframe\">\n",
              "  <thead>\n",
              "    <tr>\n",
              "      <th></th>\n",
              "      <th colspan=\"4\" halign=\"left\">weight</th>\n",
              "    </tr>\n",
              "    <tr>\n",
              "      <th></th>\n",
              "      <th>mean</th>\n",
              "      <th>median</th>\n",
              "      <th>std</th>\n",
              "      <th>len</th>\n",
              "    </tr>\n",
              "    <tr>\n",
              "      <th>habit</th>\n",
              "      <th></th>\n",
              "      <th></th>\n",
              "      <th></th>\n",
              "      <th></th>\n",
              "    </tr>\n",
              "  </thead>\n",
              "  <tbody>\n",
              "    <tr>\n",
              "      <th>nonsmoker</th>\n",
              "      <td>7.144273</td>\n",
              "      <td>7.31</td>\n",
              "      <td>1.518681</td>\n",
              "      <td>873</td>\n",
              "    </tr>\n",
              "    <tr>\n",
              "      <th>smoker</th>\n",
              "      <td>6.828730</td>\n",
              "      <td>7.06</td>\n",
              "      <td>1.386180</td>\n",
              "      <td>126</td>\n",
              "    </tr>\n",
              "  </tbody>\n",
              "</table>\n",
              "</div>\n",
              "    <div class=\"colab-df-buttons\">\n",
              "\n",
              "  <div class=\"colab-df-container\">\n",
              "    <button class=\"colab-df-convert\" onclick=\"convertToInteractive('df-18715e49-bb0e-45c9-adcb-79c8f764f538')\"\n",
              "            title=\"Convert this dataframe to an interactive table.\"\n",
              "            style=\"display:none;\">\n",
              "\n",
              "  <svg xmlns=\"http://www.w3.org/2000/svg\" height=\"24px\" viewBox=\"0 -960 960 960\">\n",
              "    <path d=\"M120-120v-720h720v720H120Zm60-500h600v-160H180v160Zm220 220h160v-160H400v160Zm0 220h160v-160H400v160ZM180-400h160v-160H180v160Zm440 0h160v-160H620v160ZM180-180h160v-160H180v160Zm440 0h160v-160H620v160Z\"/>\n",
              "  </svg>\n",
              "    </button>\n",
              "\n",
              "  <style>\n",
              "    .colab-df-container {\n",
              "      display:flex;\n",
              "      gap: 12px;\n",
              "    }\n",
              "\n",
              "    .colab-df-convert {\n",
              "      background-color: #E8F0FE;\n",
              "      border: none;\n",
              "      border-radius: 50%;\n",
              "      cursor: pointer;\n",
              "      display: none;\n",
              "      fill: #1967D2;\n",
              "      height: 32px;\n",
              "      padding: 0 0 0 0;\n",
              "      width: 32px;\n",
              "    }\n",
              "\n",
              "    .colab-df-convert:hover {\n",
              "      background-color: #E2EBFA;\n",
              "      box-shadow: 0px 1px 2px rgba(60, 64, 67, 0.3), 0px 1px 3px 1px rgba(60, 64, 67, 0.15);\n",
              "      fill: #174EA6;\n",
              "    }\n",
              "\n",
              "    .colab-df-buttons div {\n",
              "      margin-bottom: 4px;\n",
              "    }\n",
              "\n",
              "    [theme=dark] .colab-df-convert {\n",
              "      background-color: #3B4455;\n",
              "      fill: #D2E3FC;\n",
              "    }\n",
              "\n",
              "    [theme=dark] .colab-df-convert:hover {\n",
              "      background-color: #434B5C;\n",
              "      box-shadow: 0px 1px 3px 1px rgba(0, 0, 0, 0.15);\n",
              "      filter: drop-shadow(0px 1px 2px rgba(0, 0, 0, 0.3));\n",
              "      fill: #FFFFFF;\n",
              "    }\n",
              "  </style>\n",
              "\n",
              "    <script>\n",
              "      const buttonEl =\n",
              "        document.querySelector('#df-18715e49-bb0e-45c9-adcb-79c8f764f538 button.colab-df-convert');\n",
              "      buttonEl.style.display =\n",
              "        google.colab.kernel.accessAllowed ? 'block' : 'none';\n",
              "\n",
              "      async function convertToInteractive(key) {\n",
              "        const element = document.querySelector('#df-18715e49-bb0e-45c9-adcb-79c8f764f538');\n",
              "        const dataTable =\n",
              "          await google.colab.kernel.invokeFunction('convertToInteractive',\n",
              "                                                    [key], {});\n",
              "        if (!dataTable) return;\n",
              "\n",
              "        const docLinkHtml = 'Like what you see? Visit the ' +\n",
              "          '<a target=\"_blank\" href=https://colab.research.google.com/notebooks/data_table.ipynb>data table notebook</a>'\n",
              "          + ' to learn more about interactive tables.';\n",
              "        element.innerHTML = '';\n",
              "        dataTable['output_type'] = 'display_data';\n",
              "        await google.colab.output.renderOutput(dataTable, element);\n",
              "        const docLink = document.createElement('div');\n",
              "        docLink.innerHTML = docLinkHtml;\n",
              "        element.appendChild(docLink);\n",
              "      }\n",
              "    </script>\n",
              "  </div>\n",
              "\n",
              "\n",
              "<div id=\"df-12008fad-a85e-4dd6-990c-c0cc8610bb70\">\n",
              "  <button class=\"colab-df-quickchart\" onclick=\"quickchart('df-12008fad-a85e-4dd6-990c-c0cc8610bb70')\"\n",
              "            title=\"Suggest charts\"\n",
              "            style=\"display:none;\">\n",
              "\n",
              "<svg xmlns=\"http://www.w3.org/2000/svg\" height=\"24px\"viewBox=\"0 0 24 24\"\n",
              "     width=\"24px\">\n",
              "    <g>\n",
              "        <path d=\"M19 3H5c-1.1 0-2 .9-2 2v14c0 1.1.9 2 2 2h14c1.1 0 2-.9 2-2V5c0-1.1-.9-2-2-2zM9 17H7v-7h2v7zm4 0h-2V7h2v10zm4 0h-2v-4h2v4z\"/>\n",
              "    </g>\n",
              "</svg>\n",
              "  </button>\n",
              "\n",
              "<style>\n",
              "  .colab-df-quickchart {\n",
              "      --bg-color: #E8F0FE;\n",
              "      --fill-color: #1967D2;\n",
              "      --hover-bg-color: #E2EBFA;\n",
              "      --hover-fill-color: #174EA6;\n",
              "      --disabled-fill-color: #AAA;\n",
              "      --disabled-bg-color: #DDD;\n",
              "  }\n",
              "\n",
              "  [theme=dark] .colab-df-quickchart {\n",
              "      --bg-color: #3B4455;\n",
              "      --fill-color: #D2E3FC;\n",
              "      --hover-bg-color: #434B5C;\n",
              "      --hover-fill-color: #FFFFFF;\n",
              "      --disabled-bg-color: #3B4455;\n",
              "      --disabled-fill-color: #666;\n",
              "  }\n",
              "\n",
              "  .colab-df-quickchart {\n",
              "    background-color: var(--bg-color);\n",
              "    border: none;\n",
              "    border-radius: 50%;\n",
              "    cursor: pointer;\n",
              "    display: none;\n",
              "    fill: var(--fill-color);\n",
              "    height: 32px;\n",
              "    padding: 0;\n",
              "    width: 32px;\n",
              "  }\n",
              "\n",
              "  .colab-df-quickchart:hover {\n",
              "    background-color: var(--hover-bg-color);\n",
              "    box-shadow: 0 1px 2px rgba(60, 64, 67, 0.3), 0 1px 3px 1px rgba(60, 64, 67, 0.15);\n",
              "    fill: var(--button-hover-fill-color);\n",
              "  }\n",
              "\n",
              "  .colab-df-quickchart-complete:disabled,\n",
              "  .colab-df-quickchart-complete:disabled:hover {\n",
              "    background-color: var(--disabled-bg-color);\n",
              "    fill: var(--disabled-fill-color);\n",
              "    box-shadow: none;\n",
              "  }\n",
              "\n",
              "  .colab-df-spinner {\n",
              "    border: 2px solid var(--fill-color);\n",
              "    border-color: transparent;\n",
              "    border-bottom-color: var(--fill-color);\n",
              "    animation:\n",
              "      spin 1s steps(1) infinite;\n",
              "  }\n",
              "\n",
              "  @keyframes spin {\n",
              "    0% {\n",
              "      border-color: transparent;\n",
              "      border-bottom-color: var(--fill-color);\n",
              "      border-left-color: var(--fill-color);\n",
              "    }\n",
              "    20% {\n",
              "      border-color: transparent;\n",
              "      border-left-color: var(--fill-color);\n",
              "      border-top-color: var(--fill-color);\n",
              "    }\n",
              "    30% {\n",
              "      border-color: transparent;\n",
              "      border-left-color: var(--fill-color);\n",
              "      border-top-color: var(--fill-color);\n",
              "      border-right-color: var(--fill-color);\n",
              "    }\n",
              "    40% {\n",
              "      border-color: transparent;\n",
              "      border-right-color: var(--fill-color);\n",
              "      border-top-color: var(--fill-color);\n",
              "    }\n",
              "    60% {\n",
              "      border-color: transparent;\n",
              "      border-right-color: var(--fill-color);\n",
              "    }\n",
              "    80% {\n",
              "      border-color: transparent;\n",
              "      border-right-color: var(--fill-color);\n",
              "      border-bottom-color: var(--fill-color);\n",
              "    }\n",
              "    90% {\n",
              "      border-color: transparent;\n",
              "      border-bottom-color: var(--fill-color);\n",
              "    }\n",
              "  }\n",
              "</style>\n",
              "\n",
              "  <script>\n",
              "    async function quickchart(key) {\n",
              "      const quickchartButtonEl =\n",
              "        document.querySelector('#' + key + ' button');\n",
              "      quickchartButtonEl.disabled = true;  // To prevent multiple clicks.\n",
              "      quickchartButtonEl.classList.add('colab-df-spinner');\n",
              "      try {\n",
              "        const charts = await google.colab.kernel.invokeFunction(\n",
              "            'suggestCharts', [key], {});\n",
              "      } catch (error) {\n",
              "        console.error('Error during call to suggestCharts:', error);\n",
              "      }\n",
              "      quickchartButtonEl.classList.remove('colab-df-spinner');\n",
              "      quickchartButtonEl.classList.add('colab-df-quickchart-complete');\n",
              "    }\n",
              "    (() => {\n",
              "      let quickchartButtonEl =\n",
              "        document.querySelector('#df-12008fad-a85e-4dd6-990c-c0cc8610bb70 button');\n",
              "      quickchartButtonEl.style.display =\n",
              "        google.colab.kernel.accessAllowed ? 'block' : 'none';\n",
              "    })();\n",
              "  </script>\n",
              "</div>\n",
              "    </div>\n",
              "  </div>\n"
            ],
            "application/vnd.google.colaboratory.intrinsic+json": {
              "type": "dataframe",
              "variable_name": "summary_stat",
              "summary": "{\n  \"name\": \"summary_stat\",\n  \"rows\": 2,\n  \"fields\": [\n    {\n      \"column\": [\n        \"habit\",\n        \"\"\n      ],\n      \"properties\": {\n        \"dtype\": \"string\",\n        \"num_unique_values\": 2,\n        \"samples\": [\n          \"smoker\",\n          \"nonsmoker\"\n        ],\n        \"semantic_type\": \"\",\n        \"description\": \"\"\n      }\n    },\n    {\n      \"column\": [\n        \"weight\",\n        \"mean\"\n      ],\n      \"properties\": {\n        \"dtype\": \"number\",\n        \"std\": 0.2231222163355255,\n        \"min\": 6.828730158730158,\n        \"max\": 7.144272623138602,\n        \"num_unique_values\": 2,\n        \"samples\": [\n          6.828730158730158,\n          7.144272623138602\n        ],\n        \"semantic_type\": \"\",\n        \"description\": \"\"\n      }\n    },\n    {\n      \"column\": [\n        \"weight\",\n        \"median\"\n      ],\n      \"properties\": {\n        \"dtype\": \"number\",\n        \"std\": 0.1767766952966369,\n        \"min\": 7.06,\n        \"max\": 7.31,\n        \"num_unique_values\": 2,\n        \"samples\": [\n          7.06,\n          7.31\n        ],\n        \"semantic_type\": \"\",\n        \"description\": \"\"\n      }\n    },\n    {\n      \"column\": [\n        \"weight\",\n        \"std\"\n      ],\n      \"properties\": {\n        \"dtype\": \"number\",\n        \"std\": 0.09369223466792126,\n        \"min\": 1.386179777158495,\n        \"max\": 1.5186806061149118,\n        \"num_unique_values\": 2,\n        \"samples\": [\n          1.386179777158495,\n          1.5186806061149118\n        ],\n        \"semantic_type\": \"\",\n        \"description\": \"\"\n      }\n    },\n    {\n      \"column\": [\n        \"weight\",\n        \"len\"\n      ],\n      \"properties\": {\n        \"dtype\": \"number\",\n        \"std\": 528,\n        \"min\": 126,\n        \"max\": 873,\n        \"num_unique_values\": 2,\n        \"samples\": [\n          126,\n          873\n        ],\n        \"semantic_type\": \"\",\n        \"description\": \"\"\n      }\n    }\n  ]\n}"
            }
          },
          "metadata": {},
          "execution_count": 21
        }
      ],
      "source": [
        "summary_stat = nc_df.groupby('habit').agg({'weight': ['mean', 'median', 'std', len]})\n",
        "summary_stat"
      ]
    },
    {
      "cell_type": "markdown",
      "metadata": {
        "id": "1BnFxFMh_z-k"
      },
      "source": [
        "It appears that babies of smokers tend to have less weight, but is this difference statistically significant? In order to answer this question, we will conduct a hypothesis test."
      ]
    },
    {
      "cell_type": "markdown",
      "metadata": {
        "id": "cBT0Hs1l_z-k"
      },
      "source": [
        "### Hypothesis Test"
      ]
    },
    {
      "cell_type": "markdown",
      "metadata": {
        "id": "RZVLdqxb_z-k"
      },
      "source": [
        "Based on the our sample, the difference in the means of the baby weights for smokers and non-smokers is:"
      ]
    },
    {
      "cell_type": "code",
      "execution_count": 22,
      "metadata": {
        "id": "bNLPUpA3_z-l",
        "colab": {
          "base_uri": "https://localhost:8080/"
        },
        "outputId": "85f3a95c-4788-44dd-8827-4125eb40f306"
      },
      "outputs": [
        {
          "output_type": "stream",
          "name": "stdout",
          "text": [
            "0.32\n"
          ]
        }
      ],
      "source": [
        "non_smoker_mean = summary_stat.loc['nonsmoker'].loc['weight'].loc['mean']\n",
        "smoker_mean = summary_stat.loc['smoker'].loc['weight'].loc['mean']\n",
        "\n",
        "diff = non_smoker_mean - smoker_mean\n",
        "print('{:.2f}'.format(diff))"
      ]
    },
    {
      "cell_type": "markdown",
      "metadata": {
        "id": "EtEqLR34_z-l"
      },
      "source": [
        "We set up our hypotheses as follows:\n",
        "\n",
        "$H_0$ (null hypothesis): The true difference is 0.\n",
        "\n",
        "$H_A$ (alternative hypothesis): The true difference is not 0."
      ]
    },
    {
      "cell_type": "markdown",
      "metadata": {
        "id": "ZwuPwXO1_z-l"
      },
      "source": [
        "Now, we can use a $t$-test to compare the two means from the unpaired groups. We'll use the [`ttest_ind()`](https://docs.scipy.org/doc/scipy/reference/generated/scipy.stats.ttest_ind.html) function. This function assumes that the null hypothesis is that the difference between the two means is 0, while the alternative hypothesis is that the diference between them is not 0. We set the `equal_var` parameter to `False` because we don't want to assume that the population has equal variances."
      ]
    },
    {
      "cell_type": "code",
      "execution_count": 23,
      "metadata": {
        "id": "9eUQJ1go_z-l",
        "colab": {
          "base_uri": "https://localhost:8080/"
        },
        "outputId": "3a9380ce-0659-4261-fe1a-c5db838c77b4"
      },
      "outputs": [
        {
          "output_type": "execute_result",
          "data": {
            "text/plain": [
              "TtestResult(statistic=-2.3590109449335013, pvalue=0.01945055644373227, df=171.3246566624258)"
            ]
          },
          "metadata": {},
          "execution_count": 23
        }
      ],
      "source": [
        "ttest_ind(nc_df[nc_df['habit'] == 'smoker']['weight'],\n",
        "          nc_df[nc_df['habit'] == 'nonsmoker']['weight'],\n",
        "          equal_var = False)"
      ]
    },
    {
      "cell_type": "markdown",
      "metadata": {
        "id": "S3g-N6Oi_z-m"
      },
      "source": [
        "Note that you the function above is to perform a $t$-test for **independent means** (unpaired). We would need to use other functions if we need to perform tests for other groups. We leave this for you to find out."
      ]
    },
    {
      "cell_type": "markdown",
      "metadata": {
        "id": "_Qwu1k6o_z-m"
      },
      "source": [
        "**Question #9:** What can you conclude based on the $p$-value under a 5% significance level? Kindly state your conclusions properly.\n",
        "\n",
        "Answer:"
      ]
    },
    {
      "cell_type": "markdown",
      "metadata": {
        "id": "Me1P6qS0_z-m"
      },
      "source": [
        "**Question #10:** Can we say that smoking among mothers causes their babies to be lighter? Why or why not?\n",
        "\n",
        "Answer:"
      ]
    },
    {
      "cell_type": "markdown",
      "metadata": {
        "id": "4i7gHRyz_z-m"
      },
      "source": [
        "## 90% Confidence Interval"
      ]
    },
    {
      "cell_type": "markdown",
      "metadata": {
        "id": "67K6QfPc_z-n"
      },
      "source": [
        "Compute the **90%** confidence interval for the average baby weights using the `nc` dataset."
      ]
    },
    {
      "cell_type": "markdown",
      "metadata": {
        "id": "44TGTsM8_z-n"
      },
      "source": [
        "Compute and display the sample mean. No need to sample -- use the whole dataset."
      ]
    },
    {
      "cell_type": "code",
      "execution_count": 24,
      "metadata": {
        "id": "l1_ZlCMn_z-n",
        "colab": {
          "base_uri": "https://localhost:8080/"
        },
        "outputId": "8114fd08-5f86-4719-eb29-f54ddcdc950f"
      },
      "outputs": [
        {
          "output_type": "stream",
          "name": "stdout",
          "text": [
            "7.101\n"
          ]
        }
      ],
      "source": [
        "# Write your code here\n",
        "nc_df_mean = nc_df['weight'].mean()\n",
        "print(nc_df_mean)"
      ]
    },
    {
      "cell_type": "markdown",
      "metadata": {
        "id": "vwwfxrj5_z-n"
      },
      "source": [
        "**Question #11:** What is the sample mean? Limit to 2 decimal places.\n",
        "\n",
        "Answer: 7.10"
      ]
    },
    {
      "cell_type": "markdown",
      "metadata": {
        "id": "6AqOrd6L_z-n"
      },
      "source": [
        "Compute and display the minimum and maximum values in the 90% confidence interval. Use the variables from previous cells instead of using the actual values."
      ]
    },
    {
      "cell_type": "code",
      "execution_count": 25,
      "metadata": {
        "id": "zv6Ww3dQ_z-o",
        "colab": {
          "base_uri": "https://localhost:8080/"
        },
        "outputId": "dbd28555-ba1d-454f-dcdb-471bf2e4f075"
      },
      "outputs": [
        {
          "output_type": "stream",
          "name": "stdout",
          "text": [
            "Minimum Value:  7.022556128629838\n",
            "Maximum Value:  7.179443871370162\n"
          ]
        }
      ],
      "source": [
        "# Write your code here\n",
        "alpha = 0.10\n",
        "z_star_90_two_tailed = norm.ppf(1 - alpha / 2)\n",
        "\n",
        "N = len(nc_df['weight'])\n",
        "nc_pop_stdev = nc_df['weight'].std(ddof=0)\n",
        "margin_of_error_90_two_tailed = z_star_90_two_tailed * (nc_pop_stdev / np.sqrt(N))\n",
        "\n",
        "min_value = nc_df_mean - margin_of_error_90_two_tailed\n",
        "max_value = nc_df_mean + margin_of_error_90_two_tailed\n",
        "\n",
        "print(\"Minimum Value: \", min_value)\n",
        "print(\"Maximum Value: \", max_value)"
      ]
    },
    {
      "cell_type": "markdown",
      "metadata": {
        "id": "6uCmOiUd_z-o"
      },
      "source": [
        "**Question #12:** Specify the confidence interval (minimum value, maximum value). Limit to 2 decimal places.\n",
        "\n",
        "Answer: Min value(7.02), Max value(7.18)"
      ]
    }
  ],
  "metadata": {
    "kernelspec": {
      "display_name": "Python 3 (ipykernel)",
      "language": "python",
      "name": "python3"
    },
    "language_info": {
      "codemirror_mode": {
        "name": "ipython",
        "version": 3
      },
      "file_extension": ".py",
      "mimetype": "text/x-python",
      "name": "python",
      "nbconvert_exporter": "python",
      "pygments_lexer": "ipython3",
      "version": "3.9.13"
    },
    "colab": {
      "provenance": []
    }
  },
  "nbformat": 4,
  "nbformat_minor": 0
}